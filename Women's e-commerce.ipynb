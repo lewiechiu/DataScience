{
 "cells": [
  {
   "cell_type": "markdown",
   "metadata": {},
   "source": [
    "In this session, I plan do some text analysis about the Review text. In the final part, I plan to build a text classifier using encoding techniques.\n",
    "\n",
    "## Dataset:\n",
    "The dataset comes from kaggle's [Women review of clothes](https://www.kaggle.com/nicapotato/womens-ecommerce-clothing-reviews/downloads/womens-ecommerce-clothing-reviews.zip/1)\n",
    "\n",
    "## Why I choose Kaggle's dataset?\n",
    "* I am too lasy to collect my own :). \n",
    "* It is really time consuming and annoying to collect data with such high quality and quantity \n",
    "\n",
    "## TODO\n",
    "* EDAs\n",
    "* Convert text into some kind of encoding.\n",
    "* Building a text classifier\n",
    "\n",
    "## Task\n",
    "For each review text, I will be trying to build a classifier in telling whether this text suggest us to recommend or not. Before the classification process, I should perform some"
   ]
  },
  {
   "cell_type": "code",
   "execution_count": 1,
   "metadata": {},
   "outputs": [],
   "source": [
    "## Import the required packages\n",
    "import pandas as pd\n",
    "import numpy as np\n",
    "import matplotlib.pyplot as plt\n",
    "\n",
    "## Confusion Matrix\n",
    "from sklearn.metrics import confusion_matrix\n",
    "from sklearn.utils.multiclass import unique_labels"
   ]
  },
  {
   "cell_type": "markdown",
   "metadata": {},
   "source": [
    "# EDAs\n",
    "I will look into some of the basic features like distribution, unique values..., etc."
   ]
  },
  {
   "cell_type": "code",
   "execution_count": 2,
   "metadata": {},
   "outputs": [
    {
     "data": {
      "text/html": [
       "<div>\n",
       "<style scoped>\n",
       "    .dataframe tbody tr th:only-of-type {\n",
       "        vertical-align: middle;\n",
       "    }\n",
       "\n",
       "    .dataframe tbody tr th {\n",
       "        vertical-align: top;\n",
       "    }\n",
       "\n",
       "    .dataframe thead th {\n",
       "        text-align: right;\n",
       "    }\n",
       "</style>\n",
       "<table border=\"1\" class=\"dataframe\">\n",
       "  <thead>\n",
       "    <tr style=\"text-align: right;\">\n",
       "      <th></th>\n",
       "      <th>Unnamed: 0</th>\n",
       "      <th>Clothing ID</th>\n",
       "      <th>Age</th>\n",
       "      <th>Title</th>\n",
       "      <th>Review Text</th>\n",
       "      <th>Rating</th>\n",
       "      <th>Recommended IND</th>\n",
       "      <th>Positive Feedback Count</th>\n",
       "      <th>Division Name</th>\n",
       "      <th>Department Name</th>\n",
       "      <th>Class Name</th>\n",
       "    </tr>\n",
       "  </thead>\n",
       "  <tbody>\n",
       "    <tr>\n",
       "      <th>0</th>\n",
       "      <td>0</td>\n",
       "      <td>767</td>\n",
       "      <td>33</td>\n",
       "      <td>NaN</td>\n",
       "      <td>Absolutely wonderful - silky and sexy and comf...</td>\n",
       "      <td>4</td>\n",
       "      <td>1</td>\n",
       "      <td>0</td>\n",
       "      <td>Initmates</td>\n",
       "      <td>Intimate</td>\n",
       "      <td>Intimates</td>\n",
       "    </tr>\n",
       "    <tr>\n",
       "      <th>1</th>\n",
       "      <td>1</td>\n",
       "      <td>1080</td>\n",
       "      <td>34</td>\n",
       "      <td>NaN</td>\n",
       "      <td>Love this dress!  it's sooo pretty.  i happene...</td>\n",
       "      <td>5</td>\n",
       "      <td>1</td>\n",
       "      <td>4</td>\n",
       "      <td>General</td>\n",
       "      <td>Dresses</td>\n",
       "      <td>Dresses</td>\n",
       "    </tr>\n",
       "    <tr>\n",
       "      <th>2</th>\n",
       "      <td>2</td>\n",
       "      <td>1077</td>\n",
       "      <td>60</td>\n",
       "      <td>Some major design flaws</td>\n",
       "      <td>I had such high hopes for this dress and reall...</td>\n",
       "      <td>3</td>\n",
       "      <td>0</td>\n",
       "      <td>0</td>\n",
       "      <td>General</td>\n",
       "      <td>Dresses</td>\n",
       "      <td>Dresses</td>\n",
       "    </tr>\n",
       "    <tr>\n",
       "      <th>3</th>\n",
       "      <td>3</td>\n",
       "      <td>1049</td>\n",
       "      <td>50</td>\n",
       "      <td>My favorite buy!</td>\n",
       "      <td>I love, love, love this jumpsuit. it's fun, fl...</td>\n",
       "      <td>5</td>\n",
       "      <td>1</td>\n",
       "      <td>0</td>\n",
       "      <td>General Petite</td>\n",
       "      <td>Bottoms</td>\n",
       "      <td>Pants</td>\n",
       "    </tr>\n",
       "    <tr>\n",
       "      <th>4</th>\n",
       "      <td>4</td>\n",
       "      <td>847</td>\n",
       "      <td>47</td>\n",
       "      <td>Flattering shirt</td>\n",
       "      <td>This shirt is very flattering to all due to th...</td>\n",
       "      <td>5</td>\n",
       "      <td>1</td>\n",
       "      <td>6</td>\n",
       "      <td>General</td>\n",
       "      <td>Tops</td>\n",
       "      <td>Blouses</td>\n",
       "    </tr>\n",
       "  </tbody>\n",
       "</table>\n",
       "</div>"
      ],
      "text/plain": [
       "   Unnamed: 0  Clothing ID  Age                    Title  \\\n",
       "0           0          767   33                      NaN   \n",
       "1           1         1080   34                      NaN   \n",
       "2           2         1077   60  Some major design flaws   \n",
       "3           3         1049   50         My favorite buy!   \n",
       "4           4          847   47         Flattering shirt   \n",
       "\n",
       "                                         Review Text  Rating  Recommended IND  \\\n",
       "0  Absolutely wonderful - silky and sexy and comf...       4                1   \n",
       "1  Love this dress!  it's sooo pretty.  i happene...       5                1   \n",
       "2  I had such high hopes for this dress and reall...       3                0   \n",
       "3  I love, love, love this jumpsuit. it's fun, fl...       5                1   \n",
       "4  This shirt is very flattering to all due to th...       5                1   \n",
       "\n",
       "   Positive Feedback Count   Division Name Department Name Class Name  \n",
       "0                        0       Initmates        Intimate  Intimates  \n",
       "1                        4         General         Dresses    Dresses  \n",
       "2                        0         General         Dresses    Dresses  \n",
       "3                        0  General Petite         Bottoms      Pants  \n",
       "4                        6         General            Tops    Blouses  "
      ]
     },
     "execution_count": 2,
     "metadata": {},
     "output_type": "execute_result"
    }
   ],
   "source": [
    "df = pd.read_csv(\"Womens Clothing E-Commerce Reviews.csv\")\n",
    "df.head()"
   ]
  },
  {
   "cell_type": "code",
   "execution_count": 3,
   "metadata": {},
   "outputs": [
    {
     "name": "stdout",
     "output_type": "stream",
     "text": [
      "<class 'pandas.core.frame.DataFrame'>\n",
      "RangeIndex: 23486 entries, 0 to 23485\n",
      "Data columns (total 11 columns):\n",
      "Unnamed: 0                 23486 non-null int64\n",
      "Clothing ID                23486 non-null int64\n",
      "Age                        23486 non-null int64\n",
      "Title                      19676 non-null object\n",
      "Review Text                22641 non-null object\n",
      "Rating                     23486 non-null int64\n",
      "Recommended IND            23486 non-null int64\n",
      "Positive Feedback Count    23486 non-null int64\n",
      "Division Name              23472 non-null object\n",
      "Department Name            23472 non-null object\n",
      "Class Name                 23472 non-null object\n",
      "dtypes: int64(6), object(5)\n",
      "memory usage: 2.0+ MB\n"
     ]
    }
   ],
   "source": [
    "df.info()"
   ]
  },
  {
   "cell_type": "code",
   "execution_count": 4,
   "metadata": {},
   "outputs": [
    {
     "data": {
      "text/html": [
       "<div>\n",
       "<style scoped>\n",
       "    .dataframe tbody tr th:only-of-type {\n",
       "        vertical-align: middle;\n",
       "    }\n",
       "\n",
       "    .dataframe tbody tr th {\n",
       "        vertical-align: top;\n",
       "    }\n",
       "\n",
       "    .dataframe thead th {\n",
       "        text-align: right;\n",
       "    }\n",
       "</style>\n",
       "<table border=\"1\" class=\"dataframe\">\n",
       "  <thead>\n",
       "    <tr style=\"text-align: right;\">\n",
       "      <th></th>\n",
       "      <th>Unnamed: 0</th>\n",
       "      <th>Clothing ID</th>\n",
       "      <th>Age</th>\n",
       "      <th>Rating</th>\n",
       "      <th>Recommended IND</th>\n",
       "      <th>Positive Feedback Count</th>\n",
       "    </tr>\n",
       "  </thead>\n",
       "  <tbody>\n",
       "    <tr>\n",
       "      <th>count</th>\n",
       "      <td>23486.000000</td>\n",
       "      <td>23486.000000</td>\n",
       "      <td>23486.000000</td>\n",
       "      <td>23486.000000</td>\n",
       "      <td>23486.000000</td>\n",
       "      <td>23486.000000</td>\n",
       "    </tr>\n",
       "    <tr>\n",
       "      <th>mean</th>\n",
       "      <td>11742.500000</td>\n",
       "      <td>918.118709</td>\n",
       "      <td>43.198544</td>\n",
       "      <td>4.196032</td>\n",
       "      <td>0.822362</td>\n",
       "      <td>2.535936</td>\n",
       "    </tr>\n",
       "    <tr>\n",
       "      <th>std</th>\n",
       "      <td>6779.968547</td>\n",
       "      <td>203.298980</td>\n",
       "      <td>12.279544</td>\n",
       "      <td>1.110031</td>\n",
       "      <td>0.382216</td>\n",
       "      <td>5.702202</td>\n",
       "    </tr>\n",
       "    <tr>\n",
       "      <th>min</th>\n",
       "      <td>0.000000</td>\n",
       "      <td>0.000000</td>\n",
       "      <td>18.000000</td>\n",
       "      <td>1.000000</td>\n",
       "      <td>0.000000</td>\n",
       "      <td>0.000000</td>\n",
       "    </tr>\n",
       "    <tr>\n",
       "      <th>25%</th>\n",
       "      <td>5871.250000</td>\n",
       "      <td>861.000000</td>\n",
       "      <td>34.000000</td>\n",
       "      <td>4.000000</td>\n",
       "      <td>1.000000</td>\n",
       "      <td>0.000000</td>\n",
       "    </tr>\n",
       "    <tr>\n",
       "      <th>50%</th>\n",
       "      <td>11742.500000</td>\n",
       "      <td>936.000000</td>\n",
       "      <td>41.000000</td>\n",
       "      <td>5.000000</td>\n",
       "      <td>1.000000</td>\n",
       "      <td>1.000000</td>\n",
       "    </tr>\n",
       "    <tr>\n",
       "      <th>75%</th>\n",
       "      <td>17613.750000</td>\n",
       "      <td>1078.000000</td>\n",
       "      <td>52.000000</td>\n",
       "      <td>5.000000</td>\n",
       "      <td>1.000000</td>\n",
       "      <td>3.000000</td>\n",
       "    </tr>\n",
       "    <tr>\n",
       "      <th>max</th>\n",
       "      <td>23485.000000</td>\n",
       "      <td>1205.000000</td>\n",
       "      <td>99.000000</td>\n",
       "      <td>5.000000</td>\n",
       "      <td>1.000000</td>\n",
       "      <td>122.000000</td>\n",
       "    </tr>\n",
       "  </tbody>\n",
       "</table>\n",
       "</div>"
      ],
      "text/plain": [
       "         Unnamed: 0   Clothing ID           Age        Rating  \\\n",
       "count  23486.000000  23486.000000  23486.000000  23486.000000   \n",
       "mean   11742.500000    918.118709     43.198544      4.196032   \n",
       "std     6779.968547    203.298980     12.279544      1.110031   \n",
       "min        0.000000      0.000000     18.000000      1.000000   \n",
       "25%     5871.250000    861.000000     34.000000      4.000000   \n",
       "50%    11742.500000    936.000000     41.000000      5.000000   \n",
       "75%    17613.750000   1078.000000     52.000000      5.000000   \n",
       "max    23485.000000   1205.000000     99.000000      5.000000   \n",
       "\n",
       "       Recommended IND  Positive Feedback Count  \n",
       "count     23486.000000             23486.000000  \n",
       "mean          0.822362                 2.535936  \n",
       "std           0.382216                 5.702202  \n",
       "min           0.000000                 0.000000  \n",
       "25%           1.000000                 0.000000  \n",
       "50%           1.000000                 1.000000  \n",
       "75%           1.000000                 3.000000  \n",
       "max           1.000000               122.000000  "
      ]
     },
     "execution_count": 4,
     "metadata": {},
     "output_type": "execute_result"
    }
   ],
   "source": [
    "df.describe()"
   ]
  },
  {
   "cell_type": "markdown",
   "metadata": {},
   "source": [
    "Since we are mostly dealing with text or categorical data, not Interval data. It seems useless to summarize the int data with statistics."
   ]
  },
  {
   "cell_type": "code",
   "execution_count": 5,
   "metadata": {},
   "outputs": [
    {
     "data": {
      "text/html": [
       "<div>\n",
       "<style scoped>\n",
       "    .dataframe tbody tr th:only-of-type {\n",
       "        vertical-align: middle;\n",
       "    }\n",
       "\n",
       "    .dataframe tbody tr th {\n",
       "        vertical-align: top;\n",
       "    }\n",
       "\n",
       "    .dataframe thead th {\n",
       "        text-align: right;\n",
       "    }\n",
       "</style>\n",
       "<table border=\"1\" class=\"dataframe\">\n",
       "  <thead>\n",
       "    <tr style=\"text-align: right;\">\n",
       "      <th></th>\n",
       "      <th>unique</th>\n",
       "      <th>top</th>\n",
       "      <th>freq</th>\n",
       "    </tr>\n",
       "  </thead>\n",
       "  <tbody>\n",
       "    <tr>\n",
       "      <th>Title</th>\n",
       "      <td>13993</td>\n",
       "      <td>Love it!</td>\n",
       "      <td>136</td>\n",
       "    </tr>\n",
       "    <tr>\n",
       "      <th>Division Name</th>\n",
       "      <td>3</td>\n",
       "      <td>General</td>\n",
       "      <td>13850</td>\n",
       "    </tr>\n",
       "    <tr>\n",
       "      <th>Department Name</th>\n",
       "      <td>6</td>\n",
       "      <td>Tops</td>\n",
       "      <td>10468</td>\n",
       "    </tr>\n",
       "    <tr>\n",
       "      <th>Class Name</th>\n",
       "      <td>20</td>\n",
       "      <td>Dresses</td>\n",
       "      <td>6319</td>\n",
       "    </tr>\n",
       "  </tbody>\n",
       "</table>\n",
       "</div>"
      ],
      "text/plain": [
       "                unique       top   freq\n",
       "Title            13993  Love it!    136\n",
       "Division Name        3   General  13850\n",
       "Department Name      6      Tops  10468\n",
       "Class Name          20   Dresses   6319"
      ]
     },
     "execution_count": 5,
     "metadata": {},
     "output_type": "execute_result"
    }
   ],
   "source": [
    "df[[\"Title\", \"Division Name\",\"Department Name\",\"Class Name\"]].describe(include=[\"O\"]).T.drop(\"count\",axis=1)"
   ]
  },
  {
   "cell_type": "markdown",
   "metadata": {},
   "source": [
    "## Recommend Index\n",
    "I will see how many entries of reivew recommends the good."
   ]
  },
  {
   "cell_type": "code",
   "execution_count": 6,
   "metadata": {},
   "outputs": [
    {
     "data": {
      "image/png": "[encoded data removed]",
      "text/plain": [
       "<Figure size 432x288 with 1 Axes>"
      ]
     },
     "metadata": {},
     "output_type": "display_data"
    },
    {
     "name": "stdout",
     "output_type": "stream",
     "text": [
      "0s: 4172\n",
      "1s: 19314\n"
     ]
    }
   ],
   "source": [
    "plt.hist(df[\"Recommended IND\"])\n",
    "plt.title(\"Recommend or not\")\n",
    "plt.show()\n",
    "print(\"0s:\",sum(df[\"Recommended IND\"]==0))\n",
    "print(\"1s:\",sum(df[\"Recommended IND\"]==1))"
   ]
  },
  {
   "cell_type": "markdown",
   "metadata": {},
   "source": [
    "From the above statistics, we see that it is a rather biased sample. Since we have roughly 4 times the recommended data than the not recommend data."
   ]
  },
  {
   "cell_type": "markdown",
   "metadata": {},
   "source": [
    "## Ages:\n",
    "Now as previous mentioned, we will focus on different age groups see how their response differs."
   ]
  },
  {
   "cell_type": "code",
   "execution_count": 7,
   "metadata": {},
   "outputs": [
    {
     "data": {
      "image/png": "[encoded data removed]",
      "text/plain": [
       "<Figure size 432x288 with 1 Axes>"
      ]
     },
     "metadata": {},
     "output_type": "display_data"
    },
    {
     "data": {
      "text/plain": [
       "count    23486.000000\n",
       "mean        43.198544\n",
       "std         12.279544\n",
       "min         18.000000\n",
       "25%         34.000000\n",
       "50%         41.000000\n",
       "75%         52.000000\n",
       "max         99.000000\n",
       "Name: Age, dtype: float64"
      ]
     },
     "execution_count": 7,
     "metadata": {},
     "output_type": "execute_result"
    }
   ],
   "source": [
    "ages = df[\"Age\"]\n",
    "plt.hist(ages,bins=50)\n",
    "plt.title(\"Age distribution\")\n",
    "plt.show()\n",
    "ages.describe()"
   ]
  },
  {
   "cell_type": "markdown",
   "metadata": {},
   "source": [
    "It seems to me that this follows a normal distribution of age. What we might found interesting is the 50% quantile of the response. I thought it might be some age close to 30- 35 but it turns out to be some age close to 41."
   ]
  },
  {
   "cell_type": "markdown",
   "metadata": {},
   "source": [
    "## Positive Feedback count\n"
   ]
  },
  {
   "cell_type": "code",
   "execution_count": 8,
   "metadata": {},
   "outputs": [
    {
     "data": {
      "image/png": "[encoded data removed]",
      "text/plain": [
       "<Figure size 432x288 with 1 Axes>"
      ]
     },
     "metadata": {},
     "output_type": "display_data"
    }
   ],
   "source": [
    "plt.hist(df[\"Positive Feedback Count\"],bins=40)\n",
    "plt.title(\"Positive Feedback distribution\")\n",
    "plt.show()"
   ]
  },
  {
   "cell_type": "code",
   "execution_count": 9,
   "metadata": {},
   "outputs": [
    {
     "data": {
      "image/png": "[encoded data removed]",
      "text/plain": [
       "<Figure size 432x288 with 1 Axes>"
      ]
     },
     "metadata": {},
     "output_type": "display_data"
    }
   ],
   "source": [
    "plt.hist(np.log2(df[\"Positive Feedback Count\"]+1),bins=40)\n",
    "plt.title(\"Positive Feedback log2 based distribution \")\n",
    "plt.show()"
   ]
  },
  {
   "cell_type": "markdown",
   "metadata": {},
   "source": [
    "## Ratings Distribution"
   ]
  },
  {
   "cell_type": "code",
   "execution_count": 10,
   "metadata": {},
   "outputs": [
    {
     "data": {
      "image/png": "[encoded data removed]",
      "text/plain": [
       "<Figure size 432x288 with 1 Axes>"
      ]
     },
     "metadata": {},
     "output_type": "display_data"
    }
   ],
   "source": [
    "ratings = df[\"Rating\"]\n",
    "plt.hist(ratings)\n",
    "plt.title(\"Ratings distribution\")\n",
    "plt.show()"
   ]
  },
  {
   "cell_type": "markdown",
   "metadata": {},
   "source": [
    "From the distribution of ratings, we see that the majority of the ratings are more than 4 points."
   ]
  },
  {
   "cell_type": "code",
   "execution_count": 11,
   "metadata": {},
   "outputs": [
    {
     "name": "stdout",
     "output_type": "stream",
     "text": [
      "Unnamed: 0 has different unique values: 23486\n",
      "Clothing ID has different unique values: 1206\n",
      "Age has different unique values: 77\n",
      "Title has different unique values: 13994\n",
      "Review Text has different unique values: 22635\n",
      "Rating has different unique values: 5\n",
      "Recommended IND has different unique values: 2\n",
      "Positive Feedback Count has different unique values: 82\n",
      "Division Name has different unique values: 4\n",
      "Department Name has different unique values: 7\n",
      "Class Name has different unique values: 21\n"
     ]
    }
   ],
   "source": [
    "for i in df:\n",
    "    print(i,'has different unique values:',len(set(df[i][:])))    "
   ]
  },
  {
   "cell_type": "markdown",
   "metadata": {},
   "source": [
    "## Goal\n",
    "I want to try to find out what are some features that might exist in the review text for those who recommend the item. "
   ]
  },
  {
   "cell_type": "markdown",
   "metadata": {},
   "source": [
    "## Tasks\n",
    "* Normalization\n",
    "    * \"played\", \"plays\", \"playing\" --> \"play\"\n",
    "* Stop words, punctuation\n",
    "* Word2Vec embeddings"
   ]
  },
  {
   "cell_type": "markdown",
   "metadata": {},
   "source": [
    "## Text Preprocessing\n",
    "This section, I will be introducing two kinds of preprocessing techniques. Because we are dealing with English, we can have a much more wider and accurate library support. For instance, NLTK, Gensim, sklearn's text ..., etc. "
   ]
  },
  {
   "cell_type": "code",
   "execution_count": 12,
   "metadata": {},
   "outputs": [],
   "source": [
    "import nltk\n",
    "from nltk.corpus import stopwords\n",
    "\n",
    "# Using NLTK's stop word list\n",
    "stop_words = set(stopwords.words('english'))\n",
    "\n",
    "# TFIDF parts\n",
    "from sklearn.feature_extraction import text\n",
    "from sklearn.feature_extraction.text import TfidfVectorizer"
   ]
  },
  {
   "cell_type": "code",
   "execution_count": 13,
   "metadata": {},
   "outputs": [
    {
     "data": {
      "text/plain": [
       "'I love tracy reese dresses, but this one is not for the very petite. i am just under 5 feet tall and usually wear a 0p in this brand. this dress was very pretty out of the package but its a lot of dress. the skirt is long and very full so it overwhelmed my small frame. not a stranger to alterations, shortening and narrowing the skirt would take away from the embellishment of the garment. i love the color and the idea of the style but it just did not work on me. i returned this dress.'"
      ]
     },
     "execution_count": 13,
     "metadata": {},
     "output_type": "execute_result"
    }
   ],
   "source": [
    "df['Review Text'][5]"
   ]
  },
  {
   "cell_type": "markdown",
   "metadata": {},
   "source": [
    "The above text is only a random sample of how a review might look like in the data. Important part here is that we may not want some words like \"I\", \"is\", \"am\"."
   ]
  },
  {
   "cell_type": "markdown",
   "metadata": {},
   "source": [
    "This part cleans up and **removes noise**, inspired by [here](https://www.kaggle.com/josh24990/nlp-ml-which-words-predict-a-recommendation#Machine-Learning-with-text-data). We will be doing the following noise removal\n",
    "* Make all letters to lower cases.\n",
    "* Strip away all the unnecessary spaces.\n",
    "* Remove all the non-character signs\n",
    "* remove Punctuations\n",
    "* Remove numbers\n",
    "* Remove *Stop_words*\n",
    "    * *Stop_words* are a set of words defined in NLTK."
   ]
  },
  {
   "cell_type": "code",
   "execution_count": 14,
   "metadata": {},
   "outputs": [],
   "source": [
    "df['Review Text'].fillna('unknown', inplace=True)\n",
    "\n",
    "# To lower\n",
    "df['Review Text'] =df['Review Text'].apply(lambda x: \" \".join(x.lower() for x in x.split()))\n",
    "# strip space\n",
    "df['Review Text'] = df['Review Text'].apply(lambda x: \" \".join(x.strip() for x in x.split()))\n",
    "# remove non-word\n",
    "df['Review Text'] = df['Review Text'].apply(lambda x: \"\".join([\" \" if ord(i) < 32 or ord(i) > 126 else i for i in x]))\n",
    "# remove punctiation\n",
    "df['Review Text'] = df['Review Text'][:].str.replace('[^\\w\\s]', '')\n",
    "# remove number\n",
    "df['Review Text'] = df['Review Text'][:].str.replace('\\d+', '')\n",
    "# remove stop word\n",
    "df['Review Text'] = df['Review Text'].apply(lambda x: ' '.join([word for word in x.split() if word not in (stop_words)]))\n"
   ]
  },
  {
   "cell_type": "code",
   "execution_count": 15,
   "metadata": {},
   "outputs": [
    {
     "data": {
      "text/plain": [
       "'love tracy reese dresses one petite feet tall usually wear p brand dress pretty package lot dress skirt long full overwhelmed small frame stranger alterations shortening narrowing skirt would take away embellishment garment love color idea style work returned dress'"
      ]
     },
     "execution_count": 15,
     "metadata": {},
     "output_type": "execute_result"
    }
   ],
   "source": [
    "df['Review Text'][5]"
   ]
  },
  {
   "cell_type": "markdown",
   "metadata": {},
   "source": [
    "The above is the shortened version of text, We can now see that this is a much more focused text concerning different items review. Because most identifiable words are removed, it seems a bit hard to interprete what the text is trying to tell us.\n",
    "## Lexicon Normalization\n",
    "This is a cool part of how to align many different variations of a word. Easily put, the \"normalization process\" or **stemming** will reduce the variation of a word back to its original form(a.k.a. stemming). For example, \"play\" can have other form like \"played\", \"plays\", \"playing\". Although they have different meanings, but contextually they are the same thing. These variaties all mean the same thing --> \"PLAY\", so we will reduce them back to \"PLAY\". \n",
    "\n",
    "It is a useful techniques when we want to reduce high dimensional features (like a paragraph of text) into a lower one."
   ]
  },
  {
   "cell_type": "code",
   "execution_count": 16,
   "metadata": {},
   "outputs": [],
   "source": [
    "w_tokenizer = nltk.tokenize.WhitespaceTokenizer()\n",
    "lemmatizer = nltk.stem.WordNetLemmatizer()\n",
    "\n",
    "def lemmatize_text(text):\n",
    "    return [lemmatizer.lemmatize(w) for w in w_tokenizer.tokenize(text)]\n",
    "\n",
    "df['Review Text'] = df['Review Text'].apply(lemmatize_text)\n",
    "\n",
    "df['Review Text'] = df['Review Text'].apply(lambda x: \" \".join(x))\n",
    "# transform this into a function.\n",
    "# apply function for each and every one of the entity\n"
   ]
  },
  {
   "cell_type": "code",
   "execution_count": 17,
   "metadata": {},
   "outputs": [
    {
     "data": {
      "text/plain": [
       "'love tracy reese dress one petite foot tall usually wear p brand dress pretty package lot dress skirt long full overwhelmed small frame stranger alteration shortening narrowing skirt would take away embellishment garment love color idea style work returned dress'"
      ]
     },
     "execution_count": 17,
     "metadata": {},
     "output_type": "execute_result"
    }
   ],
   "source": [
    "df['Review Text'][5]"
   ]
  },
  {
   "cell_type": "markdown",
   "metadata": {},
   "source": [
    "## Classification\n",
    "Finally, after the tedious text preprocessing stage, we can now start to build a text classifier. "
   ]
  },
  {
   "cell_type": "code",
   "execution_count": 18,
   "metadata": {},
   "outputs": [],
   "source": [
    "# LinearSVC\n",
    "from sklearn.svm import LinearSVC\n",
    "from sklearn.metrics import accuracy_score\n",
    "\n",
    "# Random Forrest\n",
    "from sklearn.ensemble import RandomForestClassifier\n",
    "from sklearn.model_selection import train_test_split"
   ]
  },
  {
   "cell_type": "markdown",
   "metadata": {},
   "source": [
    "## Tf-IDF\n",
    "Well, I didn't opt for BOW (bag of word) because it may create a much sparse matrix then using TF-IDF. \n",
    "\n",
    "### N-gram"
   ]
  },
  {
   "cell_type": "code",
   "execution_count": 19,
   "metadata": {},
   "outputs": [],
   "source": [
    "tfidf_matrix = TfidfVectorizer(analyzer='word', ngram_range=(1,2),min_df=0.005, max_df = 0.95)\n",
    "tfidf_m = tfidf_matrix.fit_transform(df['Review Text'])"
   ]
  },
  {
   "cell_type": "code",
   "execution_count": 20,
   "metadata": {},
   "outputs": [
    {
     "name": "stdout",
     "output_type": "stream",
     "text": [
      "percentage of non-zero values in the matrix: 2.3618672%\n"
     ]
    }
   ],
   "source": [
    "print('percentage of non-zero values in the matrix: %f2'%(100*tfidf_m.nnz/(tfidf_m.shape[1]*tfidf_m.shape[0])),'%',sep='')"
   ]
  },
  {
   "cell_type": "markdown",
   "metadata": {},
   "source": [
    "Lets look at how the TF-IDF table would look like"
   ]
  },
  {
   "cell_type": "code",
   "execution_count": 52,
   "metadata": {},
   "outputs": [
    {
     "data": {
      "text/plain": [
       "<23486x966 sparse matrix of type '<class 'numpy.float64'>'\n",
       "\twith 535848 stored elements in Compressed Sparse Row format>"
      ]
     },
     "execution_count": 52,
     "metadata": {},
     "output_type": "execute_result"
    }
   ],
   "source": [
    "tfidf_m"
   ]
  },
  {
   "cell_type": "code",
   "execution_count": 54,
   "metadata": {},
   "outputs": [
    {
     "name": "stdout",
     "output_type": "stream",
     "text": [
      "966\n"
     ]
    },
    {
     "data": {
      "text/plain": [
       "<1x966 sparse matrix of type '<class 'numpy.float64'>'\n",
       "\twith 5 stored elements in Compressed Sparse Row format>"
      ]
     },
     "execution_count": 54,
     "metadata": {},
     "output_type": "execute_result"
    }
   ],
   "source": [
    "column_names = tfidf_matrix.get_feature_names()\n",
    "print(len(column_names))\n",
    "TFIDF = pd.DataFrame(tfidf_m)\n",
    "\n",
    "TFIDF[0][0]"
   ]
  },
  {
   "cell_type": "markdown",
   "metadata": {},
   "source": [
    "## Generate train test data split"
   ]
  },
  {
   "cell_type": "code",
   "execution_count": 21,
   "metadata": {},
   "outputs": [
    {
     "data": {
      "text/plain": [
       "(21137, 966)"
      ]
     },
     "execution_count": 21,
     "metadata": {},
     "output_type": "execute_result"
    }
   ],
   "source": [
    "x_train, x_test, y_train, y_test = train_test_split(tfidf_m,df['Recommended IND'], test_size=0.1, random_state=705023)\n",
    "x_train.shape"
   ]
  },
  {
   "cell_type": "markdown",
   "metadata": {},
   "source": [
    "## LinearSVC"
   ]
  },
  {
   "cell_type": "code",
   "execution_count": 22,
   "metadata": {},
   "outputs": [
    {
     "name": "stdout",
     "output_type": "stream",
     "text": [
      "total amount of data in the test set 2349\n",
      "Wrong Answer False positive, False Negative: 233\n",
      "Percentage of WAs: 0.099191\n"
     ]
    }
   ],
   "source": [
    "model = LinearSVC()\n",
    "model.fit(x_train, y_train)\n",
    "y_pred = model.predict(x_test)\n",
    "\n",
    "print(\"total amount of data in the test set %d\"%(len(y_test)))\n",
    "print(\"Wrong Answer False positive, False Negative:\", sum(abs(y_pred - y_test)))\n",
    "print('Percentage of WAs: %f'%(sum(abs(y_pred - y_test)) / len(y_pred)))"
   ]
  },
  {
   "cell_type": "markdown",
   "metadata": {},
   "source": [
    "## Confusion Matrix for LinearSVC"
   ]
  },
  {
   "cell_type": "code",
   "execution_count": 23,
   "metadata": {},
   "outputs": [
    {
     "data": {
      "text/plain": [
       "array([[0.74404762, 0.07302534],\n",
       "       [0.25595238, 0.92697466]])"
      ]
     },
     "execution_count": 23,
     "metadata": {},
     "output_type": "execute_result"
    }
   ],
   "source": [
    "conf_m = confusion_matrix(y_true= y_test, y_pred=y_pred) \n",
    "conf_m = conf_m / sum(conf_m)\n",
    "conf_m"
   ]
  },
  {
   "cell_type": "markdown",
   "metadata": {},
   "source": [
    "From the above confusion matrix, we see that the simplest linear SVC has a true-positive ,true-negative being 0.744, 0.927. While the false-positive and false-negative being 25% and 7.3%"
   ]
  },
  {
   "cell_type": "markdown",
   "metadata": {},
   "source": [
    "## Random Forrest"
   ]
  },
  {
   "cell_type": "code",
   "execution_count": 24,
   "metadata": {},
   "outputs": [],
   "source": [
    "from sklearn.ensemble import RandomForestClassifier"
   ]
  },
  {
   "cell_type": "code",
   "execution_count": 25,
   "metadata": {},
   "outputs": [
    {
     "name": "stderr",
     "output_type": "stream",
     "text": [
      "/usr/local/lib/python3.5/dist-packages/sklearn/ensemble/forest.py:246: FutureWarning: The default value of n_estimators will change from 10 in version 0.20 to 100 in 0.22.\n",
      "  \"10 in version 0.20 to 100 in 0.22.\", FutureWarning)\n"
     ]
    },
    {
     "name": "stdout",
     "output_type": "stream",
     "text": [
      "total amount of data in the test set 2349\n",
      "Wrong Answer False positive, False Negative: 317\n",
      "Percentage of WAs: 0.134951\n"
     ]
    },
    {
     "data": {
      "text/plain": [
       "array([[0.63888889, 0.10334789],\n",
       "       [0.36111111, 0.89665211]])"
      ]
     },
     "execution_count": 25,
     "metadata": {},
     "output_type": "execute_result"
    }
   ],
   "source": [
    "rfcl = RandomForestClassifier()\n",
    "rfcl.fit(x_train,y_train)\n",
    "\n",
    "y_pred = rfcl.predict(x_test)\n",
    "print(\"total amount of data in the test set %d\"%(len(y_test)))\n",
    "print(\"Wrong Answer False positive, False Negative:\", sum(abs(y_pred - y_test)))\n",
    "print('Percentage of WAs: %f'%(sum(abs(y_pred - y_test)) / len(y_pred)))\n",
    "conf_m = confusion_matrix(y_true= y_test, y_pred=y_pred) \n",
    "conf_m = conf_m / sum(conf_m)\n",
    "conf_m"
   ]
  },
  {
   "cell_type": "markdown",
   "metadata": {},
   "source": [
    "## Comparisons between preprocessing the text data and non-preprocessed ones.\n",
    "One may argue that the preprocessed ones have lost some important features and it may cause the categorical classifier to perform in an unexpected way. I will prove that this is a wrong "
   ]
  },
  {
   "cell_type": "markdown",
   "metadata": {},
   "source": [
    "## Most important features\n",
    "Remember what we mentioned in the starting section, I will try to find out what is the most important part of text in the review.\n",
    "\n",
    "### Further improvements\n",
    "What can be done more is that, we can train the linear classifier based on those features only."
   ]
  },
  {
   "cell_type": "code",
   "execution_count": 57,
   "metadata": {},
   "outputs": [],
   "source": [
    "from sklearn.feature_selection import SelectKBest\n",
    "from sklearn.feature_selection import chi2"
   ]
  },
  {
   "cell_type": "code",
   "execution_count": 77,
   "metadata": {},
   "outputs": [
    {
     "name": "stdout",
     "output_type": "stream",
     "text": [
      "             Specs       Score\n",
      "183   disappointed  199.468094\n",
      "901    wanted love  172.271562\n",
      "112          cheap  159.632524\n",
      "318     going back  153.761104\n",
      "877   unflattering  152.378399\n",
      "666       returned  145.563320\n",
      "667      returning  136.091084\n",
      "468         looked  134.086614\n",
      "372           huge  119.855775\n",
      "878  unfortunately  117.161155\n"
     ]
    }
   ],
   "source": [
    "selection = SelectKBest(score_func=chi2, k=10)\n",
    "fit = selection.fit(tfidf_m,df['Recommended IND'])\n",
    "dfscores = pd.DataFrame(fit.scores_)\n",
    "dfcolumns = pd.DataFrame(column_names)\n",
    "#concat two dataframes for better visualization \n",
    "featureScores = pd.concat([dfcolumns,dfscores],axis=1)\n",
    "featureScores.columns = ['Specs','Score']  #naming the dataframe columns\n",
    "print(featureScores.nlargest(10,'Score'))  #print 10 best features"
   ]
  },
  {
   "cell_type": "markdown",
   "metadata": {},
   "source": [
    "The above table shows the top 10 most important feature of the TF-IDF table. However, I found out that most of the words are used to describe negative feelings. In other words, we are just saying if these words aren't present, there is a good probability that guessing true will be the correct answer."
   ]
  },
  {
   "cell_type": "code",
   "execution_count": 75,
   "metadata": {},
   "outputs": [
    {
     "name": "stdout",
     "output_type": "stream",
     "text": [
      "(23486, 10)\n"
     ]
    },
    {
     "data": {
      "text/plain": [
       "(21137, 10)"
      ]
     },
     "execution_count": 75,
     "metadata": {},
     "output_type": "execute_result"
    }
   ],
   "source": [
    "X_new = SelectKBest(chi2, k=10).fit_transform(tfidf_m,df['Recommended IND'])\n",
    "print(X_new.shape)\n",
    "x_train, x_test, y_train, y_test = train_test_split(X_new,df['Recommended IND'], test_size=0.1, random_state=705023)\n",
    "x_train.shape"
   ]
  },
  {
   "cell_type": "code",
   "execution_count": 76,
   "metadata": {},
   "outputs": [
    {
     "name": "stdout",
     "output_type": "stream",
     "text": [
      "total amount of data in the test set 2349\n",
      "Wrong Answer False positive, False Negative: 334\n",
      "Percentage of WAs: 0.142188\n"
     ]
    },
    {
     "data": {
      "text/plain": [
       "array([[0.69811321, 0.13059361],\n",
       "       [0.30188679, 0.86940639]])"
      ]
     },
     "execution_count": 76,
     "metadata": {},
     "output_type": "execute_result"
    }
   ],
   "source": [
    "model = LinearSVC()\n",
    "model.fit(x_train, y_train)\n",
    "y_pred = model.predict(x_test)\n",
    "\n",
    "print(\"total amount of data in the test set %d\"%(len(y_test)))\n",
    "print(\"Wrong Answer False positive, False Negative:\", sum(abs(y_pred - y_test)))\n",
    "print('Percentage of WAs: %f'%(sum(abs(y_pred - y_test)) / len(y_pred)))\n",
    "conf_m = confusion_matrix(y_true= y_test, y_pred=y_pred) \n",
    "conf_m = conf_m / sum(conf_m)\n",
    "conf_m"
   ]
  },
  {
   "cell_type": "markdown",
   "metadata": {},
   "source": [
    "## Conclusion from the Feature selection\n",
    "Much to my surprise, I thought that if we reduce the \"noise\" features in the training data. We could have greatly improve the accuracy and precision percentage. However, it seems that it didn't improve much, but also it reduces the hit rate of the previous linearSVC."
   ]
  },
  {
   "cell_type": "markdown",
   "metadata": {},
   "source": [
    "## Second shot $\\rightarrow$ RFECV\n",
    "Following the same sense in the previous mentioned part, we would like to \"reduce\" this problem into a much easier one. That is, if we can find a number (to be determined) of features representing the dataset, such that it has the highest accuraccy. Then it might be ideal for us to do such thing. The term **RFECV** is Recursive Feature Elimnation with Cross Validation, it helps us recursively look for the better feature in the dataset."
   ]
  },
  {
   "cell_type": "code",
   "execution_count": 78,
   "metadata": {},
   "outputs": [],
   "source": [
    "from sklearn.feature_selection import RFECV"
   ]
  },
  {
   "cell_type": "code",
   "execution_count": 82,
   "metadata": {},
   "outputs": [],
   "source": [
    "x_train, x_test, y_train, y_test = train_test_split(tfidf_m,df['Recommended IND'], test_size=0.1, random_state=705023)"
   ]
  },
  {
   "cell_type": "code",
   "execution_count": 87,
   "metadata": {},
   "outputs": [
    {
     "name": "stderr",
     "output_type": "stream",
     "text": [
      "/usr/local/lib/python3.5/dist-packages/sklearn/model_selection/_split.py:2053: FutureWarning: You should specify a value for 'cv' instead of relying on the default value. The default value will change from 3 to 5 in version 0.22.\n",
      "  warnings.warn(CV_WARNING, FutureWarning)\n"
     ]
    },
    {
     "name": "stdout",
     "output_type": "stream",
     "text": [
      "Fitting estimator with 966 features.\n",
      "Fitting estimator with 965 features.\n",
      "Fitting estimator with 964 features.\n",
      "Fitting estimator with 963 features.\n",
      "Fitting estimator with 962 features.\n",
      "Fitting estimator with 961 features.\n",
      "Fitting estimator with 960 features.\n",
      "Fitting estimator with 959 features.\n",
      "Fitting estimator with 958 features.\n",
      "Fitting estimator with 957 features.\n",
      "Fitting estimator with 956 features.\n",
      "Fitting estimator with 955 features.\n",
      "Fitting estimator with 954 features.\n",
      "Fitting estimator with 953 features.\n",
      "Fitting estimator with 952 features.\n",
      "Fitting estimator with 951 features.\n",
      "Fitting estimator with 950 features.\n",
      "Fitting estimator with 949 features.\n",
      "Fitting estimator with 948 features.\n",
      "Fitting estimator with 947 features.\n",
      "Fitting estimator with 946 features.\n",
      "Fitting estimator with 945 features.\n",
      "Fitting estimator with 944 features.\n",
      "Fitting estimator with 943 features.\n",
      "Fitting estimator with 942 features.\n",
      "Fitting estimator with 941 features.\n",
      "Fitting estimator with 940 features.\n",
      "Fitting estimator with 939 features.\n",
      "Fitting estimator with 938 features.\n",
      "Fitting estimator with 937 features.\n",
      "Fitting estimator with 936 features.\n",
      "Fitting estimator with 935 features.\n",
      "Fitting estimator with 934 features.\n",
      "Fitting estimator with 933 features.\n",
      "Fitting estimator with 932 features.\n",
      "Fitting estimator with 931 features.\n",
      "Fitting estimator with 930 features.\n",
      "Fitting estimator with 929 features.\n",
      "Fitting estimator with 928 features.\n",
      "Fitting estimator with 927 features.\n",
      "Fitting estimator with 926 features.\n",
      "Fitting estimator with 925 features.\n",
      "Fitting estimator with 924 features.\n",
      "Fitting estimator with 923 features.\n",
      "Fitting estimator with 922 features.\n",
      "Fitting estimator with 921 features.\n",
      "Fitting estimator with 920 features.\n",
      "Fitting estimator with 919 features.\n",
      "Fitting estimator with 918 features.\n",
      "Fitting estimator with 917 features.\n",
      "Fitting estimator with 916 features.\n",
      "Fitting estimator with 915 features.\n",
      "Fitting estimator with 914 features.\n",
      "Fitting estimator with 913 features.\n",
      "Fitting estimator with 912 features.\n",
      "Fitting estimator with 911 features.\n",
      "Fitting estimator with 910 features.\n",
      "Fitting estimator with 909 features.\n",
      "Fitting estimator with 908 features.\n",
      "Fitting estimator with 907 features.\n",
      "Fitting estimator with 906 features.\n",
      "Fitting estimator with 905 features.\n",
      "Fitting estimator with 904 features.\n",
      "Fitting estimator with 903 features.\n",
      "Fitting estimator with 902 features.\n",
      "Fitting estimator with 901 features.\n",
      "Fitting estimator with 900 features.\n",
      "Fitting estimator with 899 features.\n",
      "Fitting estimator with 898 features.\n",
      "Fitting estimator with 897 features.\n",
      "Fitting estimator with 896 features.\n",
      "Fitting estimator with 895 features.\n",
      "Fitting estimator with 894 features.\n",
      "Fitting estimator with 893 features.\n",
      "Fitting estimator with 892 features.\n",
      "Fitting estimator with 891 features.\n",
      "Fitting estimator with 890 features.\n",
      "Fitting estimator with 889 features.\n",
      "Fitting estimator with 888 features.\n",
      "Fitting estimator with 887 features.\n",
      "Fitting estimator with 886 features.\n",
      "Fitting estimator with 885 features.\n",
      "Fitting estimator with 884 features.\n",
      "Fitting estimator with 883 features.\n",
      "Fitting estimator with 882 features.\n",
      "Fitting estimator with 881 features.\n",
      "Fitting estimator with 880 features.\n",
      "Fitting estimator with 879 features.\n",
      "Fitting estimator with 878 features.\n",
      "Fitting estimator with 877 features.\n",
      "Fitting estimator with 876 features.\n",
      "Fitting estimator with 875 features.\n",
      "Fitting estimator with 874 features.\n",
      "Fitting estimator with 873 features.\n",
      "Fitting estimator with 872 features.\n",
      "Fitting estimator with 871 features.\n",
      "Fitting estimator with 870 features.\n",
      "Fitting estimator with 869 features.\n",
      "Fitting estimator with 868 features.\n",
      "Fitting estimator with 867 features.\n",
      "Fitting estimator with 866 features.\n",
      "Fitting estimator with 865 features.\n",
      "Fitting estimator with 864 features.\n",
      "Fitting estimator with 863 features.\n",
      "Fitting estimator with 862 features.\n",
      "Fitting estimator with 861 features.\n",
      "Fitting estimator with 860 features.\n",
      "Fitting estimator with 859 features.\n",
      "Fitting estimator with 858 features.\n",
      "Fitting estimator with 857 features.\n",
      "Fitting estimator with 856 features.\n",
      "Fitting estimator with 855 features.\n",
      "Fitting estimator with 854 features.\n",
      "Fitting estimator with 853 features.\n",
      "Fitting estimator with 852 features.\n",
      "Fitting estimator with 851 features.\n",
      "Fitting estimator with 850 features.\n",
      "Fitting estimator with 849 features.\n",
      "Fitting estimator with 848 features.\n",
      "Fitting estimator with 847 features.\n",
      "Fitting estimator with 846 features.\n",
      "Fitting estimator with 845 features.\n",
      "Fitting estimator with 844 features.\n",
      "Fitting estimator with 843 features.\n",
      "Fitting estimator with 842 features.\n",
      "Fitting estimator with 841 features.\n",
      "Fitting estimator with 840 features.\n",
      "Fitting estimator with 839 features.\n",
      "Fitting estimator with 838 features.\n",
      "Fitting estimator with 837 features.\n",
      "Fitting estimator with 836 features.\n",
      "Fitting estimator with 835 features.\n",
      "Fitting estimator with 834 features.\n",
      "Fitting estimator with 833 features.\n",
      "Fitting estimator with 832 features.\n",
      "Fitting estimator with 831 features.\n",
      "Fitting estimator with 830 features.\n",
      "Fitting estimator with 829 features.\n",
      "Fitting estimator with 828 features.\n",
      "Fitting estimator with 827 features.\n",
      "Fitting estimator with 826 features.\n",
      "Fitting estimator with 825 features.\n",
      "Fitting estimator with 824 features.\n",
      "Fitting estimator with 823 features.\n",
      "Fitting estimator with 822 features.\n",
      "Fitting estimator with 821 features.\n",
      "Fitting estimator with 820 features.\n",
      "Fitting estimator with 819 features.\n",
      "Fitting estimator with 818 features.\n",
      "Fitting estimator with 817 features.\n",
      "Fitting estimator with 816 features.\n",
      "Fitting estimator with 815 features.\n",
      "Fitting estimator with 814 features.\n",
      "Fitting estimator with 813 features.\n",
      "Fitting estimator with 812 features.\n",
      "Fitting estimator with 811 features.\n",
      "Fitting estimator with 810 features.\n",
      "Fitting estimator with 809 features.\n",
      "Fitting estimator with 808 features.\n",
      "Fitting estimator with 807 features.\n",
      "Fitting estimator with 806 features.\n",
      "Fitting estimator with 805 features.\n",
      "Fitting estimator with 804 features.\n",
      "Fitting estimator with 803 features.\n",
      "Fitting estimator with 802 features.\n",
      "Fitting estimator with 801 features.\n",
      "Fitting estimator with 800 features.\n",
      "Fitting estimator with 799 features.\n",
      "Fitting estimator with 798 features.\n",
      "Fitting estimator with 797 features.\n",
      "Fitting estimator with 796 features.\n",
      "Fitting estimator with 795 features.\n",
      "Fitting estimator with 794 features.\n",
      "Fitting estimator with 793 features.\n",
      "Fitting estimator with 792 features.\n",
      "Fitting estimator with 791 features.\n",
      "Fitting estimator with 790 features.\n",
      "Fitting estimator with 789 features.\n",
      "Fitting estimator with 788 features.\n",
      "Fitting estimator with 787 features.\n",
      "Fitting estimator with 786 features.\n",
      "Fitting estimator with 785 features.\n",
      "Fitting estimator with 784 features.\n",
      "Fitting estimator with 783 features.\n",
      "Fitting estimator with 782 features.\n",
      "Fitting estimator with 781 features.\n",
      "Fitting estimator with 780 features.\n",
      "Fitting estimator with 779 features.\n",
      "Fitting estimator with 778 features.\n",
      "Fitting estimator with 777 features.\n",
      "Fitting estimator with 776 features.\n",
      "Fitting estimator with 775 features.\n",
      "Fitting estimator with 774 features.\n",
      "Fitting estimator with 773 features.\n",
      "Fitting estimator with 772 features.\n",
      "Fitting estimator with 771 features.\n",
      "Fitting estimator with 770 features.\n",
      "Fitting estimator with 769 features.\n",
      "Fitting estimator with 768 features.\n",
      "Fitting estimator with 767 features.\n",
      "Fitting estimator with 766 features.\n",
      "Fitting estimator with 765 features.\n",
      "Fitting estimator with 764 features.\n",
      "Fitting estimator with 763 features.\n",
      "Fitting estimator with 762 features.\n",
      "Fitting estimator with 761 features.\n",
      "Fitting estimator with 760 features.\n",
      "Fitting estimator with 759 features.\n",
      "Fitting estimator with 758 features.\n",
      "Fitting estimator with 757 features.\n",
      "Fitting estimator with 756 features.\n",
      "Fitting estimator with 755 features.\n",
      "Fitting estimator with 754 features.\n",
      "Fitting estimator with 753 features.\n",
      "Fitting estimator with 752 features.\n",
      "Fitting estimator with 751 features.\n",
      "Fitting estimator with 750 features.\n",
      "Fitting estimator with 749 features.\n",
      "Fitting estimator with 748 features.\n",
      "Fitting estimator with 747 features.\n",
      "Fitting estimator with 746 features.\n",
      "Fitting estimator with 745 features.\n",
      "Fitting estimator with 744 features.\n",
      "Fitting estimator with 743 features.\n",
      "Fitting estimator with 742 features.\n",
      "Fitting estimator with 741 features.\n",
      "Fitting estimator with 740 features.\n",
      "Fitting estimator with 739 features.\n",
      "Fitting estimator with 738 features.\n",
      "Fitting estimator with 737 features.\n",
      "Fitting estimator with 736 features.\n",
      "Fitting estimator with 735 features.\n",
      "Fitting estimator with 734 features.\n",
      "Fitting estimator with 733 features.\n",
      "Fitting estimator with 732 features.\n",
      "Fitting estimator with 731 features.\n",
      "Fitting estimator with 730 features.\n",
      "Fitting estimator with 729 features.\n",
      "Fitting estimator with 728 features.\n",
      "Fitting estimator with 727 features.\n",
      "Fitting estimator with 726 features.\n",
      "Fitting estimator with 725 features.\n",
      "Fitting estimator with 724 features.\n",
      "Fitting estimator with 723 features.\n",
      "Fitting estimator with 722 features.\n",
      "Fitting estimator with 721 features.\n",
      "Fitting estimator with 720 features.\n",
      "Fitting estimator with 719 features.\n",
      "Fitting estimator with 718 features.\n",
      "Fitting estimator with 717 features.\n",
      "Fitting estimator with 716 features.\n",
      "Fitting estimator with 715 features.\n",
      "Fitting estimator with 714 features.\n",
      "Fitting estimator with 713 features.\n",
      "Fitting estimator with 712 features.\n",
      "Fitting estimator with 711 features.\n",
      "Fitting estimator with 710 features.\n",
      "Fitting estimator with 709 features.\n",
      "Fitting estimator with 708 features.\n",
      "Fitting estimator with 707 features.\n",
      "Fitting estimator with 706 features.\n",
      "Fitting estimator with 705 features.\n",
      "Fitting estimator with 704 features.\n",
      "Fitting estimator with 703 features.\n",
      "Fitting estimator with 702 features.\n",
      "Fitting estimator with 701 features.\n",
      "Fitting estimator with 700 features.\n",
      "Fitting estimator with 699 features.\n",
      "Fitting estimator with 698 features.\n",
      "Fitting estimator with 697 features.\n",
      "Fitting estimator with 696 features.\n",
      "Fitting estimator with 695 features.\n",
      "Fitting estimator with 694 features.\n",
      "Fitting estimator with 693 features.\n",
      "Fitting estimator with 692 features.\n",
      "Fitting estimator with 691 features.\n",
      "Fitting estimator with 690 features.\n",
      "Fitting estimator with 689 features.\n",
      "Fitting estimator with 688 features.\n",
      "Fitting estimator with 687 features.\n",
      "Fitting estimator with 686 features.\n",
      "Fitting estimator with 685 features.\n",
      "Fitting estimator with 684 features.\n",
      "Fitting estimator with 683 features.\n",
      "Fitting estimator with 682 features.\n",
      "Fitting estimator with 681 features.\n",
      "Fitting estimator with 680 features.\n",
      "Fitting estimator with 679 features.\n",
      "Fitting estimator with 678 features.\n",
      "Fitting estimator with 677 features.\n",
      "Fitting estimator with 676 features.\n",
      "Fitting estimator with 675 features.\n",
      "Fitting estimator with 674 features.\n",
      "Fitting estimator with 673 features.\n",
      "Fitting estimator with 672 features.\n",
      "Fitting estimator with 671 features.\n",
      "Fitting estimator with 670 features.\n",
      "Fitting estimator with 669 features.\n",
      "Fitting estimator with 668 features.\n",
      "Fitting estimator with 667 features.\n",
      "Fitting estimator with 666 features.\n",
      "Fitting estimator with 665 features.\n",
      "Fitting estimator with 664 features.\n",
      "Fitting estimator with 663 features.\n",
      "Fitting estimator with 662 features.\n",
      "Fitting estimator with 661 features.\n",
      "Fitting estimator with 660 features.\n",
      "Fitting estimator with 659 features.\n",
      "Fitting estimator with 658 features.\n",
      "Fitting estimator with 657 features.\n",
      "Fitting estimator with 656 features.\n",
      "Fitting estimator with 655 features.\n",
      "Fitting estimator with 654 features.\n"
     ]
    },
    {
     "data": {
      "text/plain": [
       "RFECV(cv='warn',\n",
       "   estimator=LinearSVC(C=1.0, class_weight=None, dual=True, fit_intercept=True,\n",
       "     intercept_scaling=1, loss='squared_hinge', max_iter=1000,\n",
       "     multi_class='ovr', penalty='l2', random_state=None, tol=0.0001,\n",
       "     verbose=0),\n",
       "   min_features_to_select=1, n_jobs=15, scoring=None, step=1, verbose=1)"
      ]
     },
     "execution_count": 87,
     "metadata": {},
     "output_type": "execute_result"
    }
   ],
   "source": [
    "rfecv_m = RFECV(LinearSVC(), n_jobs=15,verbose=1)\n",
    "rfecv_m.fit(x_train, y_train)\n"
   ]
  },
  {
   "cell_type": "code",
   "execution_count": 88,
   "metadata": {},
   "outputs": [
    {
     "name": "stdout",
     "output_type": "stream",
     "text": [
      "total amount of data in the test set 2349\n",
      "Wrong Answer False positive, False Negative: 233\n",
      "Percentage of WAs: 0.099191\n"
     ]
    },
    {
     "data": {
      "text/plain": [
       "array([[0.74260355, 0.0726007 ],\n",
       "       [0.25739645, 0.9273993 ]])"
      ]
     },
     "execution_count": 88,
     "metadata": {},
     "output_type": "execute_result"
    }
   ],
   "source": [
    "y_pred = rfecv_m.predict(x_test)\n",
    "\n",
    "print(\"total amount of data in the test set %d\"%(len(y_test)))\n",
    "print(\"Wrong Answer False positive, False Negative:\", sum(abs(y_pred - y_test)))\n",
    "print('Percentage of WAs: %f'%(sum(abs(y_pred - y_test)) / len(y_pred)))\n",
    "conf_m = confusion_matrix(y_true= y_test, y_pred=y_pred) \n",
    "conf_m = conf_m / sum(conf_m)\n",
    "conf_m"
   ]
  },
  {
   "cell_type": "markdown",
   "metadata": {},
   "source": [
    "[[0.74404762, 0.07302534],\n",
    "       [0.25595238, 0.92697466]]"
   ]
  },
  {
   "cell_type": "markdown",
   "metadata": {},
   "source": [
    "Well..., after plenty of training time, what I found out was that it was nothing but a waste. The accuracy improved NONE. However there is only a slight improvement in detecting False (increased like 0.04%)."
   ]
  },
  {
   "cell_type": "markdown",
   "metadata": {},
   "source": [
    "## Potential problems\n",
    "Back to text again, what TF-IDF fails to illustrate is that the ordering of text. Different ordering of the same text can cause problems when the text segment grows larger. To properly handle this type of problems, we might need to use embeddings to train a doc 2 vector machine. Of course, We can implement a \"LSTM\" model training upon what text's encoding is. But that will be way more troublesome than the current TF-IDF.\n",
    "\n",
    "Now lets try implementing a classifier using encodings.\n",
    "## Doc2Vec"
   ]
  },
  {
   "cell_type": "code",
   "execution_count": null,
   "metadata": {},
   "outputs": [],
   "source": []
  },
  {
   "cell_type": "code",
   "execution_count": 26,
   "metadata": {},
   "outputs": [
    {
     "data": {
      "text/plain": [
       "<gensim.models.doc2vec.Doc2Vec at 0x7f4e67749ba8>"
      ]
     },
     "execution_count": 26,
     "metadata": {},
     "output_type": "execute_result"
    }
   ],
   "source": [
    "from gensim.models.doc2vec import Doc2Vec\n",
    "Doc2Vec()"
   ]
  },
  {
   "cell_type": "code",
   "execution_count": null,
   "metadata": {},
   "outputs": [],
   "source": []
  },
  {
   "cell_type": "code",
   "execution_count": null,
   "metadata": {},
   "outputs": [],
   "source": []
  }
 ],
 "metadata": {
  "kernelspec": {
   "display_name": "Python 3",
   "language": "python",
   "name": "python3"
  },
  "language_info": {
   "codemirror_mode": {
    "name": "ipython",
    "version": 3
   },
   "file_extension": ".py",
   "mimetype": "text/x-python",
   "name": "python",
   "nbconvert_exporter": "python",
   "pygments_lexer": "ipython3",
   "version": "3.5.3"
  }
 },
 "nbformat": 4,
 "nbformat_minor": 2
}
