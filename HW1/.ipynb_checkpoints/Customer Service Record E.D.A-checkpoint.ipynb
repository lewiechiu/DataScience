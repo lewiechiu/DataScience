{
 "cells": [
  {
   "cell_type": "code",
   "execution_count": 1,
   "metadata": {},
   "outputs": [],
   "source": [
    "import jieba\n",
    "jieba.set_dictionary('ChineseDictionary/dict.txt.big')\n",
    "import numpy as np\n",
    "import pandas as pd\n",
    "import operator\n",
    "import matplotlib.pyplot as plt\n",
    "%matplotlib inline\n",
    "data = pd.read_excel(\"customer_record_data.xlsx\")"
   ]
  },
  {
   "cell_type": "code",
   "execution_count": 2,
   "metadata": {},
   "outputs": [
    {
     "data": {
      "text/html": [
       "<div>\n",
       "<style scoped>\n",
       "    .dataframe tbody tr th:only-of-type {\n",
       "        vertical-align: middle;\n",
       "    }\n",
       "\n",
       "    .dataframe tbody tr th {\n",
       "        vertical-align: top;\n",
       "    }\n",
       "\n",
       "    .dataframe thead th {\n",
       "        text-align: right;\n",
       "    }\n",
       "</style>\n",
       "<table border=\"1\" class=\"dataframe\">\n",
       "  <thead>\n",
       "    <tr style=\"text-align: right;\">\n",
       "      <th></th>\n",
       "      <th>類別</th>\n",
       "      <th>Unique ID</th>\n",
       "      <th>資料日期</th>\n",
       "      <th>客戶事件描述</th>\n",
       "    </tr>\n",
       "  </thead>\n",
       "  <tbody>\n",
       "    <tr>\n",
       "      <th>0</th>\n",
       "      <td>Call Out</td>\n",
       "      <td>AA2765</td>\n",
       "      <td>20180102 141000</td>\n",
       "      <td>[ECP] 去電確認開戶文件 客戶說後來去買美元保單就不開戶了</td>\n",
       "    </tr>\n",
       "    <tr>\n",
       "      <th>1</th>\n",
       "      <td>Call Out</td>\n",
       "      <td>AA3910</td>\n",
       "      <td>20180102 144300</td>\n",
       "      <td>[ECP]不方說  IPO MAIL</td>\n",
       "    </tr>\n",
       "    <tr>\n",
       "      <th>2</th>\n",
       "      <td>Call Out</td>\n",
       "      <td>AA3167</td>\n",
       "      <td>20180102 154500</td>\n",
       "      <td>[ECP] IPO 忙 先MAIL</td>\n",
       "    </tr>\n",
       "    <tr>\n",
       "      <th>3</th>\n",
       "      <td>Call Out</td>\n",
       "      <td>AA2355</td>\n",
       "      <td>20180102 194359</td>\n",
       "      <td>家庭戶 媽媽說女兒不開了，因為打工收入不穩定</td>\n",
       "    </tr>\n",
       "    <tr>\n",
       "      <th>4</th>\n",
       "      <td>Call Out</td>\n",
       "      <td>AA2778</td>\n",
       "      <td>20180103 111132</td>\n",
       "      <td>推Q1</td>\n",
       "    </tr>\n",
       "  </tbody>\n",
       "</table>\n",
       "</div>"
      ],
      "text/plain": [
       "         類別 Unique ID             資料日期                           客戶事件描述\n",
       "0  Call Out    AA2765  20180102 141000  [ECP] 去電確認開戶文件 客戶說後來去買美元保單就不開戶了\n",
       "1  Call Out    AA3910  20180102 144300               [ECP]不方說  IPO MAIL\n",
       "2  Call Out    AA3167  20180102 154500                [ECP] IPO 忙 先MAIL\n",
       "3  Call Out    AA2355  20180102 194359           家庭戶 媽媽說女兒不開了，因為打工收入不穩定\n",
       "4  Call Out    AA2778  20180103 111132                              推Q1"
      ]
     },
     "execution_count": 2,
     "metadata": {},
     "output_type": "execute_result"
    }
   ],
   "source": [
    "data.head()"
   ]
  },
  {
   "cell_type": "markdown",
   "metadata": {},
   "source": [
    "## Unique IDs:"
   ]
  },
  {
   "cell_type": "code",
   "execution_count": 3,
   "metadata": {},
   "outputs": [
    {
     "name": "stdout",
     "output_type": "stream",
     "text": [
      "Amount of Unique IDs: 572\n"
     ]
    }
   ],
   "source": [
    "data = np.array(data)\n",
    "unique_ids = set(data[:,1])\n",
    "print(\"Amount of Unique IDs: \"+str(len(unique_ids)))"
   ]
  },
  {
   "cell_type": "markdown",
   "metadata": {},
   "source": [
    "## Call times:"
   ]
  },
  {
   "cell_type": "code",
   "execution_count": 18,
   "metadata": {
    "scrolled": true
   },
   "outputs": [
    {
     "data": {
      "image/png": "[encoded data removed]",
      "text/plain": [
       "<Figure size 432x288 with 1 Axes>"
      ]
     },
     "metadata": {},
     "output_type": "display_data"
    }
   ],
   "source": [
    "unique_id_called = dict()\n",
    "for i in data:\n",
    "    if i[1] in unique_id_called:\n",
    "        unique_id_called[i[1]] += 1\n",
    "    else:\n",
    "        unique_id_called[i[1]] = 1\n",
    "\n",
    "sorted_unique_id_called = sorted(unique_id_called.items(),key=operator.itemgetter(1))\n",
    "# for i in range(1,len(unique_id_called)):\n",
    "#     print(sorted_unique_id_called[-i])\n",
    "\n",
    "draw_hist = dict()\n",
    "for i in sorted_unique_id_called:\n",
    "    if i[1] in draw_hist:\n",
    "        draw_hist[i[1]] += 1\n",
    "    else:\n",
    "        draw_hist[i[1]] = 1\n",
    "        \n",
    "keys = np.array(list(draw_hist.keys()))\n",
    "values = np.array(list(draw_hist.values( ) ) )\n",
    "\n",
    "plt.bar(keys,values)\n",
    "plt.title('Frequency distribution of called times')\n",
    "plt.xlabel('Called times')\n",
    "plt.ylabel('Frequency')\n",
    "plt.show()"
   ]
  },
  {
   "cell_type": "markdown",
   "metadata": {},
   "source": [
    "From the bar chart above we can see that the called time is extremely skewed. Specifically, most customers they reached out have a call time less than 3 times."
   ]
  },
  {
   "cell_type": "markdown",
   "metadata": {},
   "source": [
    "## Common word in message"
   ]
  },
  {
   "cell_type": "code",
   "execution_count": 5,
   "metadata": {},
   "outputs": [
    {
     "name": "stderr",
     "output_type": "stream",
     "text": [
      "Building prefix dict from /home/jupyter/DS/DataScience/HW1/ChineseDictionary/dict.txt.big ...\n",
      "Dumping model to file cache /tmp/jieba.u42f68d9ace05fa3d7ff1d69de828036b.cache\n",
      "Loading model cost 1.868 seconds.\n",
      "Prefix dict has been built succesfully.\n"
     ]
    },
    {
     "name": "stdout",
     "output_type": "stream",
     "text": [
      "['[', 'ECP', ']', ' ', '去電', '確認', '開戶', '文件', ' ', '客戶', '說', '後來', '去', '買', '美元', '保單', '就', '不', '開戶', '了']\n",
      "['[', 'ECP', ']', '不方', '說', ' ', ' ', 'IPO', ' ', 'MAIL']\n",
      "['[', 'ECP', ']', ' ', 'IPO', ' ', '忙', ' ', '先', 'MAIL']\n",
      "['家庭', '戶', ' ', '媽媽', '說', '女兒', '不開', '了', '，', '因為', '打工', '收入', '不', '穩定']\n",
      "['推', 'Q1']\n",
      "['兒子', '要', '開戶', '未成年', ',', '不願辦', '網路', '要', '單筆', '買', '亞太', '複合', '債', '.']\n",
      "['林', 'O', '屏', '216022', ' ', '家庭', '戶', ' ', '有', '可能', '有', '這戶', '下單', '又', '嫌', '麻煩']\n",
      "['台幣', ' ', '瑞興', ' ', '轉介', '208']\n",
      "['想', '買', '基金', ' ', '推', 'EC', ' ', '轉介', '之']\n",
      "['某', '小姐', '要', '買', 'nnl', '新興', '市場', '債', ' ', '美元', '買', ' ']\n",
      "['[', 'ECP', ']', '可能', '買回', ' ', ' ', '積', ' ', '單', ' ', '可以', '忍', '波動']\n",
      "['Idris', '轉介']\n",
      "['客戶', '來電', '說', '看到', '4', '年', 'IPO', ' ', '要', '美金', '的', ' ', '先寄', '開戶', '文件']\n",
      "['去電', '確認', '外幣', '帳號', '是', '台北', '富邦']\n",
      "['要', '用', '女兒', '名字', '開']\n"
     ]
    }
   ],
   "source": [
    "import jieba.analyse\n",
    "jieba.enable_parallel(8)\n",
    "cnt = 0\n",
    "for i in data:\n",
    "    cnt = cnt + 1\n",
    "    if cnt <= 15:\n",
    "        print(jieba.lcut(i[3]))"
   ]
  },
  {
   "cell_type": "markdown",
   "metadata": {},
   "source": [
    "From the above we can see what is segmented. It is apparently some kind of junk. SO, instead, we search for keywords.\n",
    "\n",
    "I want to clarify some of the **jieba** feature in the following, there are some different kinds of cutting method.\n",
    "* cut\n",
    "* lcut\n",
    "* cut_for_search\n",
    "* analyse.extract_tags:\n",
    "    * This is for extracting keywords by TD-IDF algorithm"
   ]
  },
  {
   "cell_type": "code",
   "execution_count": 6,
   "metadata": {},
   "outputs": [
    {
     "name": "stdout",
     "output_type": "stream",
     "text": [
      "['開戶', '確認', 'ECP', '客戶', '後來', '保單', '去電', '文件', '美元']\n",
      "['MAIL', 'ECP', 'IPO', '不方']\n",
      "['ECP', 'IPO', 'MAIL']\n",
      "['媽媽', '不開', '女兒', '因為', '穩定', '打工', '家庭', '收入']\n",
      "['Q1']\n",
      "['複合', '亞太', '網路', '兒子', '開戶', '單筆', '不願辦', '未成年']\n",
      "['麻煩', '下單', '216022', '這戶', '家庭', '可能']\n",
      "['台幣', '轉介', '瑞興', '208']\n",
      "['轉介', 'EC', '基金']\n",
      "['nnl', '市場', '新興', '小姐', '美元']\n",
      "['波動', 'ECP', '買回', '可能', '可以']\n",
      "['轉介', 'Idris']\n",
      "['先寄', '客戶', '來電', '開戶', 'IPO', '美金', '文件', '看到']\n",
      "['確認', '富邦', '外幣', '帳號', '去電', '台北']\n",
      "['女兒', '名字']\n"
     ]
    }
   ],
   "source": [
    "key_words = dict()\n",
    "cnt = 0\n",
    "for i in data:\n",
    "    for j in jieba.analyse.extract_tags(i[3]):\n",
    "        if j in key_words:\n",
    "            key_words[j] += 1\n",
    "        else:\n",
    "            key_words[j] = 1\n",
    "    cnt = cnt + 1\n",
    "    if cnt <=15:\n",
    "        print(jieba.analyse.extract_tags(i[3]))\n",
    "\n",
    "key_words = sorted(key_words.items(),key=operator.itemgetter(1))"
   ]
  },
  {
   "cell_type": "markdown",
   "metadata": {},
   "source": [
    "Now the above seems much more readable, although we may lose some of the information in the cutting stage. Some first thoughts upon seeing these datas.\n",
    "1. It is mostly key word oriented and thus many verbs are removed\n",
    "2. Given that it does mention some commodities, it is still hard to decide its intention.\n",
    "    * For example, '覺得', '計價', '6%', '收益', '美金', '短期', '全球' we don't know whether the customer wants to long or short 美金.\n",
    "3. There are unimportant verbs concerning selling commodities.\n",
    "    * 解釋, '收到', '請客'\n",
    "4. Abbreviations:\n",
    "    * 國世銀 $\\rightarrow$ 國泰世華銀行 ，富邦$\\rightarrow$ 富邦銀行\n",
    "    \n",
    "The following blocks will show the most commonly appeared word in the service record."
   ]
  },
  {
   "cell_type": "code",
   "execution_count": 7,
   "metadata": {},
   "outputs": [
    {
     "name": "stdout",
     "output_type": "stream",
     "text": [
      "('ECP', 441)\n",
      "('名單', 180)\n",
      "('開戶', 162)\n",
      "('Money', 148)\n",
      "('客戶', 122)\n",
      "('專刊', 92)\n",
      "('退休', 84)\n",
      "('電子報', 78)\n",
      "('訂閱', 78)\n",
      "('寄送', 76)\n",
      "('追蹤', 74)\n",
      "('分配', 65)\n",
      "('IPO', 65)\n",
      "('EC', 62)\n",
      "('轉介', 59)\n",
      "('寄回', 57)\n",
      "('家庭', 54)\n",
      "('收到', 47)\n",
      "('表單', 46)\n"
     ]
    },
    {
     "data": {
      "text/plain": [
       "1622"
      ]
     },
     "execution_count": 7,
     "metadata": {},
     "output_type": "execute_result"
    }
   ],
   "source": [
    "for i in range(1,20):\n",
    "    \n",
    "    print(key_words[-i])\n",
    "\n",
    "    \n",
    "len(key_words)"
   ]
  },
  {
   "cell_type": "markdown",
   "metadata": {},
   "source": [
    "The above method doesn't seems to be a good idea. Since, applying key word count to different customer is useless.\n",
    "Lets look at what each customer is most interested in. Here we set a limit that a **regular** customer are those who at least called $3$ times."
   ]
  },
  {
   "cell_type": "code",
   "execution_count": 8,
   "metadata": {
    "scrolled": true
   },
   "outputs": [
    {
     "name": "stderr",
     "output_type": "stream",
     "text": [
      "/usr/local/lib/python3.5/dist-packages/ipykernel_launcher.py:29: SettingWithCopyWarning: \n",
      "A value is trying to be set on a copy of a slice from a DataFrame\n",
      "\n",
      "See the caveats in the documentation: http://pandas.pydata.org/pandas-docs/stable/indexing.html#indexing-view-versus-copy\n"
     ]
    },
    {
     "data": {
      "text/html": [
       "<div>\n",
       "<style scoped>\n",
       "    .dataframe tbody tr th:only-of-type {\n",
       "        vertical-align: middle;\n",
       "    }\n",
       "\n",
       "    .dataframe tbody tr th {\n",
       "        vertical-align: top;\n",
       "    }\n",
       "\n",
       "    .dataframe thead th {\n",
       "        text-align: right;\n",
       "    }\n",
       "</style>\n",
       "<table border=\"1\" class=\"dataframe\">\n",
       "  <thead>\n",
       "    <tr style=\"text-align: right;\">\n",
       "      <th></th>\n",
       "      <th>Customer ID</th>\n",
       "      <th>Call time</th>\n",
       "      <th>tags</th>\n",
       "    </tr>\n",
       "  </thead>\n",
       "  <tbody>\n",
       "    <tr>\n",
       "      <th>0</th>\n",
       "      <td>AA3586</td>\n",
       "      <td>6</td>\n",
       "      <td>[現場, PASS, APHY, 北富邦, mina, 今日, 轉介, Tina, Mina...</td>\n",
       "    </tr>\n",
       "    <tr>\n",
       "      <th>1</th>\n",
       "      <td>AA3542</td>\n",
       "      <td>3</td>\n",
       "      <td>[客戶, 會去, 說明, 市場, 回電, 應該, 邊境, 高雄, 分公司, 明天, 電告, ...</td>\n",
       "    </tr>\n",
       "    <tr>\n",
       "      <th>2</th>\n",
       "      <td>AA7485</td>\n",
       "      <td>5</td>\n",
       "      <td>[差異, 達特, 問荷, 及天, 消費型, 國家, 亞洲區, 及荷, 消費, 配置, 品牌,...</td>\n",
       "    </tr>\n",
       "    <tr>\n",
       "      <th>3</th>\n",
       "      <td>AA9022</td>\n",
       "      <td>5</td>\n",
       "      <td>[客戶, 月配, ECP, 回電, 轉到, APHY, 指導, 環高, 手機, ECP, 客...</td>\n",
       "    </tr>\n",
       "    <tr>\n",
       "      <th>4</th>\n",
       "      <td>AA3048</td>\n",
       "      <td>3</td>\n",
       "      <td>[申購, 基富通, LINE, 還有, 張轉, 經查, 介紹, 作轉, 下單, 頻凡, 好友...</td>\n",
       "    </tr>\n",
       "    <tr>\n",
       "      <th>5</th>\n",
       "      <td>AA3367</td>\n",
       "      <td>4</td>\n",
       "      <td>[私房錢, 農會, 580, 要存, Money, 客在, 華南, 名單, 上班, 分配, ...</td>\n",
       "    </tr>\n",
       "    <tr>\n",
       "      <th>6</th>\n",
       "      <td>AA3629</td>\n",
       "      <td>3</td>\n",
       "      <td>[晚一點, 金融債, 名單, 坐車, IPO, 方便, 回台東, 金融債, 通訊, 22, ...</td>\n",
       "    </tr>\n",
       "    <tr>\n",
       "      <th>7</th>\n",
       "      <td>AA9175</td>\n",
       "      <td>4</td>\n",
       "      <td>[1Q, ECP, KYC, 參考, 名單, 優惠, 活動, mail, 新春, ECP, ...</td>\n",
       "    </tr>\n",
       "    <tr>\n",
       "      <th>8</th>\n",
       "      <td>AA3190</td>\n",
       "      <td>3</td>\n",
       "      <td>[名單, Money, 興趣, 接聽, 中信, 太太, 分配, 似乎, ECP, 專刊, 開...</td>\n",
       "    </tr>\n",
       "    <tr>\n",
       "      <th>9</th>\n",
       "      <td>AA7534</td>\n",
       "      <td>4</td>\n",
       "      <td>[10, 名單, 點撥, A174660, 手機, 潛在, 客戶, 52, 九月, 本人, ...</td>\n",
       "    </tr>\n",
       "    <tr>\n",
       "      <th>10</th>\n",
       "      <td>AA3336</td>\n",
       "      <td>7</td>\n",
       "      <td>[專刊, 電子報, 決定, 名單, 訂閱, Money, 表單, 銀行, 寄送, 退休, 指...</td>\n",
       "    </tr>\n",
       "    <tr>\n",
       "      <th>11</th>\n",
       "      <td>AA2852</td>\n",
       "      <td>5</td>\n",
       "      <td>[手續費, 年期, 類似, 轉介, 兆豐, 有收, 208, 沒收, 50, 人民幣, 銀行...</td>\n",
       "    </tr>\n",
       "    <tr>\n",
       "      <th>12</th>\n",
       "      <td>AA3732</td>\n",
       "      <td>3</td>\n",
       "      <td>[客戶, 贖回, 優惠, 網路, 安本, 另想, 功能, 交易, 轉介, 一本萬利, 買安本...</td>\n",
       "    </tr>\n",
       "    <tr>\n",
       "      <th>13</th>\n",
       "      <td>AA3180</td>\n",
       "      <td>3</td>\n",
       "      <td>[表單, 電子報, 名單, 訂閱, Money, 開戶, 同意, 推亞債, ECP, 20,...</td>\n",
       "    </tr>\n",
       "    <tr>\n",
       "      <th>14</th>\n",
       "      <td>AA2505</td>\n",
       "      <td>3</td>\n",
       "      <td>[中國, 及荷, ECP, 2Q, 機會, 名單, 優惠, 泰國, 巴西, ECP, 客戶,...</td>\n",
       "    </tr>\n",
       "  </tbody>\n",
       "</table>\n",
       "</div>"
      ],
      "text/plain": [
       "   Customer ID  Call time                                               tags\n",
       "0       AA3586          6  [現場, PASS, APHY, 北富邦, mina, 今日, 轉介, Tina, Mina...\n",
       "1       AA3542          3  [客戶, 會去, 說明, 市場, 回電, 應該, 邊境, 高雄, 分公司, 明天, 電告, ...\n",
       "2       AA7485          5  [差異, 達特, 問荷, 及天, 消費型, 國家, 亞洲區, 及荷, 消費, 配置, 品牌,...\n",
       "3       AA9022          5  [客戶, 月配, ECP, 回電, 轉到, APHY, 指導, 環高, 手機, ECP, 客...\n",
       "4       AA3048          3  [申購, 基富通, LINE, 還有, 張轉, 經查, 介紹, 作轉, 下單, 頻凡, 好友...\n",
       "5       AA3367          4  [私房錢, 農會, 580, 要存, Money, 客在, 華南, 名單, 上班, 分配, ...\n",
       "6       AA3629          3  [晚一點, 金融債, 名單, 坐車, IPO, 方便, 回台東, 金融債, 通訊, 22, ...\n",
       "7       AA9175          4  [1Q, ECP, KYC, 參考, 名單, 優惠, 活動, mail, 新春, ECP, ...\n",
       "8       AA3190          3  [名單, Money, 興趣, 接聽, 中信, 太太, 分配, 似乎, ECP, 專刊, 開...\n",
       "9       AA7534          4  [10, 名單, 點撥, A174660, 手機, 潛在, 客戶, 52, 九月, 本人, ...\n",
       "10      AA3336          7  [專刊, 電子報, 決定, 名單, 訂閱, Money, 表單, 銀行, 寄送, 退休, 指...\n",
       "11      AA2852          5  [手續費, 年期, 類似, 轉介, 兆豐, 有收, 208, 沒收, 50, 人民幣, 銀行...\n",
       "12      AA3732          3  [客戶, 贖回, 優惠, 網路, 安本, 另想, 功能, 交易, 轉介, 一本萬利, 買安本...\n",
       "13      AA3180          3  [表單, 電子報, 名單, 訂閱, Money, 開戶, 同意, 推亞債, ECP, 20,...\n",
       "14      AA2505          3  [中國, 及荷, ECP, 2Q, 機會, 名單, 優惠, 泰國, 巴西, ECP, 客戶,..."
      ]
     },
     "execution_count": 8,
     "metadata": {},
     "output_type": "execute_result"
    }
   ],
   "source": [
    "regular_customer = []\n",
    "regular_thresh = 3 # Change the number to define what the lower limit should be.\n",
    "for i in unique_id_called:\n",
    "    if unique_id_called[i] >= regular_thresh:\n",
    "#         print(\"hit\")\n",
    "#         print(unique_id_called[i])\n",
    "        regular_customer.append(i)\n",
    "regular_customer = np.array(regular_customer)\n",
    "\n",
    "df1 = pd.DataFrame([x for x in unique_id_called if unique_id_called[x]>= regular_thresh],columns=['Customer ID'])\n",
    "df2 = pd.DataFrame([unique_id_called[x] for x in unique_id_called if unique_id_called[x]>= regular_thresh],columns=['Call time'])\n",
    "df3 = pd.DataFrame(list(\"abc\"),columns=['tags'])\n",
    "merged_df = pd.concat([df1,df2,df3],axis=1)\n",
    "\n",
    "cnt = 0\n",
    "print_limt = 15 # update this to print more customers\n",
    "\n",
    "for i in regular_customer:\n",
    "    tag = list()\n",
    "    # go through the data and find all those that matches \"i\"\n",
    "    for j in data:\n",
    "        if j[1] == i:\n",
    "            # Change the method of cutting here.\n",
    "            # I am using keyword search right now, which maybe somehow inaccurate considering the given data.\n",
    "            tag.append(jieba.analyse.extract_tags( j[3]))\n",
    "    \n",
    "    \n",
    "    tag = [item for sublist in tag for item in sublist]\n",
    "    merged_df[\"tags\"][cnt] = tag\n",
    "    cnt += 1\n",
    "merged_df.head(n=15)"
   ]
  },
  {
   "cell_type": "markdown",
   "metadata": {},
   "source": [
    "The above shows how the merged dataframe. In the last column, it shows the tags \"jieba\" has cut off. Also, it is a merged version of all of the appeared tag."
   ]
  },
  {
   "cell_type": "markdown",
   "metadata": {},
   "source": [
    "From the free text we have acquired, most of them are already processed. Therefore, I think it is reasonable for us to focus on those which is close to a real sentence. If we can have a **sentence** it would be ideal for us to extract more information out of it. Given the fragment keyword in some users response, we really cannot have much insight.\n",
    "\n",
    "# Further Improvement\n",
    "However, for those at least sentence-like ( Still, I need to find some kind of rule to pick those **sentence** out) reponses. I can conduct more elaborate analysis, such as TF-IDF,sentiment analysis... etc."
   ]
  },
  {
   "cell_type": "code",
   "execution_count": 9,
   "metadata": {},
   "outputs": [
    {
     "name": "stdout",
     "output_type": "stream",
     "text": [
      "[ECP] 去電確認開戶文件 客戶說後來去買美元保單就不開戶了\n",
      "[ECP]不方說  IPO MAIL\n",
      "[ECP] IPO 忙 先MAIL\n",
      "家庭戶 媽媽說女兒不開了，因為打工收入不穩定\n",
      "推Q1\n",
      "兒子要開戶未成年,不願辦網路要單筆買亞太複合債.\n",
      "林O屏216022 家庭戶 有可能有這戶下單又嫌麻煩\n",
      "想買基金 推EC 轉介之\n",
      "某小姐要買nnl新興市場債 美元買 \n",
      "[ECP]可能買回  積 單 可以忍波動\n",
      "**********length of focus: 720\n"
     ]
    }
   ],
   "source": [
    "tag = np.array(data[:,3])\n",
    "focus = []\n",
    "cnt = 0\n",
    "for i in tag:\n",
    "    if ',' in i:\n",
    "        focus.append(i)\n",
    "    elif '推'in i:\n",
    "        focus.append(i)\n",
    "    elif len(i) > 15:\n",
    "        focus.append(i)\n",
    "\n",
    "for i in range(10):\n",
    "    print(focus[i])\n",
    "\n",
    "print(\"**********length of focus: \"+ str(len(focus)))"
   ]
  },
  {
   "cell_type": "markdown",
   "metadata": {},
   "source": [
    "After thinking through how I should deal with **proper** free text, I think a better way is to first find out what text is qualified as free text. From there, can we move on. "
   ]
  },
  {
   "cell_type": "markdown",
   "metadata": {},
   "source": [
    "## Making a relation (adjacent) matrix\n",
    "\n",
    "This section I will make a matrix showing each keywords' relation with one another in a observation. "
   ]
  },
  {
   "cell_type": "code",
   "execution_count": null,
   "metadata": {},
   "outputs": [],
   "source": []
  }
 ],
 "metadata": {
  "kernelspec": {
   "display_name": "Python 3",
   "language": "python",
   "name": "python3"
  },
  "language_info": {
   "codemirror_mode": {
    "name": "ipython",
    "version": 3
   },
   "file_extension": ".py",
   "mimetype": "text/x-python",
   "name": "python",
   "nbconvert_exporter": "python",
   "pygments_lexer": "ipython3",
   "version": "3.5.3"
  }
 },
 "nbformat": 4,
 "nbformat_minor": 2
}
