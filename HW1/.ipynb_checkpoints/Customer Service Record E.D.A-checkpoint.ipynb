{
 "cells": [
  {
   "cell_type": "code",
   "execution_count": 1,
   "metadata": {},
   "outputs": [
    {
     "name": "stderr",
     "output_type": "stream",
     "text": [
      "/home/louiechiu/anaconda3/lib/python3.6/importlib/_bootstrap.py:219: RuntimeWarning: numpy.ufunc size changed, may indicate binary incompatibility. Expected 216, got 192\n",
      "  return f(*args, **kwds)\n"
     ]
    }
   ],
   "source": [
    "import jieba\n",
    "jieba.set_dictionary('ChineseDictionary/dict.txt.big')\n",
    "import numpy as np\n",
    "import pandas as pd\n",
    "import operator\n",
    "import matplotlib.pyplot as plt\n",
    "%matplotlib inline\n",
    "data = pd.read_excel(\"customer_record_data.xlsx\")"
   ]
  },
  {
   "cell_type": "code",
   "execution_count": 2,
   "metadata": {},
   "outputs": [
    {
     "data": {
      "text/html": [
       "<div>\n",
       "<style scoped>\n",
       "    .dataframe tbody tr th:only-of-type {\n",
       "        vertical-align: middle;\n",
       "    }\n",
       "\n",
       "    .dataframe tbody tr th {\n",
       "        vertical-align: top;\n",
       "    }\n",
       "\n",
       "    .dataframe thead th {\n",
       "        text-align: right;\n",
       "    }\n",
       "</style>\n",
       "<table border=\"1\" class=\"dataframe\">\n",
       "  <thead>\n",
       "    <tr style=\"text-align: right;\">\n",
       "      <th></th>\n",
       "      <th>類別</th>\n",
       "      <th>Unique ID</th>\n",
       "      <th>資料日期</th>\n",
       "      <th>客戶事件描述</th>\n",
       "    </tr>\n",
       "  </thead>\n",
       "  <tbody>\n",
       "    <tr>\n",
       "      <th>0</th>\n",
       "      <td>Call Out</td>\n",
       "      <td>AA2765</td>\n",
       "      <td>20180102 141000</td>\n",
       "      <td>[ECP] 去電確認開戶文件 客戶說後來去買美元保單就不開戶了</td>\n",
       "    </tr>\n",
       "    <tr>\n",
       "      <th>1</th>\n",
       "      <td>Call Out</td>\n",
       "      <td>AA3910</td>\n",
       "      <td>20180102 144300</td>\n",
       "      <td>[ECP]不方說  IPO MAIL</td>\n",
       "    </tr>\n",
       "    <tr>\n",
       "      <th>2</th>\n",
       "      <td>Call Out</td>\n",
       "      <td>AA3167</td>\n",
       "      <td>20180102 154500</td>\n",
       "      <td>[ECP] IPO 忙 先MAIL</td>\n",
       "    </tr>\n",
       "    <tr>\n",
       "      <th>3</th>\n",
       "      <td>Call Out</td>\n",
       "      <td>AA2355</td>\n",
       "      <td>20180102 194359</td>\n",
       "      <td>家庭戶 媽媽說女兒不開了，因為打工收入不穩定</td>\n",
       "    </tr>\n",
       "    <tr>\n",
       "      <th>4</th>\n",
       "      <td>Call Out</td>\n",
       "      <td>AA2778</td>\n",
       "      <td>20180103 111132</td>\n",
       "      <td>推Q1</td>\n",
       "    </tr>\n",
       "  </tbody>\n",
       "</table>\n",
       "</div>"
      ],
      "text/plain": [
       "         類別 Unique ID             資料日期                           客戶事件描述\n",
       "0  Call Out    AA2765  20180102 141000  [ECP] 去電確認開戶文件 客戶說後來去買美元保單就不開戶了\n",
       "1  Call Out    AA3910  20180102 144300               [ECP]不方說  IPO MAIL\n",
       "2  Call Out    AA3167  20180102 154500                [ECP] IPO 忙 先MAIL\n",
       "3  Call Out    AA2355  20180102 194359           家庭戶 媽媽說女兒不開了，因為打工收入不穩定\n",
       "4  Call Out    AA2778  20180103 111132                              推Q1"
      ]
     },
     "execution_count": 2,
     "metadata": {},
     "output_type": "execute_result"
    }
   ],
   "source": [
    "data.head()"
   ]
  },
  {
   "cell_type": "markdown",
   "metadata": {},
   "source": [
    "First, lets see how many unique IDs are there in the record"
   ]
  },
  {
   "cell_type": "code",
   "execution_count": 3,
   "metadata": {},
   "outputs": [
    {
     "name": "stdout",
     "output_type": "stream",
     "text": [
      "Amount of Unique IDs: 572\n"
     ]
    }
   ],
   "source": [
    "data = np.array(data)\n",
    "unique_ids = set(data[:,1])\n",
    "print(\"Amount of Unique IDs: \"+str(len(unique_ids)))"
   ]
  },
  {
   "cell_type": "markdown",
   "metadata": {},
   "source": [
    "Then we count times of the ID (we will call it customer) had called."
   ]
  },
  {
   "cell_type": "code",
   "execution_count": 4,
   "metadata": {
    "scrolled": true
   },
   "outputs": [
    {
     "name": "stdout",
     "output_type": "stream",
     "text": [
      "called 1 time(s) for 350 times\n",
      "called 2 time(s) for 123 times\n",
      "called 3 time(s) for 50 times\n",
      "called 4 time(s) for 20 times\n",
      "called 5 time(s) for 15 times\n",
      "called 6 time(s) for 8 times\n",
      "called 7 time(s) for 4 times\n",
      "called 8 time(s) for 1 times\n",
      "called 14 time(s) for 1 times\n"
     ]
    }
   ],
   "source": [
    "unique_id_called = dict()\n",
    "for i in data:\n",
    "    if i[1] in unique_id_called:\n",
    "        unique_id_called[i[1]] += 1\n",
    "    else:\n",
    "        unique_id_called[i[1]] = 1\n",
    "\n",
    "sorted_unique_id_called = sorted(unique_id_called.items(),key=operator.itemgetter(1))\n",
    "# for i in range(1,len(unique_id_called)):\n",
    "#     print(sorted_unique_id_called[-i])\n",
    "\n",
    "draw_hist = dict()\n",
    "for i in sorted_unique_id_called:\n",
    "    if i[1] in draw_hist:\n",
    "        draw_hist[i[1]] += 1\n",
    "    else:\n",
    "        draw_hist[i[1]] = 1\n",
    "        \n",
    "keys = np.array(list(draw_hist.keys()))\n",
    "values = np.array(list(draw_hist.values( ) ) )\n",
    "for i in range(len(keys)):\n",
    "    print(\"called\",keys[i],\"time(s) for\",values[i],\"times\")\n"
   ]
  },
  {
   "cell_type": "markdown",
   "metadata": {},
   "source": [
    "Now, we look at some of the most common word in the message section."
   ]
  },
  {
   "cell_type": "code",
   "execution_count": 5,
   "metadata": {},
   "outputs": [
    {
     "name": "stderr",
     "output_type": "stream",
     "text": [
      "Building prefix dict from /home/louiechiu/DataScience/HW1/ChineseDictionary/dict.txt.big ...\n",
      "Dumping model to file cache /tmp/jieba.ufef726f4388956d883eb10c0b6214106.cache\n",
      "Loading model cost 1.577 seconds.\n",
      "Prefix dict has been built succesfully.\n"
     ]
    },
    {
     "name": "stdout",
     "output_type": "stream",
     "text": [
      "['[', 'ECP', ']', ' ', '去電', '確認', '開戶', '文件', ' ', '客戶', '說', '後來', '去', '買', '美元', '保單', '就', '不', '開戶', '了']\n",
      "['[', 'ECP', ']', '不方', '說', ' ', ' ', 'IPO', ' ', 'MAIL']\n",
      "['[', 'ECP', ']', ' ', 'IPO', ' ', '忙', ' ', '先', 'MAIL']\n",
      "['家庭', '戶', ' ', '媽媽', '說', '女兒', '不開', '了', '，', '因為', '打工', '收入', '不', '穩定']\n",
      "['推', 'Q1']\n",
      "['兒子', '要', '開戶', '未成年', ',', '不願辦', '網路', '要', '單筆', '買', '亞太', '複合', '債', '.']\n",
      "['林', 'O', '屏', '216022', ' ', '家庭', '戶', ' ', '有', '可能', '有', '這戶', '下單', '又', '嫌', '麻煩']\n",
      "['台幣', ' ', '瑞興', ' ', '轉介', '208']\n",
      "['想', '買', '基金', ' ', '推', 'EC', ' ', '轉介', '之']\n",
      "['某', '小姐', '要', '買', 'nnl', '新興', '市場', '債', ' ', '美元', '買', ' ']\n",
      "['[', 'ECP', ']', '可能', '買回', ' ', ' ', '積', ' ', '單', ' ', '可以', '忍', '波動']\n",
      "['Idris', '轉介']\n",
      "['客戶', '來電', '說', '看到', '4', '年', 'IPO', ' ', '要', '美金', '的', ' ', '先寄', '開戶', '文件']\n",
      "['去電', '確認', '外幣', '帳號', '是', '台北', '富邦']\n",
      "['要', '用', '女兒', '名字', '開']\n"
     ]
    },
    {
     "name": "stderr",
     "output_type": "stream",
     "text": [
      "Process ForkPoolWorker-5:\n",
      "Process ForkPoolWorker-4:\n",
      "Process ForkPoolWorker-7:\n",
      "Process ForkPoolWorker-6:\n",
      "Process ForkPoolWorker-3:\n",
      "Process ForkPoolWorker-2:\n",
      "Process ForkPoolWorker-8:\n",
      "Process ForkPoolWorker-1:\n",
      "Traceback (most recent call last):\n",
      "  File \"/home/louiechiu/anaconda3/lib/python3.6/multiprocessing/process.py\", line 258, in _bootstrap\n",
      "    self.run()\n",
      "  File \"/home/louiechiu/anaconda3/lib/python3.6/multiprocessing/process.py\", line 93, in run\n",
      "    self._target(*self._args, **self._kwargs)\n",
      "  File \"/home/louiechiu/anaconda3/lib/python3.6/multiprocessing/pool.py\", line 108, in worker\n",
      "    task = get()\n",
      "  File \"/home/louiechiu/anaconda3/lib/python3.6/multiprocessing/queues.py\", line 335, in get\n",
      "    res = self._reader.recv_bytes()\n",
      "  File \"/home/louiechiu/anaconda3/lib/python3.6/multiprocessing/connection.py\", line 216, in recv_bytes\n",
      "    buf = self._recv_bytes(maxlength)\n",
      "  File \"/home/louiechiu/anaconda3/lib/python3.6/multiprocessing/connection.py\", line 407, in _recv_bytes\n",
      "    buf = self._recv(4)\n",
      "  File \"/home/louiechiu/anaconda3/lib/python3.6/multiprocessing/connection.py\", line 379, in _recv\n",
      "    chunk = read(handle, remaining)\n",
      "KeyboardInterrupt\n",
      "Traceback (most recent call last):\n",
      "Traceback (most recent call last):\n",
      "Traceback (most recent call last):\n",
      "Traceback (most recent call last):\n",
      "Traceback (most recent call last):\n",
      "Traceback (most recent call last):\n",
      "Traceback (most recent call last):\n",
      "  File \"/home/louiechiu/anaconda3/lib/python3.6/multiprocessing/process.py\", line 258, in _bootstrap\n",
      "    self.run()\n",
      "  File \"/home/louiechiu/anaconda3/lib/python3.6/multiprocessing/process.py\", line 258, in _bootstrap\n",
      "    self.run()\n",
      "  File \"/home/louiechiu/anaconda3/lib/python3.6/multiprocessing/process.py\", line 258, in _bootstrap\n",
      "    self.run()\n",
      "  File \"/home/louiechiu/anaconda3/lib/python3.6/multiprocessing/process.py\", line 258, in _bootstrap\n",
      "    self.run()\n",
      "  File \"/home/louiechiu/anaconda3/lib/python3.6/multiprocessing/process.py\", line 258, in _bootstrap\n",
      "    self.run()\n",
      "  File \"/home/louiechiu/anaconda3/lib/python3.6/multiprocessing/process.py\", line 258, in _bootstrap\n",
      "    self.run()\n",
      "  File \"/home/louiechiu/anaconda3/lib/python3.6/multiprocessing/process.py\", line 93, in run\n",
      "    self._target(*self._args, **self._kwargs)\n",
      "  File \"/home/louiechiu/anaconda3/lib/python3.6/multiprocessing/process.py\", line 93, in run\n",
      "    self._target(*self._args, **self._kwargs)\n",
      "  File \"/home/louiechiu/anaconda3/lib/python3.6/multiprocessing/process.py\", line 93, in run\n",
      "    self._target(*self._args, **self._kwargs)\n",
      "  File \"/home/louiechiu/anaconda3/lib/python3.6/multiprocessing/process.py\", line 258, in _bootstrap\n",
      "    self.run()\n",
      "  File \"/home/louiechiu/anaconda3/lib/python3.6/multiprocessing/process.py\", line 93, in run\n",
      "    self._target(*self._args, **self._kwargs)\n",
      "  File \"/home/louiechiu/anaconda3/lib/python3.6/multiprocessing/pool.py\", line 108, in worker\n",
      "    task = get()\n",
      "  File \"/home/louiechiu/anaconda3/lib/python3.6/multiprocessing/process.py\", line 93, in run\n",
      "    self._target(*self._args, **self._kwargs)\n",
      "  File \"/home/louiechiu/anaconda3/lib/python3.6/multiprocessing/process.py\", line 93, in run\n",
      "    self._target(*self._args, **self._kwargs)\n",
      "  File \"/home/louiechiu/anaconda3/lib/python3.6/multiprocessing/pool.py\", line 108, in worker\n",
      "    task = get()\n",
      "  File \"/home/louiechiu/anaconda3/lib/python3.6/multiprocessing/queues.py\", line 334, in get\n",
      "    with self._rlock:\n",
      "  File \"/home/louiechiu/anaconda3/lib/python3.6/multiprocessing/pool.py\", line 108, in worker\n",
      "    task = get()\n",
      "  File \"/home/louiechiu/anaconda3/lib/python3.6/multiprocessing/pool.py\", line 108, in worker\n",
      "    task = get()\n",
      "  File \"/home/louiechiu/anaconda3/lib/python3.6/multiprocessing/pool.py\", line 108, in worker\n",
      "    task = get()\n",
      "  File \"/home/louiechiu/anaconda3/lib/python3.6/multiprocessing/process.py\", line 93, in run\n",
      "    self._target(*self._args, **self._kwargs)\n",
      "  File \"/home/louiechiu/anaconda3/lib/python3.6/multiprocessing/queues.py\", line 334, in get\n",
      "    with self._rlock:\n",
      "  File \"/home/louiechiu/anaconda3/lib/python3.6/multiprocessing/synchronize.py\", line 95, in __enter__\n",
      "    return self._semlock.__enter__()\n",
      "  File \"/home/louiechiu/anaconda3/lib/python3.6/multiprocessing/queues.py\", line 334, in get\n",
      "    with self._rlock:\n",
      "  File \"/home/louiechiu/anaconda3/lib/python3.6/multiprocessing/pool.py\", line 108, in worker\n",
      "    task = get()\n",
      "  File \"/home/louiechiu/anaconda3/lib/python3.6/multiprocessing/queues.py\", line 334, in get\n",
      "    with self._rlock:\n",
      "  File \"/home/louiechiu/anaconda3/lib/python3.6/multiprocessing/queues.py\", line 334, in get\n",
      "    with self._rlock:\n",
      "  File \"/home/louiechiu/anaconda3/lib/python3.6/multiprocessing/synchronize.py\", line 95, in __enter__\n",
      "    return self._semlock.__enter__()\n",
      "  File \"/home/louiechiu/anaconda3/lib/python3.6/multiprocessing/synchronize.py\", line 95, in __enter__\n",
      "    return self._semlock.__enter__()\n",
      "KeyboardInterrupt\n",
      "  File \"/home/louiechiu/anaconda3/lib/python3.6/multiprocessing/queues.py\", line 334, in get\n",
      "    with self._rlock:\n",
      "KeyboardInterrupt\n",
      "  File \"/home/louiechiu/anaconda3/lib/python3.6/multiprocessing/synchronize.py\", line 95, in __enter__\n",
      "    return self._semlock.__enter__()\n",
      "  File \"/home/louiechiu/anaconda3/lib/python3.6/multiprocessing/synchronize.py\", line 95, in __enter__\n",
      "    return self._semlock.__enter__()\n",
      "KeyboardInterrupt\n",
      "  File \"/home/louiechiu/anaconda3/lib/python3.6/multiprocessing/synchronize.py\", line 95, in __enter__\n",
      "    return self._semlock.__enter__()\n",
      "KeyboardInterrupt\n",
      "KeyboardInterrupt\n",
      "KeyboardInterrupt\n",
      "  File \"/home/louiechiu/anaconda3/lib/python3.6/multiprocessing/pool.py\", line 108, in worker\n",
      "    task = get()\n",
      "  File \"/home/louiechiu/anaconda3/lib/python3.6/multiprocessing/queues.py\", line 334, in get\n",
      "    with self._rlock:\n",
      "  File \"/home/louiechiu/anaconda3/lib/python3.6/multiprocessing/synchronize.py\", line 95, in __enter__\n",
      "    return self._semlock.__enter__()\n",
      "KeyboardInterrupt\n"
     ]
    }
   ],
   "source": [
    "import jieba.analyse\n",
    "jieba.enable_parallel(8)\n",
    "cnt = 0\n",
    "for i in data:\n",
    "    cnt = cnt + 1\n",
    "    if cnt <= 15:\n",
    "        print(jieba.lcut(i[3]))"
   ]
  },
  {
   "cell_type": "markdown",
   "metadata": {},
   "source": [
    "From the above we can see what is segmented. It is apparently some kind of junk. SO, instead, we search for keywords."
   ]
  },
  {
   "cell_type": "code",
   "execution_count": 6,
   "metadata": {},
   "outputs": [
    {
     "name": "stdout",
     "output_type": "stream",
     "text": [
      "['開戶', 'ECP', '去電', '確認', '客戶', '後來', '保單', '文件', '美元']\n",
      "['ECP', '不方', 'IPO', 'MAIL']\n",
      "['ECP', 'IPO', 'MAIL']\n",
      "['媽媽', '女兒', '不開', '因為', '穩定', '打工', '家庭', '收入']\n",
      "['Q1']\n",
      "['兒子', '開戶', '不願辦', '網路', '單筆', '亞太', '複合', '未成年']\n",
      "['216022', '這戶', '下單', '麻煩', '家庭', '可能']\n",
      "['台幣', '瑞興', '轉介', '208']\n",
      "['EC', '轉介', '基金']\n",
      "['nnl', '新興', '市場', '小姐', '美元']\n",
      "['ECP', '買回', '波動', '可能', '可以']\n",
      "['Idris', '轉介']\n",
      "['先寄', '客戶', '來電', 'IPO', '開戶', '美金', '文件', '看到']\n",
      "['去電', '確認', '外幣', '帳號', '富邦', '台北']\n",
      "['女兒', '名字']\n"
     ]
    }
   ],
   "source": [
    "key_words = dict()\n",
    "cnt = 0\n",
    "for i in data:\n",
    "    for j in jieba.analyse.extract_tags(i[3]):\n",
    "        if j in key_words:\n",
    "            key_words[j] += 1\n",
    "        else:\n",
    "            key_words[j] = 1\n",
    "    cnt = cnt + 1\n",
    "    if cnt <=15:\n",
    "        print(jieba.analyse.extract_tags(i[3]))\n",
    "\n",
    "key_words = sorted(key_words.items(),key=operator.itemgetter(1))"
   ]
  },
  {
   "cell_type": "markdown",
   "metadata": {},
   "source": [
    "Now the above seems much more readable, although we may lose some of the information in the cutting stage. Some first thoughts upon seeing these datas.\n",
    "1. It is mostly key word oriented and thus many verbs are removed\n",
    "2. Given that it does mention some commodities, it is still hard to decide its intention.\n",
    "    * For example, '覺得', '計價', '6%', '收益', '美金', '短期', '全球' we don't know whether the customer wants to long or short 美金.\n",
    "3. There are unimportant verbs concerning selling commodities.\n",
    "    * 解釋, '收到', '請客'\n",
    "4. Abbreviations:\n",
    "    * 國世銀 $\\rightarrow$ 國泰世華銀行 ，富邦$\\rightarrow$ 富邦銀行\n",
    "    \n",
    "The following blocks will show the most commonly appeared word in the service record."
   ]
  },
  {
   "cell_type": "code",
   "execution_count": 7,
   "metadata": {},
   "outputs": [
    {
     "name": "stdout",
     "output_type": "stream",
     "text": [
      "('ECP', 441)\n",
      "('名單', 180)\n",
      "('開戶', 163)\n",
      "('Money', 148)\n",
      "('客戶', 122)\n",
      "('專刊', 92)\n",
      "('退休', 84)\n",
      "('訂閱', 78)\n",
      "('電子報', 78)\n",
      "('寄送', 76)\n",
      "('追蹤', 74)\n",
      "('分配', 65)\n",
      "('IPO', 65)\n",
      "('EC', 62)\n",
      "('轉介', 59)\n",
      "('寄回', 57)\n",
      "('家庭', 54)\n",
      "('收到', 47)\n",
      "('表單', 46)\n"
     ]
    }
   ],
   "source": [
    "for i in range(1,20):\n",
    "    \n",
    "    print(key_words[-i])"
   ]
  },
  {
   "cell_type": "markdown",
   "metadata": {},
   "source": [
    "The above method doesn't seems to be a good idea. Since, applying key word count to different customer is useless.\n",
    "Lets look at what each customer is most interested in. Here we set a limit that a **regular** customer are those who at least called $3$ times."
   ]
  },
  {
   "cell_type": "code",
   "execution_count": 27,
   "metadata": {
    "scrolled": true
   },
   "outputs": [
    {
     "name": "stderr",
     "output_type": "stream",
     "text": [
      "/home/louiechiu/anaconda3/lib/python3.6/site-packages/ipykernel_launcher.py:29: SettingWithCopyWarning: \n",
      "A value is trying to be set on a copy of a slice from a DataFrame\n",
      "\n",
      "See the caveats in the documentation: http://pandas.pydata.org/pandas-docs/stable/indexing.html#indexing-view-versus-copy\n"
     ]
    },
    {
     "data": {
      "text/html": [
       "<div>\n",
       "<style scoped>\n",
       "    .dataframe tbody tr th:only-of-type {\n",
       "        vertical-align: middle;\n",
       "    }\n",
       "\n",
       "    .dataframe tbody tr th {\n",
       "        vertical-align: top;\n",
       "    }\n",
       "\n",
       "    .dataframe thead th {\n",
       "        text-align: right;\n",
       "    }\n",
       "</style>\n",
       "<table border=\"1\" class=\"dataframe\">\n",
       "  <thead>\n",
       "    <tr style=\"text-align: right;\">\n",
       "      <th></th>\n",
       "      <th>Customer ID</th>\n",
       "      <th>Call time</th>\n",
       "      <th>tags</th>\n",
       "    </tr>\n",
       "  </thead>\n",
       "  <tbody>\n",
       "    <tr>\n",
       "      <th>0</th>\n",
       "      <td>AA3910</td>\n",
       "      <td>3</td>\n",
       "      <td>[ECP, 不方, IPO, MAIL, ECP, 問鋒裕要, 不要, ECP, 帳單, 會...</td>\n",
       "    </tr>\n",
       "    <tr>\n",
       "      <th>1</th>\n",
       "      <td>AA3167</td>\n",
       "      <td>3</td>\n",
       "      <td>[ECP, IPO, MAIL, ECP, 來不及, 當日, 120, 客戶, 再補, 紅利...</td>\n",
       "    </tr>\n",
       "    <tr>\n",
       "      <th>2</th>\n",
       "      <td>AA2355</td>\n",
       "      <td>3</td>\n",
       "      <td>[媽媽, 女兒, 不開, 因為, 穩定, 打工, 家庭, 收入, EC, 電娘, 追蹤, 再...</td>\n",
       "    </tr>\n",
       "    <tr>\n",
       "      <th>3</th>\n",
       "      <td>AA2829</td>\n",
       "      <td>4</td>\n",
       "      <td>[先寄, 客戶, 來電, IPO, 開戶, 美金, 文件, 看到, 去電, 確認, 外幣, ...</td>\n",
       "    </tr>\n",
       "    <tr>\n",
       "      <th>4</th>\n",
       "      <td>AA2833</td>\n",
       "      <td>3</td>\n",
       "      <td>[IPO, 書面, 通訊, 四年, 美元, Stock, 10, 22, 進線, 詢問, P...</td>\n",
       "    </tr>\n",
       "    <tr>\n",
       "      <th>5</th>\n",
       "      <td>AA8654</td>\n",
       "      <td>5</td>\n",
       "      <td>[Q1, 印度, CRSP, 多天, 申購, 手續費, 3000, 寄至, ECP, 客戶,...</td>\n",
       "    </tr>\n",
       "    <tr>\n",
       "      <th>6</th>\n",
       "      <td>AA2453</td>\n",
       "      <td>6</td>\n",
       "      <td>[ECP, IPO, 打給, 二天, 推荷, 天亞, NN, 新債, 美元, 只有, 目前,...</td>\n",
       "    </tr>\n",
       "    <tr>\n",
       "      <th>7</th>\n",
       "      <td>AA2852</td>\n",
       "      <td>5</td>\n",
       "      <td>[手續費, 年期, 50, 人民幣, 銀行, 類似, 有收, 兆豐, 沒收, 轉介, 208...</td>\n",
       "    </tr>\n",
       "    <tr>\n",
       "      <th>8</th>\n",
       "      <td>AA0263</td>\n",
       "      <td>4</td>\n",
       "      <td>[進線, IPO, 沒有, 要理專, 回電, mail, ECP, IPO, 機會, 美元,...</td>\n",
       "    </tr>\n",
       "    <tr>\n",
       "      <th>9</th>\n",
       "      <td>AA9022</td>\n",
       "      <td>5</td>\n",
       "      <td>[客戶, ECP, 回電, 指導, 環高, 轉到, APHY, 月配, ECP, 回電, 客...</td>\n",
       "    </tr>\n",
       "    <tr>\n",
       "      <th>10</th>\n",
       "      <td>AA3548</td>\n",
       "      <td>3</td>\n",
       "      <td>[ECP, 接聽, IPO, 客戶, 說會, 上網, 打住, 本人, 自己, ECP, 獲利...</td>\n",
       "    </tr>\n",
       "    <tr>\n",
       "      <th>11</th>\n",
       "      <td>AA2874</td>\n",
       "      <td>3</td>\n",
       "      <td>[ipo, 轉介, 208, 美金, IPO, 50, 萬台幣, 0.4%, 不會, 投信給...</td>\n",
       "    </tr>\n",
       "    <tr>\n",
       "      <th>12</th>\n",
       "      <td>AA4372</td>\n",
       "      <td>14</td>\n",
       "      <td>[網路上, ipo, 美及, 機會, 線上, 先作, 境內, 再補, 經理, 1.5%, 告...</td>\n",
       "    </tr>\n",
       "    <tr>\n",
       "      <th>13</th>\n",
       "      <td>AA2895</td>\n",
       "      <td>4</td>\n",
       "      <td>[轉介, ipo, 經理, 1.5%, 第一天, 美元, IPO, 208, 開戶, 告知,...</td>\n",
       "    </tr>\n",
       "    <tr>\n",
       "      <th>14</th>\n",
       "      <td>AA2904</td>\n",
       "      <td>5</td>\n",
       "      <td>[戶號, 260215, 來電, PASS, 小姐, 260215, 開戶, 小姐, 朋友,...</td>\n",
       "    </tr>\n",
       "  </tbody>\n",
       "</table>\n",
       "</div>"
      ],
      "text/plain": [
       "   Customer ID  Call time                                               tags\n",
       "0       AA3910          3  [ECP, 不方, IPO, MAIL, ECP, 問鋒裕要, 不要, ECP, 帳單, 會...\n",
       "1       AA3167          3  [ECP, IPO, MAIL, ECP, 來不及, 當日, 120, 客戶, 再補, 紅利...\n",
       "2       AA2355          3  [媽媽, 女兒, 不開, 因為, 穩定, 打工, 家庭, 收入, EC, 電娘, 追蹤, 再...\n",
       "3       AA2829          4  [先寄, 客戶, 來電, IPO, 開戶, 美金, 文件, 看到, 去電, 確認, 外幣, ...\n",
       "4       AA2833          3  [IPO, 書面, 通訊, 四年, 美元, Stock, 10, 22, 進線, 詢問, P...\n",
       "5       AA8654          5  [Q1, 印度, CRSP, 多天, 申購, 手續費, 3000, 寄至, ECP, 客戶,...\n",
       "6       AA2453          6  [ECP, IPO, 打給, 二天, 推荷, 天亞, NN, 新債, 美元, 只有, 目前,...\n",
       "7       AA2852          5  [手續費, 年期, 50, 人民幣, 銀行, 類似, 有收, 兆豐, 沒收, 轉介, 208...\n",
       "8       AA0263          4  [進線, IPO, 沒有, 要理專, 回電, mail, ECP, IPO, 機會, 美元,...\n",
       "9       AA9022          5  [客戶, ECP, 回電, 指導, 環高, 轉到, APHY, 月配, ECP, 回電, 客...\n",
       "10      AA3548          3  [ECP, 接聽, IPO, 客戶, 說會, 上網, 打住, 本人, 自己, ECP, 獲利...\n",
       "11      AA2874          3  [ipo, 轉介, 208, 美金, IPO, 50, 萬台幣, 0.4%, 不會, 投信給...\n",
       "12      AA4372         14  [網路上, ipo, 美及, 機會, 線上, 先作, 境內, 再補, 經理, 1.5%, 告...\n",
       "13      AA2895          4  [轉介, ipo, 經理, 1.5%, 第一天, 美元, IPO, 208, 開戶, 告知,...\n",
       "14      AA2904          5  [戶號, 260215, 來電, PASS, 小姐, 260215, 開戶, 小姐, 朋友,..."
      ]
     },
     "execution_count": 27,
     "metadata": {},
     "output_type": "execute_result"
    }
   ],
   "source": [
    "regular_customer = []\n",
    "regular_thresh = 3 # Change the number to define what the lower limit should be.\n",
    "for i in unique_id_called:\n",
    "    if unique_id_called[i] >= regular_thresh:\n",
    "#         print(\"hit\")\n",
    "#         print(unique_id_called[i])\n",
    "        regular_customer.append(i)\n",
    "regular_customer = np.array(regular_customer)\n",
    "\n",
    "df1 = pd.DataFrame([x for x in unique_id_called if unique_id_called[x]>= regular_thresh],columns=['Customer ID'])\n",
    "df2 = pd.DataFrame([unique_id_called[x] for x in unique_id_called if unique_id_called[x]>= regular_thresh],columns=['Call time'])\n",
    "df3 = pd.DataFrame(list(\"abc\"),columns=['tags'])\n",
    "merged_df = pd.concat([df1,df2,df3],axis=1)\n",
    "\n",
    "cnt = 0\n",
    "print_limt = 15 # update this to print more customers\n",
    "\n",
    "for i in regular_customer:\n",
    "    tag = list()\n",
    "    # go through the data and find all those that matches \"i\"\n",
    "    for j in data:\n",
    "        if j[1] == i:\n",
    "            # Change the method of cutting here.\n",
    "            # I am using keyword search right now, which maybe somehow inaccurate considering the given data.\n",
    "            tag.append(jieba.analyse.extract_tags( j[3]))\n",
    "    \n",
    "    \n",
    "    tag = [item for sublist in tag for item in sublist]\n",
    "    merged_df[\"tags\"][cnt] = tag\n",
    "    cnt += 1\n",
    "merged_df.head(n=15)"
   ]
  },
  {
   "cell_type": "markdown",
   "metadata": {},
   "source": [
    "The above shows how the merged dataframe. In the last column, it shows the tags \"jieba\" has cut off. Also, it is a merged version of all of the appeared tag."
   ]
  },
  {
   "cell_type": "markdown",
   "metadata": {},
   "source": [
    "The most reasonable way I think to conduct the EDA, would be to bring in some Hypothesis Testing techniques into this. However, most of those theory are applied to data concerning interval data or nominal data. That is, if we want a more theoretical explanatory about the data, it will be harder to prove.\n",
    "\n",
    "Besides, we really lack in the amount of data. 1000 entries can not really show anything, especially there are about 500 unique ids."
   ]
  }
 ],
 "metadata": {
  "kernelspec": {
   "display_name": "Python 3",
   "language": "python",
   "name": "python3"
  },
  "language_info": {
   "codemirror_mode": {
    "name": "ipython",
    "version": 3
   },
   "file_extension": ".py",
   "mimetype": "text/x-python",
   "name": "python",
   "nbconvert_exporter": "python",
   "pygments_lexer": "ipython3",
   "version": "3.6.8"
  }
 },
 "nbformat": 4,
 "nbformat_minor": 2
}
