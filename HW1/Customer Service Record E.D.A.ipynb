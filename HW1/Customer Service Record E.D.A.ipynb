{
 "cells": [
  {
   "cell_type": "code",
   "execution_count": 1,
   "metadata": {},
   "outputs": [
    {
     "name": "stderr",
     "output_type": "stream",
     "text": [
      "/home/louiechiu/anaconda3/lib/python3.6/importlib/_bootstrap.py:219: RuntimeWarning: numpy.ufunc size changed, may indicate binary incompatibility. Expected 216, got 192\n",
      "  return f(*args, **kwds)\n"
     ]
    }
   ],
   "source": [
    "import jieba\n",
    "jieba.set_dictionary('ChineseDictionary/dict.txt.big')\n",
    "import numpy as np\n",
    "import pandas as pd\n",
    "import operator\n",
    "import matplotlib.pyplot as plt\n",
    "%matplotlib inline\n",
    "data = pd.read_excel(\"customer_record_data.xlsx\")"
   ]
  },
  {
   "cell_type": "code",
   "execution_count": 2,
   "metadata": {},
   "outputs": [
    {
     "data": {
      "text/html": [
       "<div>\n",
       "<style scoped>\n",
       "    .dataframe tbody tr th:only-of-type {\n",
       "        vertical-align: middle;\n",
       "    }\n",
       "\n",
       "    .dataframe tbody tr th {\n",
       "        vertical-align: top;\n",
       "    }\n",
       "\n",
       "    .dataframe thead th {\n",
       "        text-align: right;\n",
       "    }\n",
       "</style>\n",
       "<table border=\"1\" class=\"dataframe\">\n",
       "  <thead>\n",
       "    <tr style=\"text-align: right;\">\n",
       "      <th></th>\n",
       "      <th>類別</th>\n",
       "      <th>Unique ID</th>\n",
       "      <th>資料日期</th>\n",
       "      <th>客戶事件描述</th>\n",
       "    </tr>\n",
       "  </thead>\n",
       "  <tbody>\n",
       "    <tr>\n",
       "      <th>0</th>\n",
       "      <td>Call Out</td>\n",
       "      <td>AA2765</td>\n",
       "      <td>20180102 141000</td>\n",
       "      <td>[ECP] 去電確認開戶文件 客戶說後來去買美元保單就不開戶了</td>\n",
       "    </tr>\n",
       "    <tr>\n",
       "      <th>1</th>\n",
       "      <td>Call Out</td>\n",
       "      <td>AA3910</td>\n",
       "      <td>20180102 144300</td>\n",
       "      <td>[ECP]不方說  IPO MAIL</td>\n",
       "    </tr>\n",
       "    <tr>\n",
       "      <th>2</th>\n",
       "      <td>Call Out</td>\n",
       "      <td>AA3167</td>\n",
       "      <td>20180102 154500</td>\n",
       "      <td>[ECP] IPO 忙 先MAIL</td>\n",
       "    </tr>\n",
       "    <tr>\n",
       "      <th>3</th>\n",
       "      <td>Call Out</td>\n",
       "      <td>AA2355</td>\n",
       "      <td>20180102 194359</td>\n",
       "      <td>家庭戶 媽媽說女兒不開了，因為打工收入不穩定</td>\n",
       "    </tr>\n",
       "    <tr>\n",
       "      <th>4</th>\n",
       "      <td>Call Out</td>\n",
       "      <td>AA2778</td>\n",
       "      <td>20180103 111132</td>\n",
       "      <td>推Q1</td>\n",
       "    </tr>\n",
       "  </tbody>\n",
       "</table>\n",
       "</div>"
      ],
      "text/plain": [
       "         類別 Unique ID             資料日期                           客戶事件描述\n",
       "0  Call Out    AA2765  20180102 141000  [ECP] 去電確認開戶文件 客戶說後來去買美元保單就不開戶了\n",
       "1  Call Out    AA3910  20180102 144300               [ECP]不方說  IPO MAIL\n",
       "2  Call Out    AA3167  20180102 154500                [ECP] IPO 忙 先MAIL\n",
       "3  Call Out    AA2355  20180102 194359           家庭戶 媽媽說女兒不開了，因為打工收入不穩定\n",
       "4  Call Out    AA2778  20180103 111132                              推Q1"
      ]
     },
     "execution_count": 2,
     "metadata": {},
     "output_type": "execute_result"
    }
   ],
   "source": [
    "data.head()"
   ]
  },
  {
   "cell_type": "markdown",
   "metadata": {},
   "source": [
    "First, lets see how many unique IDs are there in the record"
   ]
  },
  {
   "cell_type": "code",
   "execution_count": 3,
   "metadata": {},
   "outputs": [
    {
     "name": "stdout",
     "output_type": "stream",
     "text": [
      "Amount of Unique IDs: 572\n"
     ]
    }
   ],
   "source": [
    "data = np.array(data)\n",
    "unique_ids = set(data[:,1])\n",
    "print(\"Amount of Unique IDs: \"+str(len(unique_ids)))"
   ]
  },
  {
   "cell_type": "markdown",
   "metadata": {},
   "source": [
    "Then we count times of the ID (we will call it customer) had called."
   ]
  },
  {
   "cell_type": "code",
   "execution_count": 4,
   "metadata": {
    "scrolled": true
   },
   "outputs": [
    {
     "name": "stdout",
     "output_type": "stream",
     "text": [
      "called 1 time(s) for 350 times\n",
      "called 2 time(s) for 123 times\n",
      "called 3 time(s) for 50 times\n",
      "called 4 time(s) for 20 times\n",
      "called 5 time(s) for 15 times\n",
      "called 6 time(s) for 8 times\n",
      "called 7 time(s) for 4 times\n",
      "called 8 time(s) for 1 times\n",
      "called 14 time(s) for 1 times\n"
     ]
    }
   ],
   "source": [
    "unique_id_called = dict()\n",
    "for i in data:\n",
    "    if i[1] in unique_id_called:\n",
    "        unique_id_called[i[1]] += 1\n",
    "    else:\n",
    "        unique_id_called[i[1]] = 1\n",
    "\n",
    "sorted_unique_id_called = sorted(unique_id_called.items(),key=operator.itemgetter(1))\n",
    "# for i in range(1,len(unique_id_called)):\n",
    "#     print(sorted_unique_id_called[-i])\n",
    "\n",
    "draw_hist = dict()\n",
    "for i in sorted_unique_id_called:\n",
    "    if i[1] in draw_hist:\n",
    "        draw_hist[i[1]] += 1\n",
    "    else:\n",
    "        draw_hist[i[1]] = 1\n",
    "        \n",
    "keys = np.array(list(draw_hist.keys()))\n",
    "values = np.array(list(draw_hist.values( ) ) )\n",
    "for i in range(len(keys)):\n",
    "    print(\"called\",keys[i],\"time(s) for\",values[i],\"times\")\n"
   ]
  },
  {
   "cell_type": "markdown",
   "metadata": {},
   "source": [
    "Now, we look at some of the most common word in the message section."
   ]
  },
  {
   "cell_type": "code",
   "execution_count": 5,
   "metadata": {},
   "outputs": [
    {
     "name": "stderr",
     "output_type": "stream",
     "text": [
      "Building prefix dict from /home/louiechiu/DataScience/HW1/ChineseDictionary/dict.txt.big ...\n",
      "Dumping model to file cache /tmp/jieba.ufef726f4388956d883eb10c0b6214106.cache\n",
      "Loading model cost 1.610 seconds.\n",
      "Prefix dict has been built succesfully.\n"
     ]
    },
    {
     "name": "stdout",
     "output_type": "stream",
     "text": [
      "['[', 'ECP', ']', ' ', '去電', '確認', '開戶', '文件', ' ', '客戶', '說', '後來', '去', '買', '美元', '保單', '就', '不', '開戶', '了']\n",
      "['[', 'ECP', ']', '不方', '說', ' ', ' ', 'IPO', ' ', 'MAIL']\n",
      "['[', 'ECP', ']', ' ', 'IPO', ' ', '忙', ' ', '先', 'MAIL']\n",
      "['家庭', '戶', ' ', '媽媽', '說', '女兒', '不開', '了', '，', '因為', '打工', '收入', '不', '穩定']\n",
      "['推', 'Q1']\n",
      "['兒子', '要', '開戶', '未成年', ',', '不願辦', '網路', '要', '單筆', '買', '亞太', '複合', '債', '.']\n",
      "['林', 'O', '屏', '216022', ' ', '家庭', '戶', ' ', '有', '可能', '有', '這戶', '下單', '又', '嫌', '麻煩']\n",
      "['台幣', ' ', '瑞興', ' ', '轉介', '208']\n",
      "['想', '買', '基金', ' ', '推', 'EC', ' ', '轉介', '之']\n",
      "['某', '小姐', '要', '買', 'nnl', '新興', '市場', '債', ' ', '美元', '買', ' ']\n",
      "['[', 'ECP', ']', '可能', '買回', ' ', ' ', '積', ' ', '單', ' ', '可以', '忍', '波動']\n",
      "['Idris', '轉介']\n",
      "['客戶', '來電', '說', '看到', '4', '年', 'IPO', ' ', '要', '美金', '的', ' ', '先寄', '開戶', '文件']\n",
      "['去電', '確認', '外幣', '帳號', '是', '台北', '富邦']\n",
      "['要', '用', '女兒', '名字', '開']\n"
     ]
    }
   ],
   "source": [
    "import jieba.analyse\n",
    "jieba.enable_parallel(8)\n",
    "cnt = 0\n",
    "for i in data:\n",
    "    cnt = cnt + 1\n",
    "    if cnt <= 15:\n",
    "        print(jieba.lcut(i[3]))"
   ]
  },
  {
   "cell_type": "markdown",
   "metadata": {},
   "source": [
    "From the above we can see what is segmented. It is apparently some kind of junk. SO, instead, we search for keywords."
   ]
  },
  {
   "cell_type": "code",
   "execution_count": 6,
   "metadata": {},
   "outputs": [
    {
     "name": "stdout",
     "output_type": "stream",
     "text": [
      "['開戶', 'ECP', '去電', '確認', '客戶', '後來', '保單', '文件', '美元']\n",
      "['ECP', '不方', 'IPO', 'MAIL']\n",
      "['ECP', 'IPO', 'MAIL']\n",
      "['媽媽', '女兒', '不開', '因為', '穩定', '打工', '家庭', '收入']\n",
      "['Q1']\n",
      "['兒子', '開戶', '不願辦', '網路', '單筆', '亞太', '複合', '未成年']\n",
      "['216022', '這戶', '下單', '麻煩', '家庭', '可能']\n",
      "['台幣', '瑞興', '轉介', '208']\n",
      "['EC', '轉介', '基金']\n",
      "['nnl', '新興', '市場', '小姐', '美元']\n",
      "['ECP', '買回', '波動', '可能', '可以']\n",
      "['Idris', '轉介']\n",
      "['先寄', '客戶', '來電', 'IPO', '開戶', '美金', '文件', '看到']\n",
      "['去電', '確認', '外幣', '帳號', '富邦', '台北']\n",
      "['女兒', '名字']\n"
     ]
    }
   ],
   "source": [
    "key_words = dict()\n",
    "cnt = 0\n",
    "for i in data:\n",
    "    for j in jieba.analyse.extract_tags(i[3]):\n",
    "        if j in key_words:\n",
    "            key_words[j] += 1\n",
    "        else:\n",
    "            key_words[j] = 1\n",
    "    cnt = cnt + 1\n",
    "    if cnt <=15:\n",
    "        print(jieba.analyse.extract_tags(i[3]))\n",
    "\n",
    "key_words = sorted(key_words.items(),key=operator.itemgetter(1))"
   ]
  },
  {
   "cell_type": "markdown",
   "metadata": {},
   "source": [
    "Now the above seems much more readable, although we may lose some of the information in the cutting stage. Some first thoughts upon seeing these datas.\n",
    "1. It is mostly key word oriented and thus many verbs are removed\n",
    "2. Given that it does mention some commodities, it is still hard to decide its intention.\n",
    "    * For example, '覺得', '計價', '6%', '收益', '美金', '短期', '全球' we don't know whether the customer wants to long or short 美金.\n",
    "3. There are unimportant verbs concerning selling commodities.\n",
    "    * 解釋, '收到', '請客'\n",
    "4. Abbreviations:\n",
    "    * 國世銀 $\\rightarrow$ 國泰世華銀行 ，富邦$\\rightarrow$ 富邦銀行\n",
    "    \n",
    "The following blocks will show the most commonly appeared word in the service record."
   ]
  },
  {
   "cell_type": "code",
   "execution_count": 7,
   "metadata": {},
   "outputs": [
    {
     "name": "stdout",
     "output_type": "stream",
     "text": [
      "('ECP', 441)\n",
      "('名單', 180)\n",
      "('開戶', 163)\n",
      "('Money', 148)\n",
      "('客戶', 122)\n",
      "('專刊', 92)\n",
      "('退休', 84)\n",
      "('訂閱', 78)\n",
      "('電子報', 78)\n",
      "('寄送', 76)\n",
      "('追蹤', 74)\n",
      "('分配', 65)\n",
      "('IPO', 65)\n",
      "('EC', 62)\n",
      "('轉介', 59)\n",
      "('寄回', 57)\n",
      "('家庭', 54)\n",
      "('收到', 47)\n",
      "('表單', 46)\n"
     ]
    }
   ],
   "source": [
    "for i in range(1,20):\n",
    "    \n",
    "    print(key_words[-i])"
   ]
  },
  {
   "cell_type": "markdown",
   "metadata": {},
   "source": [
    "The above method doesn't seems to be a good idea. Since, applying key word count to different customer is useless.\n",
    "Lets look at what each customer is most interested in. Here we set a limit that a **regular** customer are those who at least called $3$ times."
   ]
  },
  {
   "cell_type": "code",
   "execution_count": 29,
   "metadata": {
    "scrolled": true
   },
   "outputs": [
    {
     "data": {
      "text/plain": [
       "array(['AA2765', 'AA3910', 'AA3167', 'AA2355', 'AA2778', 'AA2825',\n",
       "       'AA2826', 'AA2827', 'AA2828', 'AA4226', 'AA2829', 'AA2784',\n",
       "       'AA2833', 'AA5785', 'AA7870', 'AA8654', 'AA2834', 'AA2749',\n",
       "       'AA2841', 'AA4209', 'AA2843', 'AA8011', 'AA5706', 'AA2844',\n",
       "       'AA2771', 'AA2453', 'AA2758', 'AA2847', 'AA2849', 'AA2850',\n",
       "       'AA2852', 'AA0809', 'AA0263', 'AA2854', 'AA2855', 'AA2856',\n",
       "       'AA2831', 'AA2857', 'AA2858', 'AA2553', 'AA2861', 'AA2863',\n",
       "       'AA2866', 'AA2867', 'AA2871', 'AA9022', 'AA6578', 'AA2872',\n",
       "       'AA1160', 'AA2873', 'AA2851', 'AA3548', 'AA2874', 'AA2846',\n",
       "       'AA2876', 'AA2879', 'AA2285', 'AA2286', 'AA2881', 'AA2883',\n",
       "       'AA2884', 'AA2886', 'AA8199', 'AA2888', 'AA4291', 'AA2890',\n",
       "       'AA4372', 'AA2892', 'AA2893', 'AA2885', 'AA2895', 'AA2896',\n",
       "       'AA2868', 'AA2899', 'AA2900', 'AA2901', 'AA2902', 'AA2904',\n",
       "       'AA2903', 'AA6370', 'AA2869', 'AA2905', 'AA2906', 'AA2910',\n",
       "       'AA2913', 'AA2912', 'AA2917', 'AA2920', 'AA1377', 'AA4878',\n",
       "       'AA2932', 'AA2688', 'AA2690', 'AA2938', 'AA2941', 'AA5153',\n",
       "       'AA2082', 'AA9175', 'AA2933', 'AA4331', 'AA2293', 'AA2943',\n",
       "       'AA0269', 'AA8978', 'AA2948', 'AA2368', 'AA2952', 'AA2953',\n",
       "       'AA2898', 'AA2764', 'AA8077', 'AA2956', 'AA2958', 'AA2965',\n",
       "       'AA2969', 'AA4438', 'AA1049', 'AA2970', 'AA2973', 'AA2974',\n",
       "       'AA2979', 'AA2980', 'AA2968', 'AA2983', 'AA2985', 'AA2986',\n",
       "       'AA2987', 'AA1902', 'AA2988', 'AA2989', 'AA2990', 'AA2993',\n",
       "       'AA2994', 'AA3000', 'AA3001', 'AA3002', 'AA3004', 'AA3005',\n",
       "       'AA3006', 'AA8303', 'AA3009', 'AA3013', 'AA3014', 'AA3015',\n",
       "       'AA1368', 'AA2945', 'AA3020', 'AA3021', 'AA3022', 'AA3023',\n",
       "       'AA3024', 'AA2159', 'AA5609', 'AA3029', 'AA3037', 'AA3038',\n",
       "       'AA3039', 'AA2378', 'AA2992', 'AA3041', 'AA3042', 'AA3044',\n",
       "       'AA3045', 'AA3046', 'AA3048', 'AA3050', 'AA3052', 'AA3053',\n",
       "       'AA3055', 'AA3056', 'AA7523', 'AA3947', 'AA3062', 'AA7799',\n",
       "       'AA5939', 'AA1935', 'AA9132', 'AA8766', 'AA8683', 'AA3070',\n",
       "       'AA4259', 'AA2643', 'AA3075', 'AA3076', 'AA3077', 'AA0557',\n",
       "       'AA5617', 'AA3312', 'AA4254', 'AA4199', 'AA3735', 'AA7083',\n",
       "       'AA2388', 'AA1538', 'AA3085', 'AA9791', 'AA0102', 'AA3078',\n",
       "       'AA3507', 'AA1300', 'AA3086', 'AA3104', 'AA3064', 'AA3119',\n",
       "       'AA7944', 'AA3137', 'AA3139', 'AA5106', 'AA9122', 'AA6076',\n",
       "       'AA5297', 'AA9427', 'AA3159', 'AA3127', 'AA1087', 'AA4255',\n",
       "       'AA3170', 'AA3171', 'AA3175', 'AA3172', 'AA9094', 'AA3176',\n",
       "       'AA0063', 'AA2505', 'AA3180', 'AA6736', 'AA3184', 'AA3185',\n",
       "       'AA3186', 'AA3188', 'AA3190', 'AA3192', 'AA3194', 'AA3195',\n",
       "       'AA3196', 'AA3197', 'AA3198', 'AA3199', 'AA3200', 'AA3201',\n",
       "       'AA3202', 'AA3203', 'AA2908', 'AA3204', 'AA3205', 'AA3207',\n",
       "       'AA3209', 'AA3210', 'AA3211', 'AA3212', 'AA3213', 'AA3214',\n",
       "       'AA3215', 'AA3216', 'AA3217', 'AA3218', 'AA3219', 'AA3220',\n",
       "       'AA3221', 'AA3223', 'AA3224', 'AA3225', 'AA3226', 'AA3227',\n",
       "       'AA3228', 'AA3229', 'AA3231', 'AA3232', 'AA3233', 'AA3235',\n",
       "       'AA3236', 'AA3237', 'AA3238', 'AA3241', 'AA3242', 'AA3243',\n",
       "       'AA3246', 'AA3248', 'AA3249', 'AA3250', 'AA3254', 'AA3257',\n",
       "       'AA3258', 'AA3260', 'AA3262', 'AA3263', 'AA1972', 'AA3265',\n",
       "       'AA3267', 'AA3269', 'AA3270', 'AA3271', 'AA3272', 'AA3278',\n",
       "       'AA3281', 'AA3283', 'AA3189', 'AA3285', 'AA3286', 'AA2531',\n",
       "       'AA3291', 'AA2428', 'AA3300', 'AA3301', 'AA3302', 'AA3303',\n",
       "       'AA3304', 'AA3305', 'AA3306', 'AA3307', 'AA3308', 'AA3310',\n",
       "       'AA3311', 'AA3314', 'AA3313', 'AA0947', 'AA3309', 'AA3315',\n",
       "       'AA3316', 'AA3317', 'AA0743', 'AA3318', 'AA3320', 'AA3326',\n",
       "       'AA3328', 'AA3329', 'AA3331', 'AA3332', 'AA3336', 'AA3337',\n",
       "       'AA3348', 'AA3350', 'AA3351', 'AA3352', 'AA3357', 'AA3358',\n",
       "       'AA3359', 'AA3360', 'AA3362', 'AA3363', 'AA3364', 'AA3366',\n",
       "       'AA3367', 'AA3369', 'AA3374', 'AA3377', 'AA3378', 'AA3381',\n",
       "       'AA3387', 'AA3390', 'AA3392', 'AA3394', 'AA3395', 'AA3397',\n",
       "       'AA3400', 'AA3402', 'AA3404', 'AA8267', 'AA5585', 'AA1353',\n",
       "       'AA9790', 'AA3408', 'AA3410', 'AA3412', 'AA3413', 'AA3416',\n",
       "       'AA3419', 'AA3420', 'AA3421', 'AA3422', 'AA3423', 'AA3424',\n",
       "       'AA3425', 'AA3426', 'AA3427', 'AA3428', 'AA3429', 'AA3430',\n",
       "       'AA3432', 'AA3433', 'AA3434', 'AA3435', 'AA3438', 'AA3441',\n",
       "       'AA3443', 'AA3444', 'AA3447', 'AA3451', 'AA3452', 'AA3453',\n",
       "       'AA3454', 'AA3456', 'AA3457', 'AA3458', 'AA3460', 'AA6007',\n",
       "       'AA7780', 'AA3476', 'AA0601', 'AA3284', 'AA3409', 'AA3319',\n",
       "       'AA3339', 'AA9107', 'AA6445', 'AA3487', 'AA3488', 'AA2684',\n",
       "       'AA1978', 'AA4905', 'AA3355', 'AA3368', 'AA3373', 'AA3375',\n",
       "       'AA3379', 'AA3382', 'AA1134', 'AA3206', 'AA0329', 'AA5736',\n",
       "       'AA5408', 'AA5192', 'AA3496', 'AA3384', 'AA3385', 'AA3389',\n",
       "       'AA3398', 'AA3208', 'AA3474', 'AA3497', 'AA8041', 'AA9875',\n",
       "       'AA3407', 'AA3414', 'AA3415', 'AA1218', 'AA3439', 'AA3502',\n",
       "       'AA3506', 'AA3509', 'AA3521', 'AA3522', 'AA3525', 'AA3177',\n",
       "       'AA7119', 'AA1410', 'AA3533', 'AA3532', 'AA3486', 'AA3535',\n",
       "       'AA3537', 'AA3538', 'AA3528', 'AA3542', 'AA2208', 'AA3541',\n",
       "       'AA7685', 'AA3523', 'AA4642', 'AA3559', 'AA3562', 'AA8857',\n",
       "       'AA3563', 'AA4763', 'AA3566', 'AA3569', 'AA3571', 'AA3577',\n",
       "       'AA3580', 'AA6342', 'AA3121', 'AA3582', 'AA3586', 'AA3588',\n",
       "       'AA3590', 'AA0422', 'AA3593', 'AA3594', 'AA3587', 'AA2769',\n",
       "       'AA3567', 'AA3596', 'AA7601', 'AA3597', 'AA3598', 'AA3599',\n",
       "       'AA3600', 'AA3604', 'AA3591', 'AA3605', 'AA6008', 'AA3610',\n",
       "       'AA3584', 'AA3618', 'AA3622', 'AA3624', 'AA3626', 'AA3629',\n",
       "       'AA3628', 'AA3631', 'AA3632', 'AA3633', 'AA3026', 'AA1707',\n",
       "       'AA3634', 'AA3636', 'AA9802', 'AA3637', 'AA2951', 'AA3630',\n",
       "       'AA2699', 'AA3635', 'AA3638', 'AA3673', 'AA3674', 'AA0305',\n",
       "       'AA3675', 'AA1661', 'AA3880', 'AA5576', 'AA3558', 'AA0689',\n",
       "       'AA8395', 'AA1979', 'AA9236', 'AA3685', 'AA3621', 'AA3689',\n",
       "       'AA3691', 'AA7534', 'AA2346', 'AA3701', 'AA4200', 'AA3703',\n",
       "       'AA8549', 'AA3690', 'AA3707', 'AA3708', 'AA3705', 'AA9325',\n",
       "       'AA7485', 'AA3688', 'AA8459', 'AA3715', 'AA2977', 'AA3718',\n",
       "       'AA7541', 'AA3723', 'AA3727', 'AA7518', 'AA0340', 'AA3730',\n",
       "       'AA3728', 'AA3732', 'AA0546', 'AA3741', 'AA7384', 'AA3678',\n",
       "       'AA8130', 'AA7030', 'AA9951', 'AA3768', 'AA3767', 'AA7368',\n",
       "       'AA0552', 'AA3714', 'AA5645', 'AA1529', 'AA3801', 'AA9929',\n",
       "       'AA3766', 'AA3813'], dtype='<U6')"
      ]
     },
     "execution_count": 29,
     "metadata": {},
     "output_type": "execute_result"
    }
   ],
   "source": [
    "regular_customer = []\n",
    "regular_thresh = 0\n",
    "for i in unique_id_called:\n",
    "    if unique_id_called[i] >= regular_thresh:\n",
    "#         print(\"hit\")\n",
    "        regular_customer.append(i)\n",
    "regular_customer = np.array(regular_customer)\n",
    "regular_customer"
   ]
  },
  {
   "cell_type": "code",
   "execution_count": 58,
   "metadata": {},
   "outputs": [
    {
     "data": {
      "text/html": [
       "<div>\n",
       "<style scoped>\n",
       "    .dataframe tbody tr th:only-of-type {\n",
       "        vertical-align: middle;\n",
       "    }\n",
       "\n",
       "    .dataframe tbody tr th {\n",
       "        vertical-align: top;\n",
       "    }\n",
       "\n",
       "    .dataframe thead th {\n",
       "        text-align: right;\n",
       "    }\n",
       "</style>\n",
       "<table border=\"1\" class=\"dataframe\">\n",
       "  <thead>\n",
       "    <tr style=\"text-align: right;\">\n",
       "      <th></th>\n",
       "      <th>Customer ID</th>\n",
       "      <th>Call time</th>\n",
       "      <th>tags</th>\n",
       "    </tr>\n",
       "  </thead>\n",
       "  <tbody>\n",
       "    <tr>\n",
       "      <th>0</th>\n",
       "      <td>AA2765</td>\n",
       "      <td>1</td>\n",
       "      <td>a</td>\n",
       "    </tr>\n",
       "    <tr>\n",
       "      <th>1</th>\n",
       "      <td>AA3910</td>\n",
       "      <td>3</td>\n",
       "      <td>b</td>\n",
       "    </tr>\n",
       "    <tr>\n",
       "      <th>2</th>\n",
       "      <td>AA3167</td>\n",
       "      <td>3</td>\n",
       "      <td>c</td>\n",
       "    </tr>\n",
       "    <tr>\n",
       "      <th>3</th>\n",
       "      <td>AA2355</td>\n",
       "      <td>3</td>\n",
       "      <td>NaN</td>\n",
       "    </tr>\n",
       "    <tr>\n",
       "      <th>4</th>\n",
       "      <td>AA2778</td>\n",
       "      <td>1</td>\n",
       "      <td>NaN</td>\n",
       "    </tr>\n",
       "  </tbody>\n",
       "</table>\n",
       "</div>"
      ],
      "text/plain": [
       "  Customer ID  Call time tags\n",
       "0      AA2765          1    a\n",
       "1      AA3910          3    b\n",
       "2      AA3167          3    c\n",
       "3      AA2355          3  NaN\n",
       "4      AA2778          1  NaN"
      ]
     },
     "execution_count": 58,
     "metadata": {},
     "output_type": "execute_result"
    }
   ],
   "source": [
    "df1 = pd.DataFrame(list(unique_id_called.keys()),columns=['Customer ID'])\n",
    "df2 = pd.DataFrame(list(unique_id_called.values()),columns=['Call time'])\n",
    "df3 = pd.DataFrame(list(\"abc\"),columns=['tags'])\n",
    "merged_df = pd.concat([df1,df2,df3],axis=1)\n",
    "\n",
    "merged_df.head()\n"
   ]
  },
  {
   "cell_type": "code",
   "execution_count": 62,
   "metadata": {
    "scrolled": true
   },
   "outputs": [
    {
     "name": "stdout",
     "output_type": "stream",
     "text": [
      "AA2765\n"
     ]
    },
    {
     "ename": "ValueError",
     "evalue": "At based indexing on an non-integer index can only have non-integer indexers",
     "output_type": "error",
     "traceback": [
      "\u001b[0;31m---------------------------------------------------------------------------\u001b[0m",
      "\u001b[0;31mValueError\u001b[0m                                Traceback (most recent call last)",
      "\u001b[0;32m<ipython-input-62-f3bde3ddf4f7>\u001b[0m in \u001b[0;36m<module>\u001b[0;34m()\u001b[0m\n\u001b[1;32m     13\u001b[0m \u001b[0;34m\u001b[0m\u001b[0m\n\u001b[1;32m     14\u001b[0m     \u001b[0mtag\u001b[0m \u001b[0;34m=\u001b[0m \u001b[0;34m[\u001b[0m\u001b[0mitem\u001b[0m \u001b[0;32mfor\u001b[0m \u001b[0msublist\u001b[0m \u001b[0;32min\u001b[0m \u001b[0mtag\u001b[0m \u001b[0;32mfor\u001b[0m \u001b[0mitem\u001b[0m \u001b[0;32min\u001b[0m \u001b[0msublist\u001b[0m\u001b[0;34m]\u001b[0m\u001b[0;34m\u001b[0m\u001b[0m\n\u001b[0;32m---> 15\u001b[0;31m     \u001b[0mprint\u001b[0m\u001b[0;34m(\u001b[0m\u001b[0mmerged_df\u001b[0m\u001b[0;34m.\u001b[0m\u001b[0mat\u001b[0m\u001b[0;34m[\u001b[0m\u001b[0mcnt\u001b[0m\u001b[0;34m,\u001b[0m\u001b[0;36m2\u001b[0m\u001b[0;34m]\u001b[0m\u001b[0;34m)\u001b[0m\u001b[0;34m\u001b[0m\u001b[0m\n\u001b[0m\u001b[1;32m     16\u001b[0m     \u001b[0mmerged_df\u001b[0m\u001b[0;34m.\u001b[0m\u001b[0mat\u001b[0m\u001b[0;34m[\u001b[0m\u001b[0mcnt\u001b[0m\u001b[0;34m,\u001b[0m\u001b[0;36m2\u001b[0m\u001b[0;34m]\u001b[0m \u001b[0;34m=\u001b[0m \u001b[0mtag\u001b[0m\u001b[0;34m\u001b[0m\u001b[0m\n\u001b[1;32m     17\u001b[0m     \u001b[0mcnt\u001b[0m \u001b[0;34m+=\u001b[0m \u001b[0;36m1\u001b[0m\u001b[0;34m\u001b[0m\u001b[0m\n",
      "\u001b[0;32m~/anaconda3/lib/python3.6/site-packages/pandas/core/indexing.py\u001b[0m in \u001b[0;36m__getitem__\u001b[0;34m(self, key)\u001b[0m\n\u001b[1;32m   2139\u001b[0m                 \u001b[0;32mraise\u001b[0m \u001b[0mValueError\u001b[0m\u001b[0;34m(\u001b[0m\u001b[0;34m'Invalid call for scalar access (getting)!'\u001b[0m\u001b[0;34m)\u001b[0m\u001b[0;34m\u001b[0m\u001b[0m\n\u001b[1;32m   2140\u001b[0m \u001b[0;34m\u001b[0m\u001b[0m\n\u001b[0;32m-> 2141\u001b[0;31m         \u001b[0mkey\u001b[0m \u001b[0;34m=\u001b[0m \u001b[0mself\u001b[0m\u001b[0;34m.\u001b[0m\u001b[0m_convert_key\u001b[0m\u001b[0;34m(\u001b[0m\u001b[0mkey\u001b[0m\u001b[0;34m)\u001b[0m\u001b[0;34m\u001b[0m\u001b[0m\n\u001b[0m\u001b[1;32m   2142\u001b[0m         \u001b[0;32mreturn\u001b[0m \u001b[0mself\u001b[0m\u001b[0;34m.\u001b[0m\u001b[0mobj\u001b[0m\u001b[0;34m.\u001b[0m\u001b[0m_get_value\u001b[0m\u001b[0;34m(\u001b[0m\u001b[0;34m*\u001b[0m\u001b[0mkey\u001b[0m\u001b[0;34m,\u001b[0m \u001b[0mtakeable\u001b[0m\u001b[0;34m=\u001b[0m\u001b[0mself\u001b[0m\u001b[0;34m.\u001b[0m\u001b[0m_takeable\u001b[0m\u001b[0;34m)\u001b[0m\u001b[0;34m\u001b[0m\u001b[0m\n\u001b[1;32m   2143\u001b[0m \u001b[0;34m\u001b[0m\u001b[0m\n",
      "\u001b[0;32m~/anaconda3/lib/python3.6/site-packages/pandas/core/indexing.py\u001b[0m in \u001b[0;36m_convert_key\u001b[0;34m(self, key, is_setter)\u001b[0m\n\u001b[1;32m   2225\u001b[0m             \u001b[0;32melse\u001b[0m\u001b[0;34m:\u001b[0m\u001b[0;34m\u001b[0m\u001b[0m\n\u001b[1;32m   2226\u001b[0m                 \u001b[0;32mif\u001b[0m \u001b[0mis_integer\u001b[0m\u001b[0;34m(\u001b[0m\u001b[0mi\u001b[0m\u001b[0;34m)\u001b[0m\u001b[0;34m:\u001b[0m\u001b[0;34m\u001b[0m\u001b[0m\n\u001b[0;32m-> 2227\u001b[0;31m                     raise ValueError(\"At based indexing on an non-integer \"\n\u001b[0m\u001b[1;32m   2228\u001b[0m                                      \u001b[0;34m\"index can only have non-integer \"\u001b[0m\u001b[0;34m\u001b[0m\u001b[0m\n\u001b[1;32m   2229\u001b[0m                                      \"indexers\")\n",
      "\u001b[0;31mValueError\u001b[0m: At based indexing on an non-integer index can only have non-integer indexers"
     ]
    }
   ],
   "source": [
    "cnt = 0\n",
    "print_limt = 15 # update this to print more customers\n",
    "\n",
    "for i in regular_customer:\n",
    "    print(i)\n",
    "    \n",
    "    tag = list()\n",
    "    # go through the data and find all those that matches \"i\"\n",
    "    for j in data:\n",
    "        if j[1] == i:\n",
    "            tag.append(jieba.analyse.extract_tags( j[3]))\n",
    "    \n",
    "    \n",
    "    tag = [item for sublist in tag for item in sublist]\n",
    "    print(merged_df.at[cnt,2])\n",
    "    merged_df.at[cnt,2] = tag\n",
    "    cnt += 1\n",
    "    print(tag)\n"
   ]
  },
  {
   "cell_type": "markdown",
   "metadata": {},
   "source": [
    "From this step, lets make some **beautiful** dataframes."
   ]
  },
  {
   "cell_type": "markdown",
   "metadata": {},
   "source": [
    "# TODO\n",
    "## prepare data into a tidy data frame, where colmnames are 1. ID 2. Call times 3. keywords of talk 4. list out the top-5 high keywords\n",
    "## "
   ]
  },
  {
   "cell_type": "code",
   "execution_count": 12,
   "metadata": {},
   "outputs": [
    {
     "name": "stdout",
     "output_type": "stream",
     "text": [
      "[]\n"
     ]
    },
    {
     "ename": "IndexError",
     "evalue": "list index out of range",
     "output_type": "error",
     "traceback": [
      "\u001b[0;31m---------------------------------------------------------------------------\u001b[0m",
      "\u001b[0;31mIndexError\u001b[0m                                Traceback (most recent call last)",
      "\u001b[0;32m<ipython-input-12-1062d7ce3b13>\u001b[0m in \u001b[0;36m<module>\u001b[0;34m()\u001b[0m\n\u001b[1;32m      1\u001b[0m \u001b[0mmyarr\u001b[0m \u001b[0;34m=\u001b[0m \u001b[0mlist\u001b[0m\u001b[0;34m(\u001b[0m\u001b[0mlist\u001b[0m\u001b[0;34m(\u001b[0m\u001b[0;34m)\u001b[0m\u001b[0;34m)\u001b[0m\u001b[0;34m\u001b[0m\u001b[0m\n\u001b[1;32m      2\u001b[0m \u001b[0mprint\u001b[0m\u001b[0;34m(\u001b[0m\u001b[0mmyarr\u001b[0m\u001b[0;34m)\u001b[0m\u001b[0;34m\u001b[0m\u001b[0m\n\u001b[0;32m----> 3\u001b[0;31m \u001b[0mmyarr\u001b[0m\u001b[0;34m[\u001b[0m\u001b[0;36m0\u001b[0m\u001b[0;34m]\u001b[0m\u001b[0;34m[\u001b[0m\u001b[0;36m1\u001b[0m\u001b[0;34m]\u001b[0m\u001b[0;34m\u001b[0m\u001b[0m\n\u001b[0m",
      "\u001b[0;31mIndexError\u001b[0m: list index out of range"
     ]
    }
   ],
   "source": [
    "myarr = list(list())\n",
    "print(myarr)\n"
   ]
  }
 ],
 "metadata": {
  "kernelspec": {
   "display_name": "Python 3",
   "language": "python",
   "name": "python3"
  },
  "language_info": {
   "codemirror_mode": {
    "name": "ipython",
    "version": 3
   },
   "file_extension": ".py",
   "mimetype": "text/x-python",
   "name": "python",
   "nbconvert_exporter": "python",
   "pygments_lexer": "ipython3",
   "version": "3.6.6"
  }
 },
 "nbformat": 4,
 "nbformat_minor": 2
}
