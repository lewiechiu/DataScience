{
 "cells": [
  {
   "cell_type": "code",
   "execution_count": 2,
   "metadata": {},
   "outputs": [],
   "source": [
    "import jieba\n",
    "jieba.set_dictionary('ChineseDictionary/dict.txt.big')\n",
    "import numpy as np\n",
    "import pandas as pd\n",
    "import operator\n",
    "import matplotlib.pyplot as plt\n",
    "%matplotlib inline\n",
    "data = pd.read_excel(\"customer_record_data.xlsx\")"
   ]
  },
  {
   "cell_type": "code",
   "execution_count": 4,
   "metadata": {},
   "outputs": [
    {
     "data": {
      "text/html": [
       "<div>\n",
       "<style scoped>\n",
       "    .dataframe tbody tr th:only-of-type {\n",
       "        vertical-align: middle;\n",
       "    }\n",
       "\n",
       "    .dataframe tbody tr th {\n",
       "        vertical-align: top;\n",
       "    }\n",
       "\n",
       "    .dataframe thead th {\n",
       "        text-align: right;\n",
       "    }\n",
       "</style>\n",
       "<table border=\"1\" class=\"dataframe\">\n",
       "  <thead>\n",
       "    <tr style=\"text-align: right;\">\n",
       "      <th></th>\n",
       "      <th>類別</th>\n",
       "      <th>Unique ID</th>\n",
       "      <th>資料日期</th>\n",
       "      <th>客戶事件描述</th>\n",
       "    </tr>\n",
       "  </thead>\n",
       "  <tbody>\n",
       "    <tr>\n",
       "      <th>0</th>\n",
       "      <td>Call Out</td>\n",
       "      <td>AA2765</td>\n",
       "      <td>20180102 141000</td>\n",
       "      <td>[ECP] 去電確認開戶文件 客戶說後來去買美元保單就不開戶了</td>\n",
       "    </tr>\n",
       "    <tr>\n",
       "      <th>1</th>\n",
       "      <td>Call Out</td>\n",
       "      <td>AA3910</td>\n",
       "      <td>20180102 144300</td>\n",
       "      <td>[ECP]不方說  IPO MAIL</td>\n",
       "    </tr>\n",
       "    <tr>\n",
       "      <th>2</th>\n",
       "      <td>Call Out</td>\n",
       "      <td>AA3167</td>\n",
       "      <td>20180102 154500</td>\n",
       "      <td>[ECP] IPO 忙 先MAIL</td>\n",
       "    </tr>\n",
       "    <tr>\n",
       "      <th>3</th>\n",
       "      <td>Call Out</td>\n",
       "      <td>AA2355</td>\n",
       "      <td>20180102 194359</td>\n",
       "      <td>家庭戶 媽媽說女兒不開了，因為打工收入不穩定</td>\n",
       "    </tr>\n",
       "    <tr>\n",
       "      <th>4</th>\n",
       "      <td>Call Out</td>\n",
       "      <td>AA2778</td>\n",
       "      <td>20180103 111132</td>\n",
       "      <td>推Q1</td>\n",
       "    </tr>\n",
       "  </tbody>\n",
       "</table>\n",
       "</div>"
      ],
      "text/plain": [
       "         類別 Unique ID             資料日期                           客戶事件描述\n",
       "0  Call Out    AA2765  20180102 141000  [ECP] 去電確認開戶文件 客戶說後來去買美元保單就不開戶了\n",
       "1  Call Out    AA3910  20180102 144300               [ECP]不方說  IPO MAIL\n",
       "2  Call Out    AA3167  20180102 154500                [ECP] IPO 忙 先MAIL\n",
       "3  Call Out    AA2355  20180102 194359           家庭戶 媽媽說女兒不開了，因為打工收入不穩定\n",
       "4  Call Out    AA2778  20180103 111132                              推Q1"
      ]
     },
     "execution_count": 4,
     "metadata": {},
     "output_type": "execute_result"
    }
   ],
   "source": [
    "data.head()"
   ]
  },
  {
   "cell_type": "markdown",
   "metadata": {},
   "source": [
    "First, lets see how many unique IDs are there in the record"
   ]
  },
  {
   "cell_type": "code",
   "execution_count": 5,
   "metadata": {},
   "outputs": [
    {
     "name": "stdout",
     "output_type": "stream",
     "text": [
      "Amount of Unique IDs: 572\n"
     ]
    }
   ],
   "source": [
    "data = np.array(data)\n",
    "unique_ids = set(data[:,1])\n",
    "print(\"Amount of Unique IDs: \"+str(len(unique_ids)))"
   ]
  },
  {
   "cell_type": "markdown",
   "metadata": {},
   "source": [
    "Then we count times of the ID (we will call it customer) had called."
   ]
  },
  {
   "cell_type": "code",
   "execution_count": 6,
   "metadata": {
    "scrolled": true
   },
   "outputs": [
    {
     "name": "stdout",
     "output_type": "stream",
     "text": [
      "called 1 time(s) for 350 times\n",
      "called 2 time(s) for 123 times\n",
      "called 3 time(s) for 50 times\n",
      "called 4 time(s) for 20 times\n",
      "called 5 time(s) for 15 times\n",
      "called 6 time(s) for 8 times\n",
      "called 7 time(s) for 4 times\n",
      "called 8 time(s) for 1 times\n",
      "called 14 time(s) for 1 times\n"
     ]
    }
   ],
   "source": [
    "unique_id_called = dict()\n",
    "for i in data:\n",
    "    if i[1] in unique_id_called:\n",
    "        unique_id_called[i[1]] += 1\n",
    "    else:\n",
    "        unique_id_called[i[1]] = 1\n",
    "\n",
    "sorted_unique_id_called = sorted(unique_id_called.items(),key=operator.itemgetter(1))\n",
    "# for i in range(1,len(unique_id_called)):\n",
    "#     print(sorted_unique_id_called[-i])\n",
    "\n",
    "draw_hist = dict()\n",
    "for i in sorted_unique_id_called:\n",
    "    if i[1] in draw_hist:\n",
    "        draw_hist[i[1]] += 1\n",
    "    else:\n",
    "        draw_hist[i[1]] = 1\n",
    "        \n",
    "keys = np.array(list(draw_hist.keys()))\n",
    "values = np.array(list(draw_hist.values( ) ) )\n",
    "for i in range(len(keys)):\n",
    "    print(\"called\",keys[i],\"time(s) for\",values[i],\"times\")\n"
   ]
  },
  {
   "cell_type": "markdown",
   "metadata": {},
   "source": [
    "Now, we look at some of the most common word in the message section."
   ]
  },
  {
   "cell_type": "code",
   "execution_count": 24,
   "metadata": {},
   "outputs": [
    {
     "name": "stdout",
     "output_type": "stream",
     "text": [
      "['[', 'ECP', ']', ' ', '去電', '確認', '開戶', '文件', ' ', '客戶', '說', '後來', '去', '買', '美元', '保單', '就', '不', '開戶', '了']\n",
      "['[', 'ECP', ']', '不方', '說', ' ', ' ', 'IPO', ' ', 'MAIL']\n",
      "['[', 'ECP', ']', ' ', 'IPO', ' ', '忙', ' ', '先', 'MAIL']\n",
      "['家庭', '戶', ' ', '媽媽', '說', '女兒', '不開', '了', '，', '因為', '打工', '收入', '不', '穩定']\n",
      "['推', 'Q1']\n",
      "['兒子', '要', '開戶', '未成年', ',', '不願辦', '網路', '要', '單筆', '買', '亞太', '複合', '債', '.']\n",
      "['林', 'O', '屏', '216022', ' ', '家庭', '戶', ' ', '有', '可能', '有', '這戶', '下單', '又', '嫌', '麻煩']\n",
      "['台幣', ' ', '瑞興', ' ', '轉介', '208']\n",
      "['想', '買', '基金', ' ', '推', 'EC', ' ', '轉介', '之']\n",
      "['某', '小姐', '要', '買', 'nnl', '新興', '市場', '債', ' ', '美元', '買', ' ']\n",
      "['[', 'ECP', ']', '可能', '買回', ' ', ' ', '積', ' ', '單', ' ', '可以', '忍', '波動']\n",
      "['Idris', '轉介']\n",
      "['客戶', '來電', '說', '看到', '4', '年', 'IPO', ' ', '要', '美金', '的', ' ', '先寄', '開戶', '文件']\n",
      "['去電', '確認', '外幣', '帳號', '是', '台北', '富邦']\n",
      "['要', '用', '女兒', '名字', '開']\n"
     ]
    }
   ],
   "source": [
    "import jieba.analyse\n",
    "jieba.enable_parallel(8)\n",
    "cnt = 0\n",
    "for i in data:\n",
    "    cnt = cnt + 1\n",
    "    if cnt <= 15:\n",
    "        print(jieba.lcut(i[3]))"
   ]
  },
  {
   "cell_type": "markdown",
   "metadata": {},
   "source": [
    "From the above we can see what is segmented. It is apparently some kind of junk. SO, instead, we search for keywords."
   ]
  },
  {
   "cell_type": "code",
   "execution_count": 22,
   "metadata": {},
   "outputs": [
    {
     "name": "stdout",
     "output_type": "stream",
     "text": [
      "['開戶', 'ECP', '去電', '確認', '客戶', '後來', '保單', '文件', '美元']\n",
      "['ECP', '不方', 'IPO', 'MAIL']\n",
      "['ECP', 'IPO', 'MAIL']\n",
      "['媽媽', '女兒', '不開', '因為', '穩定', '打工', '家庭', '收入']\n",
      "['Q1']\n",
      "['兒子', '開戶', '不願辦', '網路', '單筆', '亞太', '複合', '未成年']\n",
      "['216022', '這戶', '下單', '麻煩', '家庭', '可能']\n",
      "['台幣', '瑞興', '轉介', '208']\n",
      "['EC', '轉介', '基金']\n",
      "['nnl', '新興', '市場', '小姐', '美元']\n",
      "['ECP', '買回', '波動', '可能', '可以']\n",
      "['Idris', '轉介']\n",
      "['先寄', '客戶', '來電', 'IPO', '開戶', '美金', '文件', '看到']\n",
      "['去電', '確認', '外幣', '帳號', '富邦', '台北']\n",
      "['女兒', '名字']\n"
     ]
    }
   ],
   "source": [
    "key_words = dict()\n",
    "cnt = 0\n",
    "for i in data:\n",
    "    for j in jieba.analyse.extract_tags(i[3]):\n",
    "        if j in key_words:\n",
    "            key_words[j] += 1\n",
    "        else:\n",
    "            key_words[j] = 1\n",
    "    cnt = cnt + 1\n",
    "    if cnt <=15:\n",
    "        print(jieba.analyse.extract_tags(i[3]))\n",
    "\n",
    "key_words = sorted(key_words.items(),key=operator.itemgetter(1))"
   ]
  },
  {
   "cell_type": "markdown",
   "metadata": {},
   "source": [
    "Now the above seems much more readable, although we may lose some of the information in the cutting stage. Some first thoughts upon seeing these datas.\n",
    "1. It is mostly key word oriented and thus many verbs are removed\n",
    "2. Given that it does mention some commodities, it is still hard to decide its intention.\n",
    "    * For example, '覺得', '計價', '6%', '收益', '美金', '短期', '全球' we don't know whether the customer wants to long or short 美金.\n",
    "3. There are unimportant verbs concerning selling commodities.\n",
    "    * 解釋, '收到', '請客'\n",
    "\n",
    "The following blocks will show the most commonly appeared word in the service record."
   ]
  },
  {
   "cell_type": "code",
   "execution_count": 23,
   "metadata": {},
   "outputs": [
    {
     "name": "stdout",
     "output_type": "stream",
     "text": [
      "('ECP', 441)\n",
      "('名單', 180)\n",
      "('開戶', 163)\n",
      "('Money', 148)\n",
      "('客戶', 122)\n",
      "('專刊', 92)\n",
      "('退休', 84)\n",
      "('訂閱', 78)\n",
      "('電子報', 78)\n",
      "('寄送', 76)\n",
      "('追蹤', 74)\n",
      "('分配', 65)\n",
      "('IPO', 65)\n",
      "('EC', 62)\n",
      "('轉介', 59)\n",
      "('寄回', 57)\n",
      "('家庭', 54)\n",
      "('收到', 47)\n",
      "('表單', 46)\n"
     ]
    }
   ],
   "source": [
    "for i in range(1,20):\n",
    "    \n",
    "    print(key_words[-i])"
   ]
  },
  {
   "cell_type": "markdown",
   "metadata": {},
   "source": [
    "The above method doesn't seems to be a good idea. Since, applying key word count to different customer is useless."
   ]
  }
 ],
 "metadata": {
  "kernelspec": {
   "display_name": "Python 3",
   "language": "python",
   "name": "python3"
  },
  "language_info": {
   "codemirror_mode": {
    "name": "ipython",
    "version": 3
   },
   "file_extension": ".py",
   "mimetype": "text/x-python",
   "name": "python",
   "nbconvert_exporter": "python",
   "pygments_lexer": "ipython3",
   "version": "3.6.6"
  }
 },
 "nbformat": 4,
 "nbformat_minor": 2
}
