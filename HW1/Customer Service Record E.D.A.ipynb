{
 "cells": [
  {
   "cell_type": "code",
   "execution_count": 2,
   "metadata": {},
   "outputs": [],
   "source": [
    "import jieba\n",
    "jieba.set_dictionary('ChineseDictionary/dict.txt.big')\n",
    "import numpy as np\n",
    "import pandas as pd\n",
    "import operator\n",
    "import matplotlib.pyplot as plt\n",
    "%matplotlib inline\n",
    "data = pd.read_excel(\"customer_record_data.xlsx\")"
   ]
  },
  {
   "cell_type": "code",
   "execution_count": 3,
   "metadata": {},
   "outputs": [
    {
     "data": {
      "text/html": [
       "<div>\n",
       "<style scoped>\n",
       "    .dataframe tbody tr th:only-of-type {\n",
       "        vertical-align: middle;\n",
       "    }\n",
       "\n",
       "    .dataframe tbody tr th {\n",
       "        vertical-align: top;\n",
       "    }\n",
       "\n",
       "    .dataframe thead th {\n",
       "        text-align: right;\n",
       "    }\n",
       "</style>\n",
       "<table border=\"1\" class=\"dataframe\">\n",
       "  <thead>\n",
       "    <tr style=\"text-align: right;\">\n",
       "      <th></th>\n",
       "      <th>類別</th>\n",
       "      <th>Unique ID</th>\n",
       "      <th>資料日期</th>\n",
       "      <th>客戶事件描述</th>\n",
       "    </tr>\n",
       "  </thead>\n",
       "  <tbody>\n",
       "    <tr>\n",
       "      <th>0</th>\n",
       "      <td>Call Out</td>\n",
       "      <td>AA2765</td>\n",
       "      <td>20180102 141000</td>\n",
       "      <td>[ECP] 去電確認開戶文件 客戶說後來去買美元保單就不開戶了</td>\n",
       "    </tr>\n",
       "    <tr>\n",
       "      <th>1</th>\n",
       "      <td>Call Out</td>\n",
       "      <td>AA3910</td>\n",
       "      <td>20180102 144300</td>\n",
       "      <td>[ECP]不方說  IPO MAIL</td>\n",
       "    </tr>\n",
       "    <tr>\n",
       "      <th>2</th>\n",
       "      <td>Call Out</td>\n",
       "      <td>AA3167</td>\n",
       "      <td>20180102 154500</td>\n",
       "      <td>[ECP] IPO 忙 先MAIL</td>\n",
       "    </tr>\n",
       "    <tr>\n",
       "      <th>3</th>\n",
       "      <td>Call Out</td>\n",
       "      <td>AA2355</td>\n",
       "      <td>20180102 194359</td>\n",
       "      <td>家庭戶 媽媽說女兒不開了，因為打工收入不穩定</td>\n",
       "    </tr>\n",
       "    <tr>\n",
       "      <th>4</th>\n",
       "      <td>Call Out</td>\n",
       "      <td>AA2778</td>\n",
       "      <td>20180103 111132</td>\n",
       "      <td>推Q1</td>\n",
       "    </tr>\n",
       "  </tbody>\n",
       "</table>\n",
       "</div>"
      ],
      "text/plain": [
       "         類別 Unique ID             資料日期                           客戶事件描述\n",
       "0  Call Out    AA2765  20180102 141000  [ECP] 去電確認開戶文件 客戶說後來去買美元保單就不開戶了\n",
       "1  Call Out    AA3910  20180102 144300               [ECP]不方說  IPO MAIL\n",
       "2  Call Out    AA3167  20180102 154500                [ECP] IPO 忙 先MAIL\n",
       "3  Call Out    AA2355  20180102 194359           家庭戶 媽媽說女兒不開了，因為打工收入不穩定\n",
       "4  Call Out    AA2778  20180103 111132                              推Q1"
      ]
     },
     "execution_count": 3,
     "metadata": {},
     "output_type": "execute_result"
    }
   ],
   "source": [
    "data.head()"
   ]
  },
  {
   "cell_type": "markdown",
   "metadata": {},
   "source": [
    "## Unique IDs:"
   ]
  },
  {
   "cell_type": "code",
   "execution_count": 4,
   "metadata": {},
   "outputs": [
    {
     "name": "stdout",
     "output_type": "stream",
     "text": [
      "Amount of Unique IDs: 572\n"
     ]
    }
   ],
   "source": [
    "data = np.array(data)\n",
    "unique_ids = set(data[:,1])\n",
    "print(\"Amount of Unique IDs: \"+str(len(unique_ids)))"
   ]
  },
  {
   "cell_type": "markdown",
   "metadata": {},
   "source": [
    "## Call times:"
   ]
  },
  {
   "cell_type": "code",
   "execution_count": 5,
   "metadata": {
    "scrolled": true
   },
   "outputs": [
    {
     "data": {
      "image/png": "[encoded data removed]",
      "text/plain": [
       "<Figure size 432x288 with 1 Axes>"
      ]
     },
     "metadata": {},
     "output_type": "display_data"
    }
   ],
   "source": [
    "unique_id_called = dict()\n",
    "for i in data:\n",
    "    if i[1] in unique_id_called:\n",
    "        unique_id_called[i[1]] += 1\n",
    "    else:\n",
    "        unique_id_called[i[1]] = 1\n",
    "\n",
    "sorted_unique_id_called = sorted(unique_id_called.items(),key=operator.itemgetter(1))\n",
    "# for i in range(1,len(unique_id_called)):\n",
    "#     print(sorted_unique_id_called[-i])\n",
    "\n",
    "draw_hist = dict()\n",
    "for i in sorted_unique_id_called:\n",
    "    if i[1] in draw_hist:\n",
    "        draw_hist[i[1]] += 1\n",
    "    else:\n",
    "        draw_hist[i[1]] = 1\n",
    "        \n",
    "keys = np.array(list(draw_hist.keys()))\n",
    "values = np.array(list(draw_hist.values( ) ) )\n",
    "\n",
    "plt.bar(keys,values)\n",
    "plt.title('Frequency distribution of called times')\n",
    "plt.xlabel('Called times')\n",
    "plt.ylabel('Frequency')\n",
    "plt.show()"
   ]
  },
  {
   "cell_type": "markdown",
   "metadata": {},
   "source": [
    "From the bar chart above we can see that the called time is extremely skewed. Specifically, most customers they reached out have a call time less than 3 times."
   ]
  },
  {
   "cell_type": "markdown",
   "metadata": {},
   "source": [
    "## Common word in message"
   ]
  },
  {
   "cell_type": "code",
   "execution_count": 6,
   "metadata": {},
   "outputs": [
    {
     "name": "stderr",
     "output_type": "stream",
     "text": [
      "Building prefix dict from /home/jupyter/DS/DataScience/HW1/ChineseDictionary/dict.txt.big ...\n",
      "Loading model from cache /tmp/jieba.u42f68d9ace05fa3d7ff1d69de828036b.cache\n",
      "Loading model cost 1.569 seconds.\n",
      "Prefix dict has been built succesfully.\n"
     ]
    },
    {
     "name": "stdout",
     "output_type": "stream",
     "text": [
      "['[', 'ECP', ']', ' ', '去電', '確認', '開戶', '文件', ' ', '客戶', '說', '後來', '去', '買', '美元', '保單', '就', '不', '開戶', '了']\n",
      "['[', 'ECP', ']', '不方', '說', ' ', ' ', 'IPO', ' ', 'MAIL']\n",
      "['[', 'ECP', ']', ' ', 'IPO', ' ', '忙', ' ', '先', 'MAIL']\n",
      "['家庭', '戶', ' ', '媽媽', '說', '女兒', '不開', '了', '，', '因為', '打工', '收入', '不', '穩定']\n",
      "['推', 'Q1']\n",
      "['兒子', '要', '開戶', '未成年', ',', '不願辦', '網路', '要', '單筆', '買', '亞太', '複合', '債', '.']\n",
      "['林', 'O', '屏', '216022', ' ', '家庭', '戶', ' ', '有', '可能', '有', '這戶', '下單', '又', '嫌', '麻煩']\n",
      "['台幣', ' ', '瑞興', ' ', '轉介', '208']\n",
      "['想', '買', '基金', ' ', '推', 'EC', ' ', '轉介', '之']\n",
      "['某', '小姐', '要', '買', 'nnl', '新興', '市場', '債', ' ', '美元', '買', ' ']\n",
      "['[', 'ECP', ']', '可能', '買回', ' ', ' ', '積', ' ', '單', ' ', '可以', '忍', '波動']\n",
      "['Idris', '轉介']\n",
      "['客戶', '來電', '說', '看到', '4', '年', 'IPO', ' ', '要', '美金', '的', ' ', '先寄', '開戶', '文件']\n",
      "['去電', '確認', '外幣', '帳號', '是', '台北', '富邦']\n",
      "['要', '用', '女兒', '名字', '開']\n"
     ]
    }
   ],
   "source": [
    "import jieba.analyse\n",
    "jieba.enable_parallel(8)\n",
    "cnt = 0\n",
    "for i in data:\n",
    "    cnt = cnt + 1\n",
    "    if cnt <= 15:\n",
    "        print(jieba.lcut(i[3]))"
   ]
  },
  {
   "cell_type": "markdown",
   "metadata": {},
   "source": [
    "From the above we can see what is segmented. It is apparently some kind of junk. SO, instead, we search for keywords.\n",
    "\n",
    "I want to clarify some of the **jieba** feature in the following, there are some different kinds of cutting method.\n",
    "* cut\n",
    "* lcut\n",
    "* cut_for_search\n",
    "* analyse.extract_tags:\n",
    "    * This is for extracting keywords by TF-IDF algorithm"
   ]
  },
  {
   "cell_type": "code",
   "execution_count": 7,
   "metadata": {},
   "outputs": [
    {
     "name": "stdout",
     "output_type": "stream",
     "text": [
      "['開戶', '客戶', 'ECP', '去電', '保單', '確認', '後來', '文件', '美元']\n",
      "['ECP', '不方', 'MAIL', 'IPO']\n",
      "['ECP', 'MAIL', 'IPO']\n",
      "['女兒', '媽媽', '因為', '不開', '穩定', '打工', '家庭', '收入']\n",
      "['Q1']\n",
      "['不願辦', '單筆', '網路', '開戶', '複合', '兒子', '亞太', '未成年']\n",
      "['216022', '下單', '麻煩', '這戶', '家庭', '可能']\n",
      "['瑞興', '台幣', '208', '轉介']\n",
      "['EC', '轉介', '基金']\n",
      "['市場', 'nnl', '新興', '小姐', '美元']\n",
      "['ECP', '波動', '買回', '可能', '可以']\n",
      "['轉介', 'Idris']\n",
      "['先寄', '客戶', '開戶', 'IPO', '來電', '美金', '文件', '看到']\n",
      "['外幣', '去電', '確認', '富邦', '帳號', '台北']\n",
      "['女兒', '名字']\n"
     ]
    }
   ],
   "source": [
    "key_words = dict()\n",
    "cnt = 0\n",
    "for i in data:\n",
    "    for j in jieba.analyse.extract_tags(i[3]):\n",
    "        if j in key_words:\n",
    "            key_words[j] += 1\n",
    "        else:\n",
    "            key_words[j] = 1\n",
    "    cnt = cnt + 1\n",
    "    if cnt <=15:\n",
    "        print(jieba.analyse.extract_tags(i[3]))\n",
    "\n",
    "key_words = sorted(key_words.items(),key=operator.itemgetter(1))"
   ]
  },
  {
   "cell_type": "markdown",
   "metadata": {},
   "source": [
    "Now the above seems much more readable, although we may lose some of the information in the cutting stage. Some first thoughts upon seeing these datas.\n",
    "1. It is mostly key word oriented and thus many verbs are removed\n",
    "2. Given that it does mention some commodities, it is still hard to decide its intention.\n",
    "    * For example, '覺得', '計價', '6%', '收益', '美金', '短期', '全球' we don't know whether the customer wants to long or short 美金.\n",
    "3. There are unimportant verbs concerning selling commodities.\n",
    "    * 解釋, '收到', '請客'\n",
    "4. Abbreviations:\n",
    "    * 國世銀 $\\rightarrow$ 國泰世華銀行 ，富邦$\\rightarrow$ 富邦銀行\n",
    "    \n",
    "The following blocks will show the most commonly appeared word in the service record."
   ]
  },
  {
   "cell_type": "code",
   "execution_count": 8,
   "metadata": {},
   "outputs": [
    {
     "name": "stdout",
     "output_type": "stream",
     "text": [
      "('ECP', 441)\n",
      "('名單', 180)\n",
      "('開戶', 163)\n",
      "('Money', 148)\n",
      "('客戶', 122)\n",
      "('專刊', 92)\n",
      "('退休', 84)\n",
      "('訂閱', 78)\n",
      "('電子報', 78)\n",
      "('寄送', 76)\n",
      "('追蹤', 74)\n",
      "('分配', 65)\n",
      "('IPO', 65)\n",
      "('EC', 62)\n",
      "('轉介', 59)\n",
      "('寄回', 57)\n",
      "('家庭', 54)\n",
      "('收到', 47)\n",
      "('表單', 46)\n"
     ]
    },
    {
     "data": {
      "text/plain": [
       "1625"
      ]
     },
     "execution_count": 8,
     "metadata": {},
     "output_type": "execute_result"
    }
   ],
   "source": [
    "for i in range(1,20):\n",
    "    \n",
    "    print(key_words[-i])\n",
    "\n",
    "    \n",
    "len(key_words)"
   ]
  },
  {
   "cell_type": "markdown",
   "metadata": {},
   "source": [
    "The above method doesn't seems to be a good idea. Since, applying key word count to different customer is useless.\n",
    "Lets look at what each customer is most interested in. Here we set a limit that a **regular** customer are those who at least called $3$ times."
   ]
  },
  {
   "cell_type": "code",
   "execution_count": 9,
   "metadata": {
    "scrolled": true
   },
   "outputs": [
    {
     "name": "stderr",
     "output_type": "stream",
     "text": [
      "/usr/local/lib/python3.5/dist-packages/ipykernel_launcher.py:29: SettingWithCopyWarning: \n",
      "A value is trying to be set on a copy of a slice from a DataFrame\n",
      "\n",
      "See the caveats in the documentation: http://pandas.pydata.org/pandas-docs/stable/indexing.html#indexing-view-versus-copy\n"
     ]
    },
    {
     "data": {
      "text/html": [
       "<div>\n",
       "<style scoped>\n",
       "    .dataframe tbody tr th:only-of-type {\n",
       "        vertical-align: middle;\n",
       "    }\n",
       "\n",
       "    .dataframe tbody tr th {\n",
       "        vertical-align: top;\n",
       "    }\n",
       "\n",
       "    .dataframe thead th {\n",
       "        text-align: right;\n",
       "    }\n",
       "</style>\n",
       "<table border=\"1\" class=\"dataframe\">\n",
       "  <thead>\n",
       "    <tr style=\"text-align: right;\">\n",
       "      <th></th>\n",
       "      <th>Customer ID</th>\n",
       "      <th>Call time</th>\n",
       "      <th>tags</th>\n",
       "    </tr>\n",
       "  </thead>\n",
       "  <tbody>\n",
       "    <tr>\n",
       "      <th>0</th>\n",
       "      <td>AA2688</td>\n",
       "      <td>3</td>\n",
       "      <td>[請客, 中國, 開戶, 寄回, follow, ECP, follow, ECP, 沒空,...</td>\n",
       "    </tr>\n",
       "    <tr>\n",
       "      <th>1</th>\n",
       "      <td>AA3052</td>\n",
       "      <td>3</td>\n",
       "      <td>[基富通, 機會, RSP, LINE, 環球, 好友, ECP, 單筆, 通下, 中國, ...</td>\n",
       "    </tr>\n",
       "    <tr>\n",
       "      <th>2</th>\n",
       "      <td>AA2764</td>\n",
       "      <td>4</td>\n",
       "      <td>[A200953, EC, 追蹤, 開戶, 再重, 表格, 丈夫, 客戶, 填寫, pass...</td>\n",
       "    </tr>\n",
       "    <tr>\n",
       "      <th>3</th>\n",
       "      <td>AA3594</td>\n",
       "      <td>3</td>\n",
       "      <td>[推金債, 債有配, 亞債, 金債, ECP, 開戶, 亞債, 考量, 市場, ECP, 太...</td>\n",
       "    </tr>\n",
       "    <tr>\n",
       "      <th>4</th>\n",
       "      <td>AA3367</td>\n",
       "      <td>4</td>\n",
       "      <td>[名單, 客在, 華南, 私房錢, Money, 580, 要存, 農會, 上班, 分配, ...</td>\n",
       "    </tr>\n",
       "    <tr>\n",
       "      <th>5</th>\n",
       "      <td>AA7534</td>\n",
       "      <td>4</td>\n",
       "      <td>[10, 名單, 潛在, 點撥, 手機, A174660, 客戶, 52, 九月, 本人, ...</td>\n",
       "    </tr>\n",
       "    <tr>\n",
       "      <th>6</th>\n",
       "      <td>AA3678</td>\n",
       "      <td>3</td>\n",
       "      <td>[抵到, 天達, 客戶, 單筆, 50, 說明, 黃金, 0.2%, 超過, vip, 國世...</td>\n",
       "    </tr>\n",
       "    <tr>\n",
       "      <th>7</th>\n",
       "      <td>AA3732</td>\n",
       "      <td>3</td>\n",
       "      <td>[安本, 優惠, 網路, 另想, 客戶, 贖回, 功能, 交易, 小額, 客戶, EC, 買...</td>\n",
       "    </tr>\n",
       "    <tr>\n",
       "      <th>8</th>\n",
       "      <td>AA3596</td>\n",
       "      <td>5</td>\n",
       "      <td>[金債, 機會, ipo, 商刊, edm, PASS, 先寄, 客戶, ECP, 表單, ...</td>\n",
       "    </tr>\n",
       "    <tr>\n",
       "      <th>9</th>\n",
       "      <td>AA2904</td>\n",
       "      <td>5</td>\n",
       "      <td>[PASS, 260215, 來電, 戶號, 小姐, 開戶, 260215, 小姐, 朋友,...</td>\n",
       "    </tr>\n",
       "    <tr>\n",
       "      <th>10</th>\n",
       "      <td>AA0546</td>\n",
       "      <td>4</td>\n",
       "      <td>[11, 設定, 46, 台灣, 來電, 14, Idris, 境內外, 開戶, 外幣, 2...</td>\n",
       "    </tr>\n",
       "    <tr>\n",
       "      <th>11</th>\n",
       "      <td>AA3567</td>\n",
       "      <td>3</td>\n",
       "      <td>[ECP, 寄回, 收到, 市場, ECP, 開戶, 要開, 老板, 本人, 最近, 不好,...</td>\n",
       "    </tr>\n",
       "    <tr>\n",
       "      <th>12</th>\n",
       "      <td>AA3210</td>\n",
       "      <td>3</td>\n",
       "      <td>[Money, 一銀, 名單, 分配, ECP, EC, 追蹤, 婉拒, ECP, EC, ...</td>\n",
       "    </tr>\n",
       "    <tr>\n",
       "      <th>13</th>\n",
       "      <td>AA2895</td>\n",
       "      <td>4</td>\n",
       "      <td>[1.5%, ipo, 轉介, 經理, 第一天, 美元, 208, IPO, 開戶, 告知,...</td>\n",
       "    </tr>\n",
       "    <tr>\n",
       "      <th>14</th>\n",
       "      <td>AA2505</td>\n",
       "      <td>3</td>\n",
       "      <td>[中國, 2Q, ECP, 及荷, 名單, 機會, 優惠, 泰國, 巴西, 市場, 客戶, ...</td>\n",
       "    </tr>\n",
       "  </tbody>\n",
       "</table>\n",
       "</div>"
      ],
      "text/plain": [
       "   Customer ID  Call time                                               tags\n",
       "0       AA2688          3  [請客, 中國, 開戶, 寄回, follow, ECP, follow, ECP, 沒空,...\n",
       "1       AA3052          3  [基富通, 機會, RSP, LINE, 環球, 好友, ECP, 單筆, 通下, 中國, ...\n",
       "2       AA2764          4  [A200953, EC, 追蹤, 開戶, 再重, 表格, 丈夫, 客戶, 填寫, pass...\n",
       "3       AA3594          3  [推金債, 債有配, 亞債, 金債, ECP, 開戶, 亞債, 考量, 市場, ECP, 太...\n",
       "4       AA3367          4  [名單, 客在, 華南, 私房錢, Money, 580, 要存, 農會, 上班, 分配, ...\n",
       "5       AA7534          4  [10, 名單, 潛在, 點撥, 手機, A174660, 客戶, 52, 九月, 本人, ...\n",
       "6       AA3678          3  [抵到, 天達, 客戶, 單筆, 50, 說明, 黃金, 0.2%, 超過, vip, 國世...\n",
       "7       AA3732          3  [安本, 優惠, 網路, 另想, 客戶, 贖回, 功能, 交易, 小額, 客戶, EC, 買...\n",
       "8       AA3596          5  [金債, 機會, ipo, 商刊, edm, PASS, 先寄, 客戶, ECP, 表單, ...\n",
       "9       AA2904          5  [PASS, 260215, 來電, 戶號, 小姐, 開戶, 260215, 小姐, 朋友,...\n",
       "10      AA0546          4  [11, 設定, 46, 台灣, 來電, 14, Idris, 境內外, 開戶, 外幣, 2...\n",
       "11      AA3567          3  [ECP, 寄回, 收到, 市場, ECP, 開戶, 要開, 老板, 本人, 最近, 不好,...\n",
       "12      AA3210          3  [Money, 一銀, 名單, 分配, ECP, EC, 追蹤, 婉拒, ECP, EC, ...\n",
       "13      AA2895          4  [1.5%, ipo, 轉介, 經理, 第一天, 美元, 208, IPO, 開戶, 告知,...\n",
       "14      AA2505          3  [中國, 2Q, ECP, 及荷, 名單, 機會, 優惠, 泰國, 巴西, 市場, 客戶, ..."
      ]
     },
     "execution_count": 9,
     "metadata": {},
     "output_type": "execute_result"
    }
   ],
   "source": [
    "regular_customer = []\n",
    "regular_thresh = 3 # Change the number to define what the lower limit should be.\n",
    "for i in unique_id_called:\n",
    "    if unique_id_called[i] >= regular_thresh:\n",
    "#         print(\"hit\")\n",
    "#         print(unique_id_called[i])\n",
    "        regular_customer.append(i)\n",
    "regular_customer = np.array(regular_customer)\n",
    "\n",
    "df1 = pd.DataFrame([x for x in unique_id_called if unique_id_called[x]>= regular_thresh],columns=['Customer ID'])\n",
    "df2 = pd.DataFrame([unique_id_called[x] for x in unique_id_called if unique_id_called[x]>= regular_thresh],columns=['Call time'])\n",
    "df3 = pd.DataFrame(list(\"abc\"),columns=['tags'])\n",
    "merged_df = pd.concat([df1,df2,df3],axis=1)\n",
    "\n",
    "cnt = 0\n",
    "print_limt = 15 # update this to print more customers\n",
    "\n",
    "for i in regular_customer:\n",
    "    tag = list()\n",
    "    # go through the data and find all those that matches \"i\"\n",
    "    for j in data:\n",
    "        if j[1] == i:\n",
    "            # Change the method of cutting here.\n",
    "            # I am using keyword search right now, which maybe somehow inaccurate considering the given data.\n",
    "            tag.append(jieba.analyse.extract_tags( j[3]))\n",
    "    \n",
    "    \n",
    "    tag = [item for sublist in tag for item in sublist]\n",
    "    merged_df[\"tags\"][cnt] = tag\n",
    "    cnt += 1\n",
    "merged_df.head(n=15)"
   ]
  },
  {
   "cell_type": "markdown",
   "metadata": {},
   "source": [
    "The above shows how the merged dataframe. In the last column, it shows the tags \"jieba\" has cut off. Also, it is a merged version of all of the appeared tag."
   ]
  },
  {
   "cell_type": "markdown",
   "metadata": {},
   "source": [
    "From the free text we have acquired, most of them are already processed. Therefore, I think it is reasonable for us to focus on those which is close to a real sentence. If we can have a **sentence** it would be ideal for us to extract more information out of it. Given the fragment keyword in some users response, we really cannot have much insight.\n",
    "\n",
    "# Further Improvement\n",
    "However, for those at least sentence-like ( Still, I need to find some kind of rule to pick those **sentence** out) reponses. I can conduct more elaborate analysis, such as TF-IDF,sentiment analysis... etc."
   ]
  },
  {
   "cell_type": "code",
   "execution_count": 10,
   "metadata": {},
   "outputs": [
    {
     "name": "stdout",
     "output_type": "stream",
     "text": [
      "[ECP] 去電確認開戶文件 客戶說後來去買美元保單就不開戶了\n",
      "[ECP]不方說  IPO MAIL\n",
      "[ECP] IPO 忙 先MAIL\n",
      "家庭戶 媽媽說女兒不開了，因為打工收入不穩定\n",
      "推Q1\n",
      "兒子要開戶未成年,不願辦網路要單筆買亞太複合債.\n",
      "林O屏216022 家庭戶 有可能有這戶下單又嫌麻煩\n",
      "想買基金 推EC 轉介之\n",
      "某小姐要買nnl新興市場債 美元買 \n",
      "[ECP]可能買回  積 單 可以忍波動\n",
      "**********length of focus: 720\n"
     ]
    }
   ],
   "source": [
    "tag = np.array(data[:,3])\n",
    "focus = []\n",
    "cnt = 0\n",
    "for i in tag:\n",
    "    if ',' in i:\n",
    "        focus.append(i)\n",
    "    elif '推'in i:\n",
    "        focus.append(i)\n",
    "    elif len(i) > 15:\n",
    "        focus.append(i)\n",
    "\n",
    "for i in range(10):\n",
    "    print(focus[i])\n",
    "\n",
    "print(\"**********length of focus: \"+ str(len(focus)))"
   ]
  },
  {
   "cell_type": "markdown",
   "metadata": {},
   "source": [
    "After thinking through how I should deal with **proper** free text, I think a better way is to first find out what text is qualified as free text. From there, can we move on. "
   ]
  },
  {
   "cell_type": "markdown",
   "metadata": {},
   "source": [
    "## Making a relation (adjacent) matrix\n",
    "\n",
    "This section I will make a matrix showing each keywords' relation with one another in a observation(response). "
   ]
  },
  {
   "cell_type": "code",
   "execution_count": 62,
   "metadata": {},
   "outputs": [],
   "source": [
    "len(data[:,3])\n",
    "distinct = set()\n",
    "for i in range(len(data[:,3])):\n",
    "    extract = data[i,3]\n",
    "    for j in jieba.analyse.extract_tags(extract):\n",
    "        distinct.add(j)\n",
    "\n",
    "len(distinct)\n",
    "distinct = list(distinct)\n",
    "relation = np.zeros([len(distinct),len(distinct)],dtype = int)\n",
    "for i in range(len(data[:,3])):\n",
    "    extract = data[i,3]\n",
    "    extract = jieba.analyse.extract_tags(extract)\n",
    "    for j in range(len(extract)):\n",
    "        piv = distinct.index(extract[j])\n",
    "#         print(piv)\n",
    "        for k in range(len(extract)):\n",
    "            if extract[k] == extract[j]:\n",
    "                continue\n",
    "            relation[distinct.index(extract[k]),piv] += 1\n",
    "\n",
    "node_SIZES = []\n",
    "for i in range(len(distinct)):\n",
    "    node_SIZES.append(sum(relation[:,i]))\n",
    "import math\n",
    "for i in range(len(distinct)):\n",
    "    for j in range(len(distinct)):\n",
    "        if relation[i,j]!= 0:\n",
    "            relation[i,j] = math.pow(1.2,relation[i,j])\n",
    "#         print(relation[distinct.index(extract[k]),piv])\n"
   ]
  },
  {
   "cell_type": "code",
   "execution_count": 69,
   "metadata": {},
   "outputs": [
    {
     "data": {
      "image/png": "[encoded data removed]",
      "text/plain": [
       "<Figure size 2160x2160 with 1 Axes>"
      ]
     },
     "metadata": {},
     "output_type": "display_data"
    }
   ],
   "source": [
    "from matplotlib.pyplot import figure\n",
    "fig, ax = plt.subplots(figsize=(30,30))\n",
    "im = ax.imshow(relation)\n",
    "plt.show()"
   ]
  },
  {
   "cell_type": "markdown",
   "metadata": {},
   "source": [
    "From the above heatmap matrix, we can **barely** see those highlights. I didn't change the label of *x and y* axis because it would simply be unreadable for cramming 16xx entries in such space. Currently, I am not explicitly defining any word that is important to the matrix, so the matrix could include some entries like **確認，轉介**. These items are unwanted, what we want are some financial terms such as **保單，債券，匯率**. \n"
   ]
  },
  {
   "cell_type": "code",
   "execution_count": 65,
   "metadata": {},
   "outputs": [
    {
     "data": {
      "image/png": "[encoded data removed]",
      "text/plain": [
       "<Figure size 864x864 with 1 Axes>"
      ]
     },
     "metadata": {},
     "output_type": "display_data"
    }
   ],
   "source": [
    "import networkx as nx\n",
    "\n",
    "\n",
    "\n",
    "G = nx.from_numpy_matrix(relation)\n",
    "G = nx.relabel_nodes(G, dict(zip(range(len(G.nodes())),distinct)))    \n",
    "plt.figure(1,figsize=(12,12)) \n",
    "\n",
    "labels = {}\n",
    "for idx, node in enumerate(G.nodes()):\n",
    "    labels[node] = ascii_lowercase[idx]\n",
    "\n",
    "nx.draw_circular(G, node_size=node_SIZES)\n",
    "plt.show()\n"
   ]
  },
  {
   "cell_type": "markdown",
   "metadata": {},
   "source": [
    "This kind of give us an idea that there are some **words** highly mentioned. As some words in the above graph are enlarged. The reason I didnt put the labels on, is that it will be a mess to do so. Moreover, it is a sparsely connected matrix. That is, we may need to reform the matrix into some \n",
    "\n",
    "\n",
    "## Conclusion\n",
    "From the above exploratory, we actually havn't got ourselves anywhere. There are some potential problems to be conquered if further research is to be made.\n",
    "* Unwanted keyword, but important\n",
    "    * 贖回...\n"
   ]
  },
  {
   "cell_type": "code",
   "execution_count": 68,
   "metadata": {},
   "outputs": [
    {
     "name": "stdout",
     "output_type": "stream",
     "text": [
      "Name: \n",
      "Type: Graph\n",
      "Number of nodes: 1625\n",
      "Number of edges: 25233\n",
      "Average degree:  31.0560\n"
     ]
    }
   ],
   "source": [
    "print(nx.info(G))"
   ]
  }
 ],
 "metadata": {
  "kernelspec": {
   "display_name": "Python 3",
   "language": "python",
   "name": "python3"
  },
  "language_info": {
   "codemirror_mode": {
    "name": "ipython",
    "version": 3
   },
   "file_extension": ".py",
   "mimetype": "text/x-python",
   "name": "python",
   "nbconvert_exporter": "python",
   "pygments_lexer": "ipython3",
   "version": "3.5.3"
  }
 },
 "nbformat": 4,
 "nbformat_minor": 2
}
