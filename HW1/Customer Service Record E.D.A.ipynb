{
 "cells": [
  {
   "cell_type": "code",
   "execution_count": 2,
   "metadata": {},
   "outputs": [],
   "source": [
    "import jieba\n",
    "jieba.set_dictionary('ChineseDictionary/dict.txt.big')\n",
    "import numpy as np\n",
    "import pandas as pd\n",
    "import operator\n",
    "import matplotlib.pyplot as plt\n",
    "%matplotlib inline\n",
    "data = pd.read_excel(\"customer_record_data.xlsx\")"
   ]
  },
  {
   "cell_type": "code",
   "execution_count": 3,
   "metadata": {},
   "outputs": [
    {
     "data": {
      "text/html": [
       "<div>\n",
       "<style scoped>\n",
       "    .dataframe tbody tr th:only-of-type {\n",
       "        vertical-align: middle;\n",
       "    }\n",
       "\n",
       "    .dataframe tbody tr th {\n",
       "        vertical-align: top;\n",
       "    }\n",
       "\n",
       "    .dataframe thead th {\n",
       "        text-align: right;\n",
       "    }\n",
       "</style>\n",
       "<table border=\"1\" class=\"dataframe\">\n",
       "  <thead>\n",
       "    <tr style=\"text-align: right;\">\n",
       "      <th></th>\n",
       "      <th>類別</th>\n",
       "      <th>Unique ID</th>\n",
       "      <th>資料日期</th>\n",
       "      <th>客戶事件描述</th>\n",
       "    </tr>\n",
       "  </thead>\n",
       "  <tbody>\n",
       "    <tr>\n",
       "      <th>0</th>\n",
       "      <td>Call Out</td>\n",
       "      <td>AA2765</td>\n",
       "      <td>20180102 141000</td>\n",
       "      <td>[ECP] 去電確認開戶文件 客戶說後來去買美元保單就不開戶了</td>\n",
       "    </tr>\n",
       "    <tr>\n",
       "      <th>1</th>\n",
       "      <td>Call Out</td>\n",
       "      <td>AA3910</td>\n",
       "      <td>20180102 144300</td>\n",
       "      <td>[ECP]不方說  IPO MAIL</td>\n",
       "    </tr>\n",
       "    <tr>\n",
       "      <th>2</th>\n",
       "      <td>Call Out</td>\n",
       "      <td>AA3167</td>\n",
       "      <td>20180102 154500</td>\n",
       "      <td>[ECP] IPO 忙 先MAIL</td>\n",
       "    </tr>\n",
       "    <tr>\n",
       "      <th>3</th>\n",
       "      <td>Call Out</td>\n",
       "      <td>AA2355</td>\n",
       "      <td>20180102 194359</td>\n",
       "      <td>家庭戶 媽媽說女兒不開了，因為打工收入不穩定</td>\n",
       "    </tr>\n",
       "    <tr>\n",
       "      <th>4</th>\n",
       "      <td>Call Out</td>\n",
       "      <td>AA2778</td>\n",
       "      <td>20180103 111132</td>\n",
       "      <td>推Q1</td>\n",
       "    </tr>\n",
       "  </tbody>\n",
       "</table>\n",
       "</div>"
      ],
      "text/plain": [
       "         類別 Unique ID             資料日期                           客戶事件描述\n",
       "0  Call Out    AA2765  20180102 141000  [ECP] 去電確認開戶文件 客戶說後來去買美元保單就不開戶了\n",
       "1  Call Out    AA3910  20180102 144300               [ECP]不方說  IPO MAIL\n",
       "2  Call Out    AA3167  20180102 154500                [ECP] IPO 忙 先MAIL\n",
       "3  Call Out    AA2355  20180102 194359           家庭戶 媽媽說女兒不開了，因為打工收入不穩定\n",
       "4  Call Out    AA2778  20180103 111132                              推Q1"
      ]
     },
     "execution_count": 3,
     "metadata": {},
     "output_type": "execute_result"
    }
   ],
   "source": [
    "data.head()"
   ]
  },
  {
   "cell_type": "markdown",
   "metadata": {},
   "source": [
    "First, lets see how many unique IDs are there in the record"
   ]
  },
  {
   "cell_type": "code",
   "execution_count": 4,
   "metadata": {},
   "outputs": [
    {
     "name": "stdout",
     "output_type": "stream",
     "text": [
      "Amount of Unique IDs: 572\n"
     ]
    }
   ],
   "source": [
    "data = np.array(data)\n",
    "unique_ids = set(data[:,1])\n",
    "print(\"Amount of Unique IDs: \"+str(len(unique_ids)))"
   ]
  },
  {
   "cell_type": "markdown",
   "metadata": {},
   "source": [
    "Then we count times of the ID (we will call it customer) had called."
   ]
  },
  {
   "cell_type": "code",
   "execution_count": 8,
   "metadata": {
    "scrolled": true
   },
   "outputs": [
    {
     "name": "stdout",
     "output_type": "stream",
     "text": [
      "called 1 time(s) for 350 times\n",
      "called 2 time(s) for 123 times\n",
      "called 3 time(s) for 50 times\n",
      "called 4 time(s) for 20 times\n",
      "called 5 time(s) for 15 times\n",
      "called 6 time(s) for 8 times\n",
      "called 7 time(s) for 4 times\n",
      "called 8 time(s) for 1 times\n",
      "called 14 time(s) for 1 times\n"
     ]
    }
   ],
   "source": [
    "unique_id_called = dict()\n",
    "for i in data:\n",
    "    if i[1] in unique_id_called:\n",
    "        unique_id_called[i[1]] += 1\n",
    "    else:\n",
    "        unique_id_called[i[1]] = 1\n",
    "\n",
    "sorted_unique_id_called = sorted(unique_id_called.items(),key=operator.itemgetter(1))\n",
    "# for i in range(1,len(unique_id_called)):\n",
    "#     print(sorted_unique_id_called[-i])\n",
    "\n",
    "draw_hist = dict()\n",
    "for i in sorted_unique_id_called:\n",
    "    if i[1] in draw_hist:\n",
    "        draw_hist[i[1]] += 1\n",
    "    else:\n",
    "        draw_hist[i[1]] = 1\n",
    "        \n",
    "keys = np.array(list(draw_hist.keys()))\n",
    "values = np.array(list(draw_hist.values( ) ) )\n",
    "for i in range(len(keys)):\n",
    "    print(\"called\",keys[i],\"time(s) for\",values[i],\"times\")\n"
   ]
  },
  {
   "cell_type": "markdown",
   "metadata": {},
   "source": [
    "Now, we look at some of the most common word in the message section."
   ]
  },
  {
   "cell_type": "code",
   "execution_count": 9,
   "metadata": {},
   "outputs": [
    {
     "name": "stderr",
     "output_type": "stream",
     "text": [
      "Building prefix dict from /home/jupyter/DS/DataScience/HW1/ChineseDictionary/dict.txt.big ...\n",
      "Dumping model to file cache /tmp/jieba.u42f68d9ace05fa3d7ff1d69de828036b.cache\n",
      "Loading model cost 1.936 seconds.\n",
      "Prefix dict has been built succesfully.\n"
     ]
    },
    {
     "name": "stdout",
     "output_type": "stream",
     "text": [
      "['[', 'ECP', ']', ' ', '去電', '確認', '開戶', '文件', ' ', '客戶', '說', '後來', '去', '買', '美元', '保單', '就', '不', '開戶', '了']\n",
      "['[', 'ECP', ']', '不方', '說', ' ', ' ', 'IPO', ' ', 'MAIL']\n",
      "['[', 'ECP', ']', ' ', 'IPO', ' ', '忙', ' ', '先', 'MAIL']\n",
      "['家庭', '戶', ' ', '媽媽', '說', '女兒', '不開', '了', '，', '因為', '打工', '收入', '不', '穩定']\n",
      "['推', 'Q1']\n",
      "['兒子', '要', '開戶', '未成年', ',', '不願辦', '網路', '要', '單筆', '買', '亞太', '複合', '債', '.']\n",
      "['林', 'O', '屏', '216022', ' ', '家庭', '戶', ' ', '有', '可能', '有', '這戶', '下單', '又', '嫌', '麻煩']\n",
      "['台幣', ' ', '瑞興', ' ', '轉介', '208']\n",
      "['想', '買', '基金', ' ', '推', 'EC', ' ', '轉介', '之']\n",
      "['某', '小姐', '要', '買', 'nnl', '新興', '市場', '債', ' ', '美元', '買', ' ']\n",
      "['[', 'ECP', ']', '可能', '買回', ' ', ' ', '積', ' ', '單', ' ', '可以', '忍', '波動']\n",
      "['Idris', '轉介']\n",
      "['客戶', '來電', '說', '看到', '4', '年', 'IPO', ' ', '要', '美金', '的', ' ', '先寄', '開戶', '文件']\n",
      "['去電', '確認', '外幣', '帳號', '是', '台北', '富邦']\n",
      "['要', '用', '女兒', '名字', '開']\n"
     ]
    }
   ],
   "source": [
    "import jieba.analyse\n",
    "jieba.enable_parallel(8)\n",
    "cnt = 0\n",
    "for i in data:\n",
    "    cnt = cnt + 1\n",
    "    if cnt <= 15:\n",
    "        print(jieba.lcut(i[3]))"
   ]
  },
  {
   "cell_type": "markdown",
   "metadata": {},
   "source": [
    "From the above we can see what is segmented. It is apparently some kind of junk. SO, instead, we search for keywords."
   ]
  },
  {
   "cell_type": "code",
   "execution_count": 10,
   "metadata": {},
   "outputs": [
    {
     "name": "stdout",
     "output_type": "stream",
     "text": [
      "['開戶', '後來', '去電', 'ECP', '保單', '確認', '客戶', '文件', '美元']\n",
      "['不方', 'ECP', 'IPO', 'MAIL']\n",
      "['ECP', 'IPO', 'MAIL']\n",
      "['媽媽', '穩定', '因為', '女兒', '不開', '打工', '家庭', '收入']\n",
      "['Q1']\n",
      "['複合', '網路', '單筆', '開戶', '不願辦', '亞太', '兒子', '未成年']\n",
      "['216022', '麻煩', '下單', '這戶', '家庭', '可能']\n",
      "['轉介', '台幣', '瑞興', '208']\n",
      "['轉介', 'EC', '基金']\n",
      "['市場', 'nnl', '新興', '小姐', '美元']\n",
      "['ECP', '波動', '買回', '可能', '可以']\n",
      "['轉介', 'Idris']\n",
      "['先寄', 'IPO', '開戶', '來電', '客戶', '美金', '文件', '看到']\n",
      "['富邦', '外幣', '去電', '帳號', '確認', '台北']\n",
      "['女兒', '名字']\n"
     ]
    }
   ],
   "source": [
    "key_words = dict()\n",
    "cnt = 0\n",
    "for i in data:\n",
    "    for j in jieba.analyse.extract_tags(i[3]):\n",
    "        if j in key_words:\n",
    "            key_words[j] += 1\n",
    "        else:\n",
    "            key_words[j] = 1\n",
    "    cnt = cnt + 1\n",
    "    if cnt <=15:\n",
    "        print(jieba.analyse.extract_tags(i[3]))\n",
    "\n",
    "key_words = sorted(key_words.items(),key=operator.itemgetter(1))"
   ]
  },
  {
   "cell_type": "markdown",
   "metadata": {},
   "source": [
    "Now the above seems much more readable, although we may lose some of the information in the cutting stage. Some first thoughts upon seeing these datas.\n",
    "1. It is mostly key word oriented and thus many verbs are removed\n",
    "2. Given that it does mention some commodities, it is still hard to decide its intention.\n",
    "    * For example, '覺得', '計價', '6%', '收益', '美金', '短期', '全球' we don't know whether the customer wants to long or short 美金.\n",
    "3. There are unimportant verbs concerning selling commodities.\n",
    "    * 解釋, '收到', '請客'\n",
    "4. Abbreviations:\n",
    "    * 國世銀 $\\rightarrow$ 國泰世華銀行 ，富邦$\\rightarrow$ 富邦銀行\n",
    "    \n",
    "The following blocks will show the most commonly appeared word in the service record."
   ]
  },
  {
   "cell_type": "code",
   "execution_count": 26,
   "metadata": {},
   "outputs": [
    {
     "name": "stdout",
     "output_type": "stream",
     "text": [
      "('ECP', 440)\n",
      "('名單', 180)\n",
      "('開戶', 163)\n",
      "('Money', 148)\n",
      "('客戶', 122)\n",
      "('專刊', 92)\n",
      "('退休', 84)\n",
      "('電子報', 78)\n",
      "('訂閱', 78)\n",
      "('寄送', 76)\n",
      "('追蹤', 75)\n",
      "('分配', 65)\n",
      "('IPO', 65)\n",
      "('EC', 61)\n",
      "('轉介', 59)\n",
      "('寄回', 57)\n",
      "('家庭', 54)\n",
      "('收到', 47)\n",
      "('表單', 46)\n"
     ]
    },
    {
     "ename": "NameError",
     "evalue": "name 'key_' is not defined",
     "output_type": "error",
     "traceback": [
      "\u001b[0;31m---------------------------------------------------------------------------\u001b[0m",
      "\u001b[0;31mNameError\u001b[0m                                 Traceback (most recent call last)",
      "\u001b[0;32m<ipython-input-26-e96cdbd928c9>\u001b[0m in \u001b[0;36m<module>\u001b[0;34m\u001b[0m\n\u001b[1;32m      3\u001b[0m     \u001b[0mprint\u001b[0m\u001b[0;34m(\u001b[0m\u001b[0mkey_words\u001b[0m\u001b[0;34m[\u001b[0m\u001b[0;34m-\u001b[0m\u001b[0mi\u001b[0m\u001b[0;34m]\u001b[0m\u001b[0;34m)\u001b[0m\u001b[0;34m\u001b[0m\u001b[0m\n\u001b[1;32m      4\u001b[0m \u001b[0;34m\u001b[0m\u001b[0m\n\u001b[0;32m----> 5\u001b[0;31m \u001b[0mkey_\u001b[0m\u001b[0;34m\u001b[0m\u001b[0m\n\u001b[0m\u001b[1;32m      6\u001b[0m \u001b[0;34m\u001b[0m\u001b[0m\n\u001b[1;32m      7\u001b[0m \u001b[0mlen\u001b[0m\u001b[0;34m(\u001b[0m\u001b[0mkey_words\u001b[0m\u001b[0;34m)\u001b[0m\u001b[0;34m\u001b[0m\u001b[0m\n",
      "\u001b[0;31mNameError\u001b[0m: name 'key_' is not defined"
     ]
    }
   ],
   "source": [
    "for i in range(1,20):\n",
    "    \n",
    "    print(key_words[-i])\n",
    "\n",
    "key_\n",
    "    \n",
    "len(key_words)"
   ]
  },
  {
   "cell_type": "markdown",
   "metadata": {},
   "source": [
    "The above method doesn't seems to be a good idea. Since, applying key word count to different customer is useless.\n",
    "Lets look at what each customer is most interested in. Here we set a limit that a **regular** customer are those who at least called $3$ times."
   ]
  },
  {
   "cell_type": "code",
   "execution_count": 13,
   "metadata": {
    "scrolled": true
   },
   "outputs": [
    {
     "name": "stderr",
     "output_type": "stream",
     "text": [
      "/usr/local/lib/python3.5/dist-packages/ipykernel_launcher.py:29: SettingWithCopyWarning: \n",
      "A value is trying to be set on a copy of a slice from a DataFrame\n",
      "\n",
      "See the caveats in the documentation: http://pandas.pydata.org/pandas-docs/stable/indexing.html#indexing-view-versus-copy\n"
     ]
    },
    {
     "data": {
      "text/html": [
       "<div>\n",
       "<style scoped>\n",
       "    .dataframe tbody tr th:only-of-type {\n",
       "        vertical-align: middle;\n",
       "    }\n",
       "\n",
       "    .dataframe tbody tr th {\n",
       "        vertical-align: top;\n",
       "    }\n",
       "\n",
       "    .dataframe thead th {\n",
       "        text-align: right;\n",
       "    }\n",
       "</style>\n",
       "<table border=\"1\" class=\"dataframe\">\n",
       "  <thead>\n",
       "    <tr style=\"text-align: right;\">\n",
       "      <th></th>\n",
       "      <th>Customer ID</th>\n",
       "      <th>Call time</th>\n",
       "      <th>tags</th>\n",
       "    </tr>\n",
       "  </thead>\n",
       "  <tbody>\n",
       "    <tr>\n",
       "      <th>0</th>\n",
       "      <td>AA2861</td>\n",
       "      <td>2</td>\n",
       "      <td>[人民幣, 姐姐, 先寄, 轉介, IPO, 期債, Q1, 銀行, vivian, 資料,...</td>\n",
       "    </tr>\n",
       "    <tr>\n",
       "      <th>1</th>\n",
       "      <td>AA3024</td>\n",
       "      <td>1</td>\n",
       "      <td>[台幣, 興趣, 對債, LINE, 基富通, 客戶, 只作, 好友, 不作, 境外]</td>\n",
       "    </tr>\n",
       "    <tr>\n",
       "      <th>2</th>\n",
       "      <td>AA3476</td>\n",
       "      <td>1</td>\n",
       "      <td>[現場, 富邦, 182313, EC, 兒子, 服務, 先買, 開戶, 一本萬利, 協助,...</td>\n",
       "    </tr>\n",
       "    <tr>\n",
       "      <th>3</th>\n",
       "      <td>AA7870</td>\n",
       "      <td>2</td>\n",
       "      <td>[ECP, 生日, 下亞高, 今天]</td>\n",
       "    </tr>\n",
       "    <tr>\n",
       "      <th>4</th>\n",
       "      <td>AA2285</td>\n",
       "      <td>2</td>\n",
       "      <td>[媽媽, 313128, 開戶, 呂張, 板信, 台幣, 寄給, 成年, 傢俱, 先不開, ...</td>\n",
       "    </tr>\n",
       "    <tr>\n",
       "      <th>5</th>\n",
       "      <td>AA3533</td>\n",
       "      <td>2</td>\n",
       "      <td>[爸爸, 寄給, 環球, 開戶, 處理, 一銀, 商銀, 20, RSP, 家庭, 擔心, ...</td>\n",
       "    </tr>\n",
       "    <tr>\n",
       "      <th>6</th>\n",
       "      <td>AA2855</td>\n",
       "      <td>2</td>\n",
       "      <td>[比較, 能源, NN, 台運, 外幣, 特別, Q1, 台幣, 興趣, 介紹, 28887...</td>\n",
       "    </tr>\n",
       "    <tr>\n",
       "      <th>7</th>\n",
       "      <td>AA2868</td>\n",
       "      <td>1</td>\n",
       "      <td>[勾錯, Cherry, 快遞, 請客, 稅務, ECP, 美國, 風險, 要採, 修改, 居民]</td>\n",
       "    </tr>\n",
       "    <tr>\n",
       "      <th>8</th>\n",
       "      <td>AA7944</td>\n",
       "      <td>1</td>\n",
       "      <td>[缺填, ECP, 掛退, email, 信箱]</td>\n",
       "    </tr>\n",
       "    <tr>\n",
       "      <th>9</th>\n",
       "      <td>AA2885</td>\n",
       "      <td>1</td>\n",
       "      <td>[期債, Q1, IPO, 客戶, 四年]</td>\n",
       "    </tr>\n",
       "    <tr>\n",
       "      <th>10</th>\n",
       "      <td>AA3460</td>\n",
       "      <td>1</td>\n",
       "      <td>[電子報, 專刊, Money, 訂閱, 開戶, 名單, 寄送, 退休, 不要]</td>\n",
       "    </tr>\n",
       "    <tr>\n",
       "      <th>11</th>\n",
       "      <td>AA8011</td>\n",
       "      <td>1</td>\n",
       "      <td>[天母, 不用浪費, 很會問, 時間, 國泰, nn, 亞債, 銀行, 開戶, 經由, 不會...</td>\n",
       "    </tr>\n",
       "    <tr>\n",
       "      <th>12</th>\n",
       "      <td>AA3328</td>\n",
       "      <td>1</td>\n",
       "      <td>[台企, 電子報, 專刊, Money, 訂閱, 名單, 寄送, 退休]</td>\n",
       "    </tr>\n",
       "    <tr>\n",
       "      <th>13</th>\n",
       "      <td>AA3559</td>\n",
       "      <td>1</td>\n",
       "      <td>[說明, 家電, 線上, 回電, ID, 進門, OK, 手機, 改撥, 客戶, 開戶, 比...</td>\n",
       "    </tr>\n",
       "    <tr>\n",
       "      <th>14</th>\n",
       "      <td>AA3593</td>\n",
       "      <td>1</td>\n",
       "      <td>[轉介, 208, 土銀, 中信]</td>\n",
       "    </tr>\n",
       "  </tbody>\n",
       "</table>\n",
       "</div>"
      ],
      "text/plain": [
       "   Customer ID  Call time                                               tags\n",
       "0       AA2861          2  [人民幣, 姐姐, 先寄, 轉介, IPO, 期債, Q1, 銀行, vivian, 資料,...\n",
       "1       AA3024          1        [台幣, 興趣, 對債, LINE, 基富通, 客戶, 只作, 好友, 不作, 境外]\n",
       "2       AA3476          1  [現場, 富邦, 182313, EC, 兒子, 服務, 先買, 開戶, 一本萬利, 協助,...\n",
       "3       AA7870          2                                 [ECP, 生日, 下亞高, 今天]\n",
       "4       AA2285          2  [媽媽, 313128, 開戶, 呂張, 板信, 台幣, 寄給, 成年, 傢俱, 先不開, ...\n",
       "5       AA3533          2  [爸爸, 寄給, 環球, 開戶, 處理, 一銀, 商銀, 20, RSP, 家庭, 擔心, ...\n",
       "6       AA2855          2  [比較, 能源, NN, 台運, 外幣, 特別, Q1, 台幣, 興趣, 介紹, 28887...\n",
       "7       AA2868          1  [勾錯, Cherry, 快遞, 請客, 稅務, ECP, 美國, 風險, 要採, 修改, 居民]\n",
       "8       AA7944          1                           [缺填, ECP, 掛退, email, 信箱]\n",
       "9       AA2885          1                              [期債, Q1, IPO, 客戶, 四年]\n",
       "10      AA3460          1           [電子報, 專刊, Money, 訂閱, 開戶, 名單, 寄送, 退休, 不要]\n",
       "11      AA8011          1  [天母, 不用浪費, 很會問, 時間, 國泰, nn, 亞債, 銀行, 開戶, 經由, 不會...\n",
       "12      AA3328          1               [台企, 電子報, 專刊, Money, 訂閱, 名單, 寄送, 退休]\n",
       "13      AA3559          1  [說明, 家電, 線上, 回電, ID, 進門, OK, 手機, 改撥, 客戶, 開戶, 比...\n",
       "14      AA3593          1                                  [轉介, 208, 土銀, 中信]"
      ]
     },
     "execution_count": 13,
     "metadata": {},
     "output_type": "execute_result"
    }
   ],
   "source": [
    "regular_customer = []\n",
    "regular_thresh = 1 # Change the number to define what the lower limit should be.\n",
    "for i in unique_id_called:\n",
    "    if unique_id_called[i] >= regular_thresh:\n",
    "#         print(\"hit\")\n",
    "#         print(unique_id_called[i])\n",
    "        regular_customer.append(i)\n",
    "regular_customer = np.array(regular_customer)\n",
    "\n",
    "df1 = pd.DataFrame([x for x in unique_id_called if unique_id_called[x]>= regular_thresh],columns=['Customer ID'])\n",
    "df2 = pd.DataFrame([unique_id_called[x] for x in unique_id_called if unique_id_called[x]>= regular_thresh],columns=['Call time'])\n",
    "df3 = pd.DataFrame(list(\"abc\"),columns=['tags'])\n",
    "merged_df = pd.concat([df1,df2,df3],axis=1)\n",
    "\n",
    "cnt = 0\n",
    "print_limt = 15 # update this to print more customers\n",
    "\n",
    "for i in regular_customer:\n",
    "    tag = list()\n",
    "    # go through the data and find all those that matches \"i\"\n",
    "    for j in data:\n",
    "        if j[1] == i:\n",
    "            # Change the method of cutting here.\n",
    "            # I am using keyword search right now, which maybe somehow inaccurate considering the given data.\n",
    "            tag.append(jieba.analyse.extract_tags( j[3]))\n",
    "    \n",
    "    \n",
    "    tag = [item for sublist in tag for item in sublist]\n",
    "    merged_df[\"tags\"][cnt] = tag\n",
    "    cnt += 1\n",
    "merged_df.head(n=15)"
   ]
  },
  {
   "cell_type": "markdown",
   "metadata": {},
   "source": [
    "The above shows how the merged dataframe. In the last column, it shows the tags \"jieba\" has cut off. Also, it is a merged version of all of the appeared tag."
   ]
  },
  {
   "cell_type": "markdown",
   "metadata": {},
   "source": [
    "The most reasonable way I think to conduct the EDA, would be to bring in some Hypothesis Testing techniques into this. However, most of those theory are applied to data concerning interval data or nominal data. That is, if we want a more theoretical explanatory about the data, it will be harder to prove.\n",
    "\n",
    "Besides, we really lack in the amount of data. 1000 entries can not really show anything, especially there are about 500 unique ids."
   ]
  },
  {
   "cell_type": "code",
   "execution_count": 27,
   "metadata": {},
   "outputs": [],
   "source": [
    "# np.array(data[:,3])"
   ]
  }
 ],
 "metadata": {
  "kernelspec": {
   "display_name": "Python 3",
   "language": "python",
   "name": "python3"
  },
  "language_info": {
   "codemirror_mode": {
    "name": "ipython",
    "version": 3
   },
   "file_extension": ".py",
   "mimetype": "text/x-python",
   "name": "python",
   "nbconvert_exporter": "python",
   "pygments_lexer": "ipython3",
   "version": "3.5.3"
  }
 },
 "nbformat": 4,
 "nbformat_minor": 2
}
