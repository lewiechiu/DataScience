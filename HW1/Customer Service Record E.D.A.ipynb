{
 "cells": [
  {
   "cell_type": "code",
   "execution_count": 1,
   "metadata": {},
   "outputs": [
    {
     "name": "stderr",
     "output_type": "stream",
     "text": [
      "/home/louiechiu/anaconda3/lib/python3.6/importlib/_bootstrap.py:219: RuntimeWarning: numpy.ufunc size changed, may indicate binary incompatibility. Expected 216, got 192\n",
      "  return f(*args, **kwds)\n"
     ]
    }
   ],
   "source": [
    "import jieba\n",
    "jieba.set_dictionary('ChineseDictionary/dict.txt.big')\n",
    "import numpy as np\n",
    "import pandas as pd\n",
    "import operator\n",
    "import matplotlib.pyplot as plt\n",
    "%matplotlib inline\n",
    "data = pd.read_excel(\"customer_record_data.xlsx\")"
   ]
  },
  {
   "cell_type": "code",
   "execution_count": 2,
   "metadata": {},
   "outputs": [
    {
     "data": {
      "text/html": [
       "<div>\n",
       "<style scoped>\n",
       "    .dataframe tbody tr th:only-of-type {\n",
       "        vertical-align: middle;\n",
       "    }\n",
       "\n",
       "    .dataframe tbody tr th {\n",
       "        vertical-align: top;\n",
       "    }\n",
       "\n",
       "    .dataframe thead th {\n",
       "        text-align: right;\n",
       "    }\n",
       "</style>\n",
       "<table border=\"1\" class=\"dataframe\">\n",
       "  <thead>\n",
       "    <tr style=\"text-align: right;\">\n",
       "      <th></th>\n",
       "      <th>類別</th>\n",
       "      <th>Unique ID</th>\n",
       "      <th>資料日期</th>\n",
       "      <th>客戶事件描述</th>\n",
       "    </tr>\n",
       "  </thead>\n",
       "  <tbody>\n",
       "    <tr>\n",
       "      <th>0</th>\n",
       "      <td>Call Out</td>\n",
       "      <td>AA2765</td>\n",
       "      <td>20180102 141000</td>\n",
       "      <td>[ECP] 去電確認開戶文件 客戶說後來去買美元保單就不開戶了</td>\n",
       "    </tr>\n",
       "    <tr>\n",
       "      <th>1</th>\n",
       "      <td>Call Out</td>\n",
       "      <td>AA3910</td>\n",
       "      <td>20180102 144300</td>\n",
       "      <td>[ECP]不方說  IPO MAIL</td>\n",
       "    </tr>\n",
       "    <tr>\n",
       "      <th>2</th>\n",
       "      <td>Call Out</td>\n",
       "      <td>AA3167</td>\n",
       "      <td>20180102 154500</td>\n",
       "      <td>[ECP] IPO 忙 先MAIL</td>\n",
       "    </tr>\n",
       "    <tr>\n",
       "      <th>3</th>\n",
       "      <td>Call Out</td>\n",
       "      <td>AA2355</td>\n",
       "      <td>20180102 194359</td>\n",
       "      <td>家庭戶 媽媽說女兒不開了，因為打工收入不穩定</td>\n",
       "    </tr>\n",
       "    <tr>\n",
       "      <th>4</th>\n",
       "      <td>Call Out</td>\n",
       "      <td>AA2778</td>\n",
       "      <td>20180103 111132</td>\n",
       "      <td>推Q1</td>\n",
       "    </tr>\n",
       "  </tbody>\n",
       "</table>\n",
       "</div>"
      ],
      "text/plain": [
       "         類別 Unique ID             資料日期                           客戶事件描述\n",
       "0  Call Out    AA2765  20180102 141000  [ECP] 去電確認開戶文件 客戶說後來去買美元保單就不開戶了\n",
       "1  Call Out    AA3910  20180102 144300               [ECP]不方說  IPO MAIL\n",
       "2  Call Out    AA3167  20180102 154500                [ECP] IPO 忙 先MAIL\n",
       "3  Call Out    AA2355  20180102 194359           家庭戶 媽媽說女兒不開了，因為打工收入不穩定\n",
       "4  Call Out    AA2778  20180103 111132                              推Q1"
      ]
     },
     "execution_count": 2,
     "metadata": {},
     "output_type": "execute_result"
    }
   ],
   "source": [
    "data.head()"
   ]
  },
  {
   "cell_type": "markdown",
   "metadata": {},
   "source": [
    "First, lets see how many unique IDs are there in the record"
   ]
  },
  {
   "cell_type": "code",
   "execution_count": 3,
   "metadata": {},
   "outputs": [
    {
     "name": "stdout",
     "output_type": "stream",
     "text": [
      "Amount of Unique IDs: 572\n"
     ]
    }
   ],
   "source": [
    "data = np.array(data)\n",
    "unique_ids = set(data[:,1])\n",
    "print(\"Amount of Unique IDs: \"+str(len(unique_ids)))"
   ]
  },
  {
   "cell_type": "markdown",
   "metadata": {},
   "source": [
    "Then we count times of the ID (we will call it customer) had called."
   ]
  },
  {
   "cell_type": "code",
   "execution_count": 19,
   "metadata": {
    "scrolled": true
   },
   "outputs": [
    {
     "name": "stdout",
     "output_type": "stream",
     "text": [
      "called 1 time(s) for 350 times\n",
      "called 2 time(s) for 123 times\n",
      "called 3 time(s) for 50 times\n",
      "called 4 time(s) for 20 times\n",
      "called 5 time(s) for 15 times\n",
      "called 6 time(s) for 8 times\n",
      "called 7 time(s) for 4 times\n",
      "called 8 time(s) for 1 times\n",
      "called 14 time(s) for 1 times\n"
     ]
    }
   ],
   "source": [
    "unique_id_called = dict()\n",
    "for i in data:\n",
    "    if i[1] in unique_id_called:\n",
    "        unique_id_called[i[1]] += 1\n",
    "    else:\n",
    "        unique_id_called[i[1]] = 1\n",
    "\n",
    "sorted_unique_id_called = sorted(unique_id_called.items(),key=operator.itemgetter(1))\n",
    "# for i in range(1,len(unique_id_called)):\n",
    "#     print(sorted_unique_id_called[-i])\n",
    "\n",
    "draw_hist = dict()\n",
    "for i in sorted_unique_id_called:\n",
    "    if i[1] in draw_hist:\n",
    "        draw_hist[i[1]] += 1\n",
    "    else:\n",
    "        draw_hist[i[1]] = 1\n",
    "        \n",
    "keys = np.array(list(draw_hist.keys()))\n",
    "values = np.array(list(draw_hist.values( ) ) )\n",
    "for i in range(len(keys)):\n",
    "    print(\"called\",keys[i],\"time(s) for\",values[i],\"times\")\n"
   ]
  },
  {
   "cell_type": "markdown",
   "metadata": {},
   "source": [
    "Now, we look at some of the most common word in the message section."
   ]
  },
  {
   "cell_type": "code",
   "execution_count": 5,
   "metadata": {},
   "outputs": [
    {
     "name": "stderr",
     "output_type": "stream",
     "text": [
      "Building prefix dict from /home/louiechiu/DataScience/HW1/ChineseDictionary/dict.txt.big ...\n",
      "Dumping model to file cache /tmp/jieba.ufef726f4388956d883eb10c0b6214106.cache\n",
      "Loading model cost 1.651 seconds.\n",
      "Prefix dict has been built succesfully.\n"
     ]
    },
    {
     "name": "stdout",
     "output_type": "stream",
     "text": [
      "['[', 'ECP', ']', ' ', '去電', '確認', '開戶', '文件', ' ', '客戶', '說', '後來', '去', '買', '美元', '保單', '就', '不', '開戶', '了']\n",
      "['[', 'ECP', ']', '不方', '說', ' ', ' ', 'IPO', ' ', 'MAIL']\n",
      "['[', 'ECP', ']', ' ', 'IPO', ' ', '忙', ' ', '先', 'MAIL']\n",
      "['家庭', '戶', ' ', '媽媽', '說', '女兒', '不開', '了', '，', '因為', '打工', '收入', '不', '穩定']\n",
      "['推', 'Q1']\n",
      "['兒子', '要', '開戶', '未成年', ',', '不願辦', '網路', '要', '單筆', '買', '亞太', '複合', '債', '.']\n",
      "['林', 'O', '屏', '216022', ' ', '家庭', '戶', ' ', '有', '可能', '有', '這戶', '下單', '又', '嫌', '麻煩']\n",
      "['台幣', ' ', '瑞興', ' ', '轉介', '208']\n",
      "['想', '買', '基金', ' ', '推', 'EC', ' ', '轉介', '之']\n",
      "['某', '小姐', '要', '買', 'nnl', '新興', '市場', '債', ' ', '美元', '買', ' ']\n",
      "['[', 'ECP', ']', '可能', '買回', ' ', ' ', '積', ' ', '單', ' ', '可以', '忍', '波動']\n",
      "['Idris', '轉介']\n",
      "['客戶', '來電', '說', '看到', '4', '年', 'IPO', ' ', '要', '美金', '的', ' ', '先寄', '開戶', '文件']\n",
      "['去電', '確認', '外幣', '帳號', '是', '台北', '富邦']\n",
      "['要', '用', '女兒', '名字', '開']\n"
     ]
    }
   ],
   "source": [
    "import jieba.analyse\n",
    "jieba.enable_parallel(8)\n",
    "cnt = 0\n",
    "for i in data:\n",
    "    cnt = cnt + 1\n",
    "    if cnt <= 15:\n",
    "        print(jieba.lcut(i[3]))"
   ]
  },
  {
   "cell_type": "markdown",
   "metadata": {},
   "source": [
    "From the above we can see what is segmented. It is apparently some kind of junk. SO, instead, we search for keywords."
   ]
  },
  {
   "cell_type": "code",
   "execution_count": 6,
   "metadata": {},
   "outputs": [
    {
     "name": "stdout",
     "output_type": "stream",
     "text": [
      "['開戶', 'ECP', '去電', '確認', '客戶', '後來', '保單', '文件', '美元']\n",
      "['ECP', '不方', 'IPO', 'MAIL']\n",
      "['ECP', 'IPO', 'MAIL']\n",
      "['媽媽', '女兒', '不開', '因為', '穩定', '打工', '家庭', '收入']\n",
      "['Q1']\n",
      "['兒子', '開戶', '不願辦', '網路', '單筆', '亞太', '複合', '未成年']\n",
      "['216022', '這戶', '下單', '麻煩', '家庭', '可能']\n",
      "['台幣', '瑞興', '轉介', '208']\n",
      "['EC', '轉介', '基金']\n",
      "['nnl', '新興', '市場', '小姐', '美元']\n",
      "['ECP', '買回', '波動', '可能', '可以']\n",
      "['Idris', '轉介']\n",
      "['先寄', '客戶', '來電', 'IPO', '開戶', '美金', '文件', '看到']\n",
      "['去電', '確認', '外幣', '帳號', '富邦', '台北']\n",
      "['女兒', '名字']\n"
     ]
    }
   ],
   "source": [
    "key_words = dict()\n",
    "cnt = 0\n",
    "for i in data:\n",
    "    for j in jieba.analyse.extract_tags(i[3]):\n",
    "        if j in key_words:\n",
    "            key_words[j] += 1\n",
    "        else:\n",
    "            key_words[j] = 1\n",
    "    cnt = cnt + 1\n",
    "    if cnt <=15:\n",
    "        print(jieba.analyse.extract_tags(i[3]))\n",
    "\n",
    "key_words = sorted(key_words.items(),key=operator.itemgetter(1))"
   ]
  },
  {
   "cell_type": "markdown",
   "metadata": {},
   "source": [
    "Now the above seems much more readable, although we may lose some of the information in the cutting stage. Some first thoughts upon seeing these datas.\n",
    "1. It is mostly key word oriented and thus many verbs are removed\n",
    "2. Given that it does mention some commodities, it is still hard to decide its intention.\n",
    "    * For example, '覺得', '計價', '6%', '收益', '美金', '短期', '全球' we don't know whether the customer wants to long or short 美金.\n",
    "3. There are unimportant verbs concerning selling commodities.\n",
    "    * 解釋, '收到', '請客'\n",
    "4. Abbreviations:\n",
    "    * 國世銀 $\\rightarrow$ 國泰世華銀行 ，富邦$\\rightarrow$ 富邦銀行\n",
    "    \n",
    "The following blocks will show the most commonly appeared word in the service record."
   ]
  },
  {
   "cell_type": "code",
   "execution_count": 7,
   "metadata": {},
   "outputs": [
    {
     "name": "stdout",
     "output_type": "stream",
     "text": [
      "('ECP', 441)\n",
      "('名單', 180)\n",
      "('開戶', 163)\n",
      "('Money', 148)\n",
      "('客戶', 122)\n",
      "('專刊', 92)\n",
      "('退休', 84)\n",
      "('訂閱', 78)\n",
      "('電子報', 78)\n",
      "('寄送', 76)\n",
      "('追蹤', 74)\n",
      "('分配', 65)\n",
      "('IPO', 65)\n",
      "('EC', 62)\n",
      "('轉介', 59)\n",
      "('寄回', 57)\n",
      "('家庭', 54)\n",
      "('收到', 47)\n",
      "('表單', 46)\n"
     ]
    }
   ],
   "source": [
    "for i in range(1,20):\n",
    "    \n",
    "    print(key_words[-i])"
   ]
  },
  {
   "cell_type": "markdown",
   "metadata": {},
   "source": [
    "The above method doesn't seems to be a good idea. Since, applying key word count to different customer is useless.\n",
    "Lets look at what each customer is most interested in. Here we set a limit that a **regular** customer are those who at least called $3$ times."
   ]
  },
  {
   "cell_type": "code",
   "execution_count": 36,
   "metadata": {},
   "outputs": [
    {
     "data": {
      "text/plain": [
       "array(['AA3910', 'AA3167', 'AA2355', 'AA2829', 'AA2833', 'AA8654',\n",
       "       'AA2453', 'AA2852', 'AA0263', 'AA9022', 'AA3548', 'AA2874',\n",
       "       'AA4372', 'AA2895', 'AA2904', 'AA2903', 'AA2932', 'AA2688',\n",
       "       'AA2690', 'AA5153', 'AA9175', 'AA2293', 'AA2943', 'AA8978',\n",
       "       'AA2948', 'AA2952', 'AA2953', 'AA2764', 'AA1049', 'AA2979',\n",
       "       'AA2980', 'AA2968', 'AA2986', 'AA3006', 'AA8303', 'AA3042',\n",
       "       'AA3048', 'AA3052', 'AA8766', 'AA0557', 'AA5617', 'AA3312',\n",
       "       'AA4254', 'AA4199', 'AA3735', 'AA2388', 'AA1538', 'AA9122',\n",
       "       'AA6076', 'AA5297', 'AA9427', 'AA3170', 'AA9094', 'AA3176',\n",
       "       'AA2505', 'AA3180', 'AA3190', 'AA3210', 'AA3301', 'AA3313',\n",
       "       'AA3336', 'AA3358', 'AA3364', 'AA3367', 'AA3404', 'AA3424',\n",
       "       'AA3488', 'AA0329', 'AA3474', 'AA3497', 'AA3509', 'AA3521',\n",
       "       'AA3525', 'AA3535', 'AA3537', 'AA3542', 'AA2208', 'AA3541',\n",
       "       'AA3571', 'AA3586', 'AA3588', 'AA3594', 'AA3567', 'AA3596',\n",
       "       'AA3599', 'AA3622', 'AA3629', 'AA3633', 'AA3637', 'AA3638',\n",
       "       'AA5576', 'AA7534', 'AA7485', 'AA8459', 'AA3718', 'AA7541',\n",
       "       'AA3732', 'AA0546', 'AA3678'], dtype='<U6')"
      ]
     },
     "execution_count": 36,
     "metadata": {},
     "output_type": "execute_result"
    }
   ],
   "source": [
    "regular_customer = []\n",
    "for i in unique_id_called:\n",
    "    if unique_id_called[i] >=3:\n",
    "#         print(\"hit\")\n",
    "        regular_customer.append(i)\n",
    "regular_customer = np.array(regular_customer)\n",
    "regular_customer"
   ]
  },
  {
   "cell_type": "code",
   "execution_count": 49,
   "metadata": {
    "scrolled": true
   },
   "outputs": [
    {
     "name": "stdout",
     "output_type": "stream",
     "text": [
      "\n",
      "AA3910\n",
      "['ECP', '不方', 'IPO', 'MAIL']['ECP', '問鋒裕要', '不要']['ECP', '帳單', '會回', '因不常家', '有空']\n",
      "AA3167\n",
      "['ECP', 'IPO', 'MAIL']['ECP', '來不及', '當日', '120', '客戶', '再補', '紅利', '點數', '給他', '被扣', '美金', '取消', '交易', '一些']['ECP', '債市', '興趣', '還是', 'IPO', '可以']\n",
      "AA2355\n",
      "['媽媽', '女兒', '不開', '因為', '穩定', '打工', '家庭', '收入']['EC', '電娘', '追蹤', '再重']['EC', '電娘', '追蹤', '娘表', '開戶', '本人']\n",
      "AA2829\n",
      "['先寄', '客戶', '來電', 'IPO', '開戶', '美金', '文件', '看到']['去電', '確認', '外幣', '帳號', '富邦', '台北']['ECP', '確認', '開戶', '客戶', '文件']['客戶', 'ECP', '去電', '沒收', '開戶', '提醒', '文件', '最近', '一下']\n",
      "AA2833\n",
      "['IPO', '書面', '通訊', '四年', '美元']['Stock', '10', '22', '進線', '詢問', 'PASS', '年期', '看到']['討論一下', '比較', '沒有', '興趣', 'IPO', '先生', '四年']\n",
      "AA8654\n",
      "['Q1', '印度']['CRSP', '多天']['申購', '手續費', '3000', '寄至', 'ECP', '客戶', '反應', '系統', '備份', '寄件', '內容', '價款', '請客', '戶若', '回覆', '信箱', '客服', '找出', '方便', '昨天']['ECP', '沒有', '手續費', '客戶', '誤看', '欄位', '信函', '交易']['ECP', 'IPO', '中債', '資金', 'DM', '書面']\n",
      "AA2453\n",
      "['ECP', 'IPO', '打給', '二天']['推荷', '天亞', 'NN', '新債', '美元', '只有', '目前']['ECP', '轉亞高', '愛美', '債轉', 'NN', '新債', '多元']['IPO', '中債', '告知']['ECP', '中國', '荷中']['ROBO', '70']\n",
      "AA2852\n",
      "['手續費', '年期', '50', '人民幣', '銀行', '類似', '有收', '兆豐', '沒收', '轉介', '208', '商品']['IPO', '人幣', '5.0', 'NN', '新債', '10', '會來', '現場']['ECP', '聯絡', '收到']['ECP', '不買', '定存', '基金']['ECP', 'ipox']\n",
      "AA0263\n",
      "['進線', 'IPO', '沒有', '要理專', '回電', 'mail']['ECP', 'IPO', '機會', '美元']['已開', 'ipo', 'edm', 'mail']['ECP', '買亞債', '可意']\n",
      "AA9022\n",
      "['客戶', 'ECP', '回電', '指導', '環高', '轉到', 'APHY', '月配']['ECP', '回電', '客戶', '手機', '收訊', '改撥', '住家', '不好']['ECP', '來電', '優惠', '客戶', '習慣', '定時', '定額', '請客', '改扣', '中國', '境內', 'mail', '參考', '高科', '告知']['爸爸', '引導', '10', '18', '16', '37', '15', '58', '手機', '投資', '處理', '撥家裡', '終於', '15754', '兒子', '再考', '公職', '沒有', '停扣', '會扣']['說明', '市場', '概況', 'ECP', '11', '15', '17', '43', '家電', 'ROBO', '參考', '本人', '可以']\n",
      "AA3548\n",
      "['ECP', '接聽', 'IPO', '客戶', '說會', '上網', '打住', '本人', '自己']['ECP', '獲利', '開始', '贖回', '現金', '過年', '台灣並', '沒有', '開盤', '還是', '有講', '優惠', '新春', '打住', '本人', '月底', '身上']['ECP', '家電', '簡單', '優質', '10', '觸發', '客戶', '頻頻', '想掛', '電話', 'EMAIL', '超級', '活動', '試試看', '中小', '本人', '提醒', '品牌', '多次', '似乎']\n",
      "AA2874\n",
      "['ipo', '轉介', '208', '美金']['IPO', '50', '萬台幣', '0.4%', '不會', '投信給', '外幣', '中銀', '買回', '永豐', '美元', '其他']['金融債']\n",
      "AA4372\n",
      "['網路上', 'ipo', '美及', '機會', '線上', '先作', '境內', '再補', '經理', '1.5%', '告知', '境外', '一支', '之后']['cherry', '人及', '機會']['ECP', '確認', '掛號', '寄出', '文件']['ECP', '0.4%', 'IPO']['ECP', '電確', '家管', '期債', '申購', '已匯', '客人', '四年']['ECP', '亞債', '人民幣', '10', '0.3%', '要求']['ECP', '10', '人民幣', '0.3%', '下週', '單筆']['ECP', 'ABHY', 'ABP', '人民幣', '加一點', '到期', '可能']['ECP', '人民幣', '亞高', '130']['ECP', 'IPO', '信心']['ECP', '帳號', '過長', '掛退', '修正']['ECP', '電確', '有要', '異動', '指扣', '帳戶']['ECP', '本來', '有資', '年期', '想要', '需求']['ECP', '戶馬', '319381', '給他', '穩健', '家庭', '基金', '可以']\n",
      "AA2895\n",
      "['轉介', 'ipo', '經理', '1.5%', '第一天', '美元']['IPO', '208']['開戶', '告知', '可以']['ECP', '投資']\n",
      "AA2904\n",
      "['戶號', '260215', '來電', 'PASS', '小姐']['260215', '開戶', '小姐', '朋友']['朋友', '下週', '還是', '...', 'MGM', '活動', '寄回', '告知', '小孩', '小姐', '名字', '不知']['ECP', '說會', '聯絡', '開戶', '寄回', '小姐', '文件', '朋友', '是否']['ECP', '還是', '開戶', '小姐', '名字', '朋友', '知道']"
     ]
    }
   ],
   "source": [
    "cnt = 0\n",
    "print_limt = 15 # update this to print more customers\n",
    "for i in regular_customer:\n",
    "    cnt += 1\n",
    "    if cnt <= print_limt :\n",
    "        print()\n",
    "        print(i)\n",
    "    for j in data:\n",
    "        if j[1] == i and cnt <= print_limt :\n",
    "            print(jieba.analyse.extract_tags(j[3]),end='')"
   ]
  },
  {
   "cell_type": "code",
   "execution_count": null,
   "metadata": {},
   "outputs": [],
   "source": []
  }
 ],
 "metadata": {
  "kernelspec": {
   "display_name": "Python 3",
   "language": "python",
   "name": "python3"
  },
  "language_info": {
   "codemirror_mode": {
    "name": "ipython",
    "version": 3
   },
   "file_extension": ".py",
   "mimetype": "text/x-python",
   "name": "python",
   "nbconvert_exporter": "python",
   "pygments_lexer": "ipython3",
   "version": "3.6.6"
  }
 },
 "nbformat": 4,
 "nbformat_minor": 2
}
